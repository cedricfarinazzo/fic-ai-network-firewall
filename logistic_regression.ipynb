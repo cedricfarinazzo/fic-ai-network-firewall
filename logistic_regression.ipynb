{
 "cells": [
  {
   "cell_type": "code",
   "execution_count": null,
   "id": "896b1c2e",
   "metadata": {},
   "outputs": [],
   "source": [
    "!pip install requirements.txt\n",
    "from sklearn.feature_extraction.text import TfidfVectorizer\n",
    "import os\n",
    "from sklearn.model_selection import train_test_split\n",
    "from sklearn.linear_model import LogisticRegression\n",
    "from sklearn import metrics\n",
    "import urllib.parse\n",
    "import matplotlib.pyplot as plt"
   ]
  },
  {
   "cell_type": "code",
   "execution_count": null,
   "id": "471d170d",
   "metadata": {},
   "outputs": [],
   "source": []
  },
  {
   "cell_type": "code",
   "execution_count": null,
   "id": "532bb8dc",
   "metadata": {},
   "outputs": [],
   "source": [
    "## Loading data"
   ]
  },
  {
   "cell_type": "code",
   "execution_count": null,
   "id": "2552eb0b",
   "metadata": {},
   "outputs": [],
   "source": [
    "def loadFile(name):\n",
    "    filepath = os.path.join(str(os.getcwd()), name)\n",
    "    with open(filepath,'r') as f:\n",
    "        data = f.readlines()\n",
    "    return [str(urllib.parse.unquote(e)) for e in list(set(data))]"
   ]
  },
  {
   "cell_type": "code",
   "execution_count": null,
   "id": "5f4d2699",
   "metadata": {},
   "outputs": [],
   "source": [
    "badQueries = loadFile('badqueries.txt')\n",
    "\n",
    "badCount = len(badQueries)"
   ]
  },
  {
   "cell_type": "code",
   "execution_count": null,
   "id": "d0af3ed9",
   "metadata": {},
   "outputs": [],
   "source": [
    "validQueries = loadFile('goodqueries.txt')\n",
    "\n",
    "validCount = len(validQueries)"
   ]
  },
  {
   "cell_type": "code",
   "execution_count": null,
   "id": "51734185",
   "metadata": {},
   "outputs": [],
   "source": [
    "queries = badQueries + validQueries"
   ]
  },
  {
   "cell_type": "code",
   "execution_count": null,
   "id": "170b8e12",
   "metadata": {},
   "outputs": [],
   "source": [
    "print(\"bad: \", badCount)\n",
    "print(\"good: \", validCount)\n",
    "print(\"all: \", badCount + validCount)"
   ]
  },
  {
   "cell_type": "code",
   "execution_count": null,
   "id": "4de9d702",
   "metadata": {},
   "outputs": [],
   "source": [
    "yBad = [1 for i in range(0, len(badQueries))]  #labels, 1 for malicious and 0 for clean\n",
    "yGood = [0 for i in range(0, len(validQueries))]"
   ]
  },
  {
   "cell_type": "code",
   "execution_count": null,
   "id": "8dc323aa",
   "metadata": {},
   "outputs": [],
   "source": [
    "y = yBad + yGood"
   ]
  },
  {
   "cell_type": "code",
   "execution_count": null,
   "id": "ecfa268f",
   "metadata": {},
   "outputs": [],
   "source": []
  },
  {
   "cell_type": "code",
   "execution_count": null,
   "id": "0e809dd9",
   "metadata": {},
   "outputs": [],
   "source": [
    "## Preparing the dataset"
   ]
  },
  {
   "cell_type": "code",
   "execution_count": null,
   "id": "c81e1682",
   "metadata": {},
   "outputs": [],
   "source": [
    "vectorizer = TfidfVectorizer(min_df = 0.0, analyzer=\"char\", sublinear_tf=True, ngram_range=(1,3)) #converting data to vectors\n",
    "X = vectorizer.fit_transform(queries)"
   ]
  },
  {
   "cell_type": "code",
   "execution_count": null,
   "id": "96aebe2a",
   "metadata": {},
   "outputs": [],
   "source": [
    "X"
   ]
  },
  {
   "cell_type": "code",
   "execution_count": null,
   "id": "a8c8eeaf",
   "metadata": {},
   "outputs": [],
   "source": [
    "X_train, X_test, y_train, y_test = train_test_split(X, y, test_size=0.2, random_state=42) #splitting data"
   ]
  },
  {
   "cell_type": "code",
   "execution_count": null,
   "id": "1263571b",
   "metadata": {},
   "outputs": [],
   "source": []
  },
  {
   "cell_type": "code",
   "execution_count": null,
   "id": "0144d21e",
   "metadata": {},
   "outputs": [],
   "source": [
    "## Training"
   ]
  },
  {
   "cell_type": "code",
   "execution_count": null,
   "id": "1926f6e8",
   "metadata": {},
   "outputs": [],
   "source": [
    "lgs = LogisticRegression(class_weight={1: 2 * validCount / badCount, 0: 1.0}) # class_weight='balanced')\n",
    "lgs.fit(X_train, y_train) #training our model"
   ]
  },
  {
   "cell_type": "code",
   "execution_count": null,
   "id": "df510cd8",
   "metadata": {},
   "outputs": [],
   "source": []
  },
  {
   "cell_type": "code",
   "execution_count": null,
   "id": "e8260d54",
   "metadata": {},
   "outputs": [],
   "source": [
    "## Metrics"
   ]
  },
  {
   "cell_type": "code",
   "execution_count": null,
   "id": "3477e6d6",
   "metadata": {},
   "outputs": [],
   "source": [
    "predicted = lgs.predict(X_test)"
   ]
  },
  {
   "cell_type": "code",
   "execution_count": null,
   "id": "71a6c388",
   "metadata": {},
   "outputs": [],
   "source": [
    "fpr, tpr, _ = metrics.roc_curve(y_test, (lgs.predict_proba(X_test)[:, 1]))\n",
    "auc = metrics.auc(fpr, tpr)"
   ]
  },
  {
   "cell_type": "code",
   "execution_count": null,
   "id": "f12ec18d",
   "metadata": {},
   "outputs": [],
   "source": [
    "print(\"Bad samples: %d\" % badCount)\n",
    "print(\"Good samples: %d\" % validCount)\n",
    "print(\"Baseline Constant negative: %.6f\" % (validCount / (validCount + badCount)))\n",
    "print(\"------------\")\n",
    "print(\"Accuracy: %f\" % lgs.score(X_test, y_test))  #checking the accuracy\n",
    "print(\"Precision: %f\" % metrics.precision_score(y_test, predicted))\n",
    "print(\"Recall: %f\" % metrics.recall_score(y_test, predicted))\n",
    "print(\"F1-Score: %f\" % metrics.f1_score(y_test, predicted))\n",
    "print(\"AUC: %f\" % auc)"
   ]
  },
  {
   "cell_type": "code",
   "execution_count": null,
   "id": "ef8143fa",
   "metadata": {},
   "outputs": [],
   "source": []
  },
  {
   "cell_type": "code",
   "execution_count": null,
   "id": "9c94b7da",
   "metadata": {},
   "outputs": [],
   "source": [
    "## Testing"
   ]
  },
  {
   "cell_type": "code",
   "execution_count": null,
   "id": "a04c3c70",
   "metadata": {},
   "outputs": [],
   "source": [
    "url = \"index.php?q=../../../../../../../../../etc/passwd\"\n",
    "X_url = vectorizer.transform([url])\n",
    "url_predicted = lgs.predict(X_url)\n",
    "print(\"Is bad ?\", bool(url_predicted[0]))"
   ]
  },
  {
   "cell_type": "code",
   "execution_count": null,
   "id": "32708ce1",
   "metadata": {},
   "outputs": [],
   "source": [
    "url = \"index.php?q=toto\"\n",
    "X_url = vectorizer.transform([url])\n",
    "url_predicted = lgs.predict(X_url)\n",
    "print(\"Is bad ?\", bool(url_predicted[0]))"
   ]
  }
 ],
 "metadata": {
  "kernelspec": {
   "display_name": "Python 3",
   "language": "python",
   "name": "python3"
  },
  "language_info": {
   "codemirror_mode": {
    "name": "ipython",
    "version": 3
   },
   "file_extension": ".py",
   "mimetype": "text/x-python",
   "name": "python",
   "nbconvert_exporter": "python",
   "pygments_lexer": "ipython3",
   "version": "3.6.14"
  }
 },
 "nbformat": 4,
 "nbformat_minor": 5
}
