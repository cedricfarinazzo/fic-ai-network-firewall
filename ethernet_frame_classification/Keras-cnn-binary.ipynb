{
 "cells": [
  {
   "cell_type": "code",
   "execution_count": 1,
   "id": "fa0d8b60",
   "metadata": {},
   "outputs": [],
   "source": [
    "import os\n",
    "import nest_asyncio\n",
    "nest_asyncio.apply()\n",
    "\n",
    "import pyshark\n",
    "\n",
    "import numpy as np\n",
    "from PIL import Image\n",
    "\n",
    "from sklearn.model_selection import train_test_split\n",
    "import numpy as np\n",
    "import tensorflow as tf\n",
    "from tensorflow.keras.preprocessing.text import Tokenizer\n",
    "from tensorflow.keras.models import Sequential\n",
    "from tensorflow.keras.layers import Dense, LSTM, Flatten, Conv2D, MaxPooling2D\n",
    "from tensorflow.keras.optimizers import SGD\n",
    "\n",
    "import matplotlib.pyplot as plt"
   ]
  },
  {
   "cell_type": "code",
   "execution_count": 2,
   "id": "1c56b97d",
   "metadata": {},
   "outputs": [
    {
     "name": "stdout",
     "output_type": "stream",
     "text": [
      "time: 146 µs (started: 2021-07-31 20:40:17 +02:00)\n"
     ]
    }
   ],
   "source": [
    "%matplotlib inline\n",
    "%load_ext autotime"
   ]
  },
  {
   "cell_type": "code",
   "execution_count": 3,
   "id": "fa49692f",
   "metadata": {},
   "outputs": [
    {
     "name": "stdout",
     "output_type": "stream",
     "text": [
      "time: 193 µs (started: 2021-07-31 20:40:17 +02:00)\n"
     ]
    }
   ],
   "source": [
    "## Loading data"
   ]
  },
  {
   "cell_type": "code",
   "execution_count": 4,
   "id": "a1466651",
   "metadata": {},
   "outputs": [
    {
     "name": "stdout",
     "output_type": "stream",
     "text": [
      "time: 706 µs (started: 2021-07-31 20:40:17 +02:00)\n"
     ]
    }
   ],
   "source": [
    "def loadDataset(path, extraId=\"\"):\n",
    "    cap = pyshark.FileCapture(path, use_json=True, include_raw=True)\n",
    "    cap.load_packets()\n",
    "    raw_data_list = [c.get_raw_packet() for c in cap]\n",
    "\n",
    "    dataset = []\n",
    "    \n",
    "    for raw_data in raw_data_list:\n",
    "        arr = np.zeros((75, 20, 3), dtype=np.uint8)\n",
    "        x, y = 0, 0\n",
    "        for e in raw_data:\n",
    "            arr[x, y] = [e, e, e]\n",
    "            x += 1\n",
    "            if x == 75:\n",
    "                x = 0\n",
    "                y += 1\n",
    "            if y == 20:\n",
    "                break\n",
    "        dataset.append(arr)  \n",
    "    return np.asarray(dataset)"
   ]
  },
  {
   "cell_type": "code",
   "execution_count": 5,
   "id": "11b464c9",
   "metadata": {},
   "outputs": [
    {
     "name": "stdout",
     "output_type": "stream",
     "text": [
      "time: 234 µs (started: 2021-07-31 20:40:17 +02:00)\n"
     ]
    }
   ],
   "source": [
    "def frameToImg(frame):\n",
    "    return Image.fromarray(frame, 'RGB')"
   ]
  },
  {
   "cell_type": "code",
   "execution_count": 6,
   "id": "d386ab48",
   "metadata": {},
   "outputs": [
    {
     "name": "stdout",
     "output_type": "stream",
     "text": [
      "time: 1min 28s (started: 2021-07-31 20:40:17 +02:00)\n"
     ]
    }
   ],
   "source": [
    "badQueries = loadDataset('./dataset/badHttpQueriesFiltered.pcap')\n",
    "\n",
    "badCount = len(badQueries)"
   ]
  },
  {
   "cell_type": "code",
   "execution_count": 7,
   "id": "568d7780",
   "metadata": {},
   "outputs": [
    {
     "data": {
      "text/plain": [
       "153824"
      ]
     },
     "execution_count": 7,
     "metadata": {},
     "output_type": "execute_result"
    },
    {
     "name": "stdout",
     "output_type": "stream",
     "text": [
      "time: 5.34 ms (started: 2021-07-31 20:41:46 +02:00)\n"
     ]
    }
   ],
   "source": [
    "badCount"
   ]
  },
  {
   "cell_type": "code",
   "execution_count": 8,
   "id": "5c40f3ad",
   "metadata": {},
   "outputs": [
    {
     "data": {
      "image/png": "[encoded data removed]",
      "text/plain": [
       "<Figure size 720x720 with 25 Axes>"
      ]
     },
     "metadata": {},
     "output_type": "display_data"
    },
    {
     "name": "stdout",
     "output_type": "stream",
     "text": [
      "time: 447 ms (started: 2021-07-31 20:41:46 +02:00)\n"
     ]
    }
   ],
   "source": [
    "plt.figure(figsize=(10,10))\n",
    "for i in range(25):\n",
    "    plt.subplot(5,5,i+1)\n",
    "    plt.xticks([])\n",
    "    plt.yticks([])\n",
    "    plt.grid(False)\n",
    "    plt.imshow(frameToImg(badQueries[i]))\n",
    "plt.show()"
   ]
  },
  {
   "cell_type": "code",
   "execution_count": null,
   "id": "23de637e",
   "metadata": {},
   "outputs": [],
   "source": []
  },
  {
   "cell_type": "code",
   "execution_count": 9,
   "id": "b05522bc",
   "metadata": {},
   "outputs": [
    {
     "name": "stdout",
     "output_type": "stream",
     "text": [
      "time: 1min 33s (started: 2021-07-31 20:41:46 +02:00)\n"
     ]
    }
   ],
   "source": [
    "validQueries = loadDataset('./dataset/goodHttpQueriesFiltered.pcap')\n",
    "\n",
    "validCount = len(validQueries)"
   ]
  },
  {
   "cell_type": "code",
   "execution_count": 10,
   "id": "4f5b8bff",
   "metadata": {},
   "outputs": [
    {
     "data": {
      "text/plain": [
       "148962"
      ]
     },
     "execution_count": 10,
     "metadata": {},
     "output_type": "execute_result"
    },
    {
     "name": "stdout",
     "output_type": "stream",
     "text": [
      "time: 1.72 ms (started: 2021-07-31 20:43:20 +02:00)\n"
     ]
    }
   ],
   "source": [
    "validCount"
   ]
  },
  {
   "cell_type": "code",
   "execution_count": 11,
   "id": "aa345433",
   "metadata": {},
   "outputs": [
    {
     "data": {
      "image/png": "[encoded data removed]",
      "text/plain": [
       "<Figure size 720x720 with 25 Axes>"
      ]
     },
     "metadata": {},
     "output_type": "display_data"
    },
    {
     "name": "stdout",
     "output_type": "stream",
     "text": [
      "time: 429 ms (started: 2021-07-31 20:43:20 +02:00)\n"
     ]
    }
   ],
   "source": [
    "plt.figure(figsize=(10,10))\n",
    "for i in range(25):\n",
    "    plt.subplot(5,5,i+1)\n",
    "    plt.xticks([])\n",
    "    plt.yticks([])\n",
    "    plt.grid(False)\n",
    "    plt.imshow(frameToImg(validQueries[i]))\n",
    "plt.show()"
   ]
  },
  {
   "cell_type": "code",
   "execution_count": null,
   "id": "78e1b6ef",
   "metadata": {},
   "outputs": [],
   "source": []
  },
  {
   "cell_type": "code",
   "execution_count": 12,
   "id": "c7168499",
   "metadata": {},
   "outputs": [
    {
     "name": "stdout",
     "output_type": "stream",
     "text": [
      "time: 213 µs (started: 2021-07-31 20:43:20 +02:00)\n"
     ]
    }
   ],
   "source": [
    "## Preparing the dataset"
   ]
  },
  {
   "cell_type": "code",
   "execution_count": 13,
   "id": "659c8330",
   "metadata": {},
   "outputs": [
    {
     "name": "stdout",
     "output_type": "stream",
     "text": [
      "time: 7.84 ms (started: 2021-07-31 20:43:20 +02:00)\n"
     ]
    }
   ],
   "source": [
    "yBad = [1 for i in range(0, len(badQueries))]  #labels, 1 for malicious and 0 for clean\n",
    "yGood = [0 for i in range(0, len(validQueries))]"
   ]
  },
  {
   "cell_type": "code",
   "execution_count": 14,
   "id": "241f37e7",
   "metadata": {},
   "outputs": [
    {
     "name": "stdout",
     "output_type": "stream",
     "text": [
      "time: 721 ms (started: 2021-07-31 20:43:20 +02:00)\n"
     ]
    }
   ],
   "source": [
    "X = np.concatenate((badQueries, validQueries), axis=0)\n",
    "y = yBad + yGood"
   ]
  },
  {
   "cell_type": "code",
   "execution_count": null,
   "id": "165e2f60",
   "metadata": {},
   "outputs": [],
   "source": []
  },
  {
   "cell_type": "code",
   "execution_count": 15,
   "id": "8ce67bf9",
   "metadata": {},
   "outputs": [
    {
     "name": "stdout",
     "output_type": "stream",
     "text": [
      "time: 1.21 s (started: 2021-07-31 20:43:21 +02:00)\n"
     ]
    }
   ],
   "source": [
    "X_train, X_test, y_train, y_test = train_test_split(X, y, test_size=0.2) #splitting data"
   ]
  },
  {
   "cell_type": "code",
   "execution_count": null,
   "id": "432b24ce",
   "metadata": {},
   "outputs": [],
   "source": []
  },
  {
   "cell_type": "code",
   "execution_count": 16,
   "id": "4ae064b3",
   "metadata": {},
   "outputs": [
    {
     "data": {
      "image/png": "[encoded data removed]",
      "text/plain": [
       "<Figure size 720x720 with 25 Axes>"
      ]
     },
     "metadata": {},
     "output_type": "display_data"
    },
    {
     "name": "stdout",
     "output_type": "stream",
     "text": [
      "time: 469 ms (started: 2021-07-31 20:43:22 +02:00)\n"
     ]
    }
   ],
   "source": [
    "plt.figure(figsize=(10,10))\n",
    "for i in range(25):\n",
    "    plt.subplot(5,5,i+1)\n",
    "    plt.xticks([])\n",
    "    plt.yticks([])\n",
    "    plt.grid(False)\n",
    "    plt.imshow(frameToImg(X_test[i]))\n",
    "    plt.xlabel(\"bad\" if y_test[i] else \"valid\")\n",
    "plt.show()"
   ]
  },
  {
   "cell_type": "code",
   "execution_count": null,
   "id": "eddb403e",
   "metadata": {},
   "outputs": [],
   "source": []
  },
  {
   "cell_type": "code",
   "execution_count": 17,
   "id": "9097e967",
   "metadata": {},
   "outputs": [
    {
     "name": "stdout",
     "output_type": "stream",
     "text": [
      "time: 216 µs (started: 2021-07-31 20:43:22 +02:00)\n"
     ]
    }
   ],
   "source": [
    "## Building the model"
   ]
  },
  {
   "cell_type": "code",
   "execution_count": 18,
   "id": "36b59cb6",
   "metadata": {},
   "outputs": [
    {
     "name": "stdout",
     "output_type": "stream",
     "text": [
      "time: 735 µs (started: 2021-07-31 20:43:22 +02:00)\n"
     ]
    }
   ],
   "source": [
    "def gen_model(hidden_layer_count, hidden_layer_size, activation_fn='sigmoid'):\n",
    "    model = Sequential()\n",
    "    model.add(Conv2D(32, (3, 3), activation=activation_fn, input_shape=(75, 20, 3)))\n",
    "    model.add(MaxPooling2D((2, 2)))\n",
    "    model.add(Conv2D(64, (3, 3), activation=activation_fn))\n",
    "    model.add(MaxPooling2D((2, 2)))\n",
    "    model.add(Conv2D(64, (3, 3), activation=activation_fn))\n",
    "\n",
    "    model.add(Flatten())\n",
    "\n",
    "    for _ in range(hidden_layer_count):\n",
    "        model.add(Dense(hidden_layer_size, activation=activation_fn))\n",
    "    model.add(Dense(1, activation='sigmoid'))\n",
    "    \n",
    "    #model.compile(loss=tf.keras.losses.SparseCategoricalCrossentropy(from_logits=True), optimizer='adam', metrics=['accuracy'])\n",
    "    model.compile(loss='binary_crossentropy', optimizer='adam', metrics=['accuracy'])\n",
    "    \n",
    "    return model"
   ]
  },
  {
   "cell_type": "code",
   "execution_count": 19,
   "id": "b0f7eb39",
   "metadata": {},
   "outputs": [
    {
     "name": "stdout",
     "output_type": "stream",
     "text": [
      "WARNING:tensorflow:From /home/fic/.local/lib/python3.7/site-packages/tensorflow/python/ops/init_ops.py:1251: calling VarianceScaling.__init__ (from tensorflow.python.ops.init_ops) with dtype is deprecated and will be removed in a future version.\n",
      "Instructions for updating:\n",
      "Call initializer instance with the dtype argument instead of passing it to the constructor\n",
      "WARNING:tensorflow:From /home/fic/.local/lib/python3.7/site-packages/tensorflow/python/ops/nn_impl.py:180: add_dispatch_support.<locals>.wrapper (from tensorflow.python.ops.array_ops) is deprecated and will be removed in a future version.\n",
      "Instructions for updating:\n",
      "Use tf.where in 2.0, which has the same broadcast rule as np.where\n",
      "time: 183 ms (started: 2021-07-31 20:43:22 +02:00)\n"
     ]
    }
   ],
   "source": [
    "model = gen_model(6, 150, activation_fn='relu')"
   ]
  },
  {
   "cell_type": "code",
   "execution_count": 20,
   "id": "aff414cc",
   "metadata": {},
   "outputs": [
    {
     "name": "stdout",
     "output_type": "stream",
     "text": [
      "Model: \"sequential\"\n",
      "_________________________________________________________________\n",
      "Layer (type)                 Output Shape              Param #   \n",
      "=================================================================\n",
      "conv2d (Conv2D)              (None, 73, 18, 32)        896       \n",
      "_________________________________________________________________\n",
      "max_pooling2d (MaxPooling2D) (None, 36, 9, 32)         0         \n",
      "_________________________________________________________________\n",
      "conv2d_1 (Conv2D)            (None, 34, 7, 64)         18496     \n",
      "_________________________________________________________________\n",
      "max_pooling2d_1 (MaxPooling2 (None, 17, 3, 64)         0         \n",
      "_________________________________________________________________\n",
      "conv2d_2 (Conv2D)            (None, 15, 1, 64)         36928     \n",
      "_________________________________________________________________\n",
      "flatten (Flatten)            (None, 960)               0         \n",
      "_________________________________________________________________\n",
      "dense (Dense)                (None, 150)               144150    \n",
      "_________________________________________________________________\n",
      "dense_1 (Dense)              (None, 150)               22650     \n",
      "_________________________________________________________________\n",
      "dense_2 (Dense)              (None, 150)               22650     \n",
      "_________________________________________________________________\n",
      "dense_3 (Dense)              (None, 150)               22650     \n",
      "_________________________________________________________________\n",
      "dense_4 (Dense)              (None, 150)               22650     \n",
      "_________________________________________________________________\n",
      "dense_5 (Dense)              (None, 150)               22650     \n",
      "_________________________________________________________________\n",
      "dense_6 (Dense)              (None, 1)                 151       \n",
      "=================================================================\n",
      "Total params: 313,871\n",
      "Trainable params: 313,871\n",
      "Non-trainable params: 0\n",
      "_________________________________________________________________\n",
      "time: 3.58 ms (started: 2021-07-31 20:43:23 +02:00)\n"
     ]
    }
   ],
   "source": [
    "model.summary()"
   ]
  },
  {
   "cell_type": "code",
   "execution_count": 21,
   "id": "b38fa106",
   "metadata": {},
   "outputs": [
    {
     "name": "stderr",
     "output_type": "stream",
     "text": [
      "2021-07-31 20:43:23.101754: I tensorflow/core/platform/cpu_feature_guard.cc:142] Your CPU supports instructions that this TensorFlow binary was not compiled to use: AVX2 FMA\n",
      "2021-07-31 20:43:23.112829: I tensorflow/core/platform/profile_utils/cpu_utils.cc:94] CPU Frequency: 2994375000 Hz\n",
      "2021-07-31 20:43:23.114069: I tensorflow/compiler/xla/service/service.cc:168] XLA service 0x4987770 executing computations on platform Host. Devices:\n",
      "2021-07-31 20:43:23.114123: I tensorflow/compiler/xla/service/service.cc:175]   StreamExecutor device (0): <undefined>, <undefined>\n",
      "2021-07-31 20:43:23.158452: W tensorflow/compiler/jit/mark_for_compilation_pass.cc:1412] (One-time warning): Not using XLA:CPU for cluster because envvar TF_XLA_FLAGS=--tf_xla_cpu_global_jit was not set.  If you want XLA:CPU, either set that envvar, or use experimental_jit_scope to enable XLA:CPU.  To confirm that XLA is active, pass --vmodule=xla_compilation_cache=1 (as a proper command-line flag, not via TF_XLA_FLAGS) or set the envvar XLA_FLAGS=--xla_hlo_profile.\n"
     ]
    },
    {
     "name": "stdout",
     "output_type": "stream",
     "text": [
      "time: 262 ms (started: 2021-07-31 20:43:23 +02:00)\n"
     ]
    }
   ],
   "source": [
    "model.save(\"cnn-binary.tmp\")"
   ]
  },
  {
   "cell_type": "code",
   "execution_count": 22,
   "id": "09d77fcb",
   "metadata": {},
   "outputs": [
    {
     "name": "stdout",
     "output_type": "stream",
     "text": [
      "time: 215 µs (started: 2021-07-31 20:43:23 +02:00)\n"
     ]
    }
   ],
   "source": [
    "## Training"
   ]
  },
  {
   "cell_type": "code",
   "execution_count": 23,
   "id": "a4bda533",
   "metadata": {},
   "outputs": [
    {
     "name": "stdout",
     "output_type": "stream",
     "text": [
      "time: 552 µs (started: 2021-07-31 20:43:23 +02:00)\n"
     ]
    }
   ],
   "source": [
    "def train_model(model, epochs, batch_size, X_train, y_train, X_test, y_test):\n",
    "    X_train = np.asarray(X_train)\n",
    "    X_test = np.asarray(X_test)\n",
    "    y_train = np.asarray(y_train)\n",
    "    y_test = np.asarray(y_test)\n",
    "\n",
    "    history = model.fit(X_train, y_train, epochs=epochs, batch_size=batch_size, validation_data=(X_test, y_test))\n",
    "    \n",
    "    test_loss, test_acc = model.evaluate(X_test, y_test, verbose=3)\n",
    "\n",
    "    return model, test_loss, test_acc, history"
   ]
  },
  {
   "cell_type": "code",
   "execution_count": 24,
   "id": "bdfddbc3",
   "metadata": {},
   "outputs": [
    {
     "name": "stdout",
     "output_type": "stream",
     "text": [
      "WARNING:tensorflow:From /home/fic/.local/lib/python3.7/site-packages/tensorflow/python/ops/init_ops.py:97: calling GlorotUniform.__init__ (from tensorflow.python.ops.init_ops) with dtype is deprecated and will be removed in a future version.\n",
      "Instructions for updating:\n",
      "Call initializer instance with the dtype argument instead of passing it to the constructor\n",
      "WARNING:tensorflow:From /home/fic/.local/lib/python3.7/site-packages/tensorflow/python/ops/init_ops.py:97: calling Zeros.__init__ (from tensorflow.python.ops.init_ops) with dtype is deprecated and will be removed in a future version.\n",
      "Instructions for updating:\n",
      "Call initializer instance with the dtype argument instead of passing it to the constructor\n",
      "Train on 242228 samples, validate on 60558 samples\n",
      "Epoch 1/8\n",
      "242228/242228 [==============================] - 116s 480us/sample - loss: 0.6933 - acc: 0.5064 - val_loss: 0.6930 - val_acc: 0.5088\n",
      "Epoch 2/8\n",
      "242228/242228 [==============================] - 114s 470us/sample - loss: 0.6931 - acc: 0.5077 - val_loss: 0.6931 - val_acc: 0.5088\n",
      "Epoch 3/8\n",
      "242228/242228 [==============================] - 116s 478us/sample - loss: 0.6931 - acc: 0.5078 - val_loss: 0.6931 - val_acc: 0.5088\n",
      "Epoch 4/8\n",
      "242228/242228 [==============================] - 115s 476us/sample - loss: 0.6931 - acc: 0.5078 - val_loss: 0.6930 - val_acc: 0.5088\n",
      "Epoch 5/8\n",
      "242228/242228 [==============================] - 115s 474us/sample - loss: 0.6930 - acc: 0.5078 - val_loss: 0.6930 - val_acc: 0.5088\n",
      "Epoch 6/8\n",
      "242228/242228 [==============================] - 115s 476us/sample - loss: 0.6930 - acc: 0.5078 - val_loss: 0.6931 - val_acc: 0.5088\n",
      "Epoch 7/8\n",
      "242228/242228 [==============================] - 117s 485us/sample - loss: 0.6930 - acc: 0.5074 - val_loss: 0.6930 - val_acc: 0.5088\n",
      "Epoch 8/8\n",
      "242228/242228 [==============================] - 117s 481us/sample - loss: 0.6930 - acc: 0.5078 - val_loss: 0.6930 - val_acc: 0.5088\n",
      "Train on 242228 samples, validate on 60558 samples\n",
      "Epoch 1/8\n",
      "242228/242228 [==============================] - 118s 489us/sample - loss: 0.6932 - acc: 0.5063 - val_loss: 0.6930 - val_acc: 0.5088\n",
      "Epoch 2/8\n",
      "242228/242228 [==============================] - 115s 474us/sample - loss: 0.6931 - acc: 0.5072 - val_loss: 0.6930 - val_acc: 0.5088\n",
      "Epoch 3/8\n",
      "242228/242228 [==============================] - 115s 476us/sample - loss: 0.6931 - acc: 0.5077 - val_loss: 0.6930 - val_acc: 0.5088\n",
      "Epoch 4/8\n",
      "242228/242228 [==============================] - 117s 484us/sample - loss: 0.6930 - acc: 0.5077 - val_loss: 0.6932 - val_acc: 0.4912\n",
      "Epoch 5/8\n",
      "242228/242228 [==============================] - 116s 478us/sample - loss: 0.6931 - acc: 0.5070 - val_loss: 0.6930 - val_acc: 0.5088\n",
      "Epoch 6/8\n",
      "242228/242228 [==============================] - 117s 482us/sample - loss: 0.6931 - acc: 0.5078 - val_loss: 0.6930 - val_acc: 0.5088\n",
      "Epoch 7/8\n",
      "242228/242228 [==============================] - 118s 489us/sample - loss: 0.6931 - acc: 0.5077 - val_loss: 0.6930 - val_acc: 0.5088\n",
      "Epoch 8/8\n",
      "242228/242228 [==============================] - 120s 497us/sample - loss: 0.6930 - acc: 0.5078 - val_loss: 0.6930 - val_acc: 0.5088\n",
      "Train on 242228 samples, validate on 60558 samples\n",
      "Epoch 1/8\n",
      "242228/242228 [==============================] - 120s 494us/sample - loss: 0.6934 - acc: 0.5065 - val_loss: 0.6930 - val_acc: 0.5088\n",
      "Epoch 2/8\n",
      "242228/242228 [==============================] - 119s 492us/sample - loss: 0.4949 - acc: 0.6688 - val_loss: 0.3621 - val_acc: 0.7632\n",
      "Epoch 3/8\n",
      "242228/242228 [==============================] - 122s 502us/sample - loss: 0.3331 - acc: 0.7861 - val_loss: 0.3279 - val_acc: 0.7787\n",
      "Epoch 4/8\n",
      "242228/242228 [==============================] - 121s 498us/sample - loss: 0.1250 - acc: 0.9383 - val_loss: 0.0115 - val_acc: 0.9955\n",
      "Epoch 5/8\n",
      "242228/242228 [==============================] - 119s 492us/sample - loss: 0.1430 - acc: 0.9141 - val_loss: 0.6930 - val_acc: 0.5088\n",
      "Epoch 6/8\n",
      "242228/242228 [==============================] - 120s 496us/sample - loss: 0.6925 - acc: 0.5077 - val_loss: 0.6930 - val_acc: 0.5088\n",
      "Epoch 7/8\n",
      "242228/242228 [==============================] - 120s 495us/sample - loss: 0.6931 - acc: 0.5066 - val_loss: 0.6930 - val_acc: 0.5088\n",
      "Epoch 8/8\n",
      "242228/242228 [==============================] - 122s 502us/sample - loss: 0.6931 - acc: 0.5070 - val_loss: 0.6930 - val_acc: 0.5088\n",
      "Train on 242228 samples, validate on 60558 samples\n",
      "Epoch 1/8\n",
      "242228/242228 [==============================] - 120s 497us/sample - loss: 0.5085 - acc: 0.6624 - val_loss: 0.3426 - val_acc: 0.7686\n",
      "Epoch 2/8\n",
      "242228/242228 [==============================] - 120s 496us/sample - loss: 0.3183 - acc: 0.8112 - val_loss: 0.2303 - val_acc: 0.8785\n",
      "Epoch 3/8\n",
      "242228/242228 [==============================] - 120s 497us/sample - loss: 0.1110 - acc: 0.9564 - val_loss: 0.1202 - val_acc: 0.9602\n",
      "Epoch 4/8\n",
      "242228/242228 [==============================] - 121s 500us/sample - loss: 0.0495 - acc: 0.9835 - val_loss: 0.0131 - val_acc: 0.9959\n",
      "Epoch 5/8\n",
      "242228/242228 [==============================] - 119s 492us/sample - loss: 0.0897 - acc: 0.9624 - val_loss: 0.0153 - val_acc: 0.9964\n",
      "Epoch 6/8\n",
      "242228/242228 [==============================] - 121s 499us/sample - loss: 0.0618 - acc: 0.9743 - val_loss: 0.0536 - val_acc: 0.9714\n",
      "Epoch 7/8\n",
      "242228/242228 [==============================] - 119s 492us/sample - loss: 0.0966 - acc: 0.9599 - val_loss: 0.0248 - val_acc: 0.9917\n",
      "Epoch 8/8\n",
      "242228/242228 [==============================] - 120s 497us/sample - loss: 0.0364 - acc: 0.9891 - val_loss: 0.0085 - val_acc: 0.9971\n",
      "time: 1h 3min 38s (started: 2021-07-31 20:43:23 +02:00)\n"
     ]
    }
   ],
   "source": [
    "test_acc = 0\n",
    "while test_acc < 0.7:\n",
    "    model = tf.keras.models.load_model(\"cnn-binary.tmp\")\n",
    "    model, test_loss, test_acc, history = train_model(model, 8, 32, X_train, y_train, X_test, y_test)\n",
    "model.save(\"cnn-binary.h5\")"
   ]
  },
  {
   "cell_type": "code",
   "execution_count": null,
   "id": "dab11e1c",
   "metadata": {},
   "outputs": [],
   "source": []
  },
  {
   "cell_type": "code",
   "execution_count": 25,
   "id": "f937b990",
   "metadata": {},
   "outputs": [
    {
     "name": "stdout",
     "output_type": "stream",
     "text": [
      "time: 500 µs (started: 2021-07-31 21:47:01 +02:00)\n"
     ]
    }
   ],
   "source": [
    "## Metrics"
   ]
  },
  {
   "cell_type": "code",
   "execution_count": 26,
   "id": "2d5b2eaf",
   "metadata": {},
   "outputs": [
    {
     "name": "stdout",
     "output_type": "stream",
     "text": [
      "Loss:  0.00845736557738949\n",
      "Accuracy:  0.99707717\n",
      "time: 1.15 ms (started: 2021-07-31 21:47:01 +02:00)\n"
     ]
    }
   ],
   "source": [
    "print(\"Loss: \", test_loss)\n",
    "print(\"Accuracy: \", test_acc)"
   ]
  },
  {
   "cell_type": "code",
   "execution_count": 33,
   "id": "231fab66",
   "metadata": {},
   "outputs": [
    {
     "data": {
      "text/plain": [
       "<matplotlib.legend.Legend at 0x7f2418616400>"
      ]
     },
     "execution_count": 33,
     "metadata": {},
     "output_type": "execute_result"
    },
    {
     "data": {
      "image/png": "[encoded data removed]",
      "text/plain": [
       "<Figure size 432x288 with 1 Axes>"
      ]
     },
     "metadata": {
      "needs_background": "light"
     },
     "output_type": "display_data"
    },
    {
     "name": "stdout",
     "output_type": "stream",
     "text": [
      "time: 153 ms (started: 2021-08-01 11:00:59 +02:00)\n"
     ]
    }
   ],
   "source": [
    "if 'accuracy' in history.history:\n",
    "    plt.plot(history.history['accuracy'], label='accuracy')\n",
    "elif 'acc' in history.history:\n",
    "    plt.plot(history.history['acc'], label='accuracy')\n",
    "if 'val_accuracy' in history.history:\n",
    "    plt.plot(history.history['val_accuracy'], label = 'val_accuracy')\n",
    "elif 'val_acc' in history.history:\n",
    "    plt.plot(history.history['val_acc'], label = 'val_accuracy')\n",
    "plt.xlabel('Epoch')\n",
    "plt.ylabel('Accuracy')\n",
    "plt.ylim([0.5, 1])\n",
    "plt.legend(loc='lower right')"
   ]
  },
  {
   "cell_type": "code",
   "execution_count": null,
   "id": "3b41c58a",
   "metadata": {},
   "outputs": [],
   "source": []
  },
  {
   "cell_type": "code",
   "execution_count": 34,
   "id": "ee1934b1",
   "metadata": {},
   "outputs": [
    {
     "name": "stdout",
     "output_type": "stream",
     "text": [
      "time: 414 µs (started: 2021-08-01 11:01:22 +02:00)\n"
     ]
    }
   ],
   "source": [
    "## Testing"
   ]
  },
  {
   "cell_type": "code",
   "execution_count": 35,
   "id": "6224f093",
   "metadata": {},
   "outputs": [
    {
     "name": "stdout",
     "output_type": "stream",
     "text": [
      "time: 1.73 ms (started: 2021-08-01 11:01:23 +02:00)\n"
     ]
    }
   ],
   "source": [
    "def frame_is_bad(frame):\n",
    "    return round(max(0., min(1., model.predict(np.asarray([frame]))[0][0])) * 100, 2)"
   ]
  },
  {
   "cell_type": "code",
   "execution_count": 36,
   "id": "0a24a4ad",
   "metadata": {},
   "outputs": [
    {
     "name": "stdout",
     "output_type": "stream",
     "text": [
      "Is bad ? 100.0 %\n",
      "time: 640 ms (started: 2021-08-01 11:02:18 +02:00)\n"
     ]
    }
   ],
   "source": [
    "print(\"Is bad ?\", frame_is_bad(X_test[0]), \"%\")"
   ]
  },
  {
   "cell_type": "code",
   "execution_count": 37,
   "id": "af77f4c3",
   "metadata": {},
   "outputs": [
    {
     "name": "stdout",
     "output_type": "stream",
     "text": [
      "Expected: 1\n",
      "time: 1.77 ms (started: 2021-08-01 11:02:22 +02:00)\n"
     ]
    }
   ],
   "source": [
    "print(\"Expected:\", y_test[0])"
   ]
  },
  {
   "cell_type": "code",
   "execution_count": null,
   "id": "008799e5",
   "metadata": {},
   "outputs": [],
   "source": []
  }
 ],
 "metadata": {
  "kernelspec": {
   "display_name": "Python 3 (ipykernel)",
   "language": "python",
   "name": "python3"
  },
  "language_info": {
   "codemirror_mode": {
    "name": "ipython",
    "version": 3
   },
   "file_extension": ".py",
   "mimetype": "text/x-python",
   "name": "python",
   "nbconvert_exporter": "python",
   "pygments_lexer": "ipython3",
   "version": "3.7.3"
  }
 },
 "nbformat": 4,
 "nbformat_minor": 5
}
