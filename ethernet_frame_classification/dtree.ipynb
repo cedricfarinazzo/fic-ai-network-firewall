{
 "cells": [
  {
   "cell_type": "code",
   "execution_count": 1,
   "id": "fa0d8b60",
   "metadata": {},
   "outputs": [],
   "source": [
    "import os\n",
    "import time\n",
    "import nest_asyncio\n",
    "nest_asyncio.apply()\n",
    "\n",
    "import pyshark\n",
    "\n",
    "import numpy as np\n",
    "from PIL import Image\n",
    "\n",
    "from sklearn.model_selection import train_test_split\n",
    "from sklearn.neighbors import KNeighborsClassifier\n",
    "from sklearn.linear_model import LogisticRegression\n",
    "from sklearn.svm import SVC, LinearSVC\n",
    "from sklearn.tree import DecisionTreeClassifier \n",
    "from sklearn.ensemble import RandomForestClassifier, GradientBoostingClassifier, BaggingClassifier, ExtraTreesClassifier\n",
    "from sklearn.naive_bayes import GaussianNB \n",
    "from sklearn.discriminant_analysis import LinearDiscriminantAnalysis\n",
    "from sklearn.pipeline import Pipeline\n",
    "from sklearn.feature_selection import SelectFromModel, RFECV\n",
    "from sklearn.metrics import accuracy_score\n",
    "from sklearn.model_selection import cross_val_score\n",
    "\n",
    "import numpy as np\n",
    "import tensorflow as tf\n",
    "from tensorflow.keras.preprocessing.text import Tokenizer\n",
    "from tensorflow.keras.models import Sequential\n",
    "from tensorflow.keras.layers import Dense, LSTM, Flatten, Conv2D, MaxPooling2D\n",
    "from tensorflow.keras.optimizers import SGD\n",
    "\n",
    "import matplotlib.pyplot as plt"
   ]
  },
  {
   "cell_type": "code",
   "execution_count": 2,
   "id": "1c56b97d",
   "metadata": {},
   "outputs": [
    {
     "name": "stdout",
     "output_type": "stream",
     "text": [
      "time: 186 µs (started: 2021-08-02 18:19:30 +02:00)\n"
     ]
    }
   ],
   "source": [
    "%matplotlib inline\n",
    "%load_ext autotime"
   ]
  },
  {
   "cell_type": "code",
   "execution_count": 3,
   "id": "fa49692f",
   "metadata": {},
   "outputs": [
    {
     "name": "stdout",
     "output_type": "stream",
     "text": [
      "time: 227 µs (started: 2021-08-02 18:19:30 +02:00)\n"
     ]
    }
   ],
   "source": [
    "## Loading data"
   ]
  },
  {
   "cell_type": "code",
   "execution_count": 4,
   "id": "a1466651",
   "metadata": {},
   "outputs": [
    {
     "name": "stdout",
     "output_type": "stream",
     "text": [
      "time: 762 µs (started: 2021-08-02 18:19:30 +02:00)\n"
     ]
    }
   ],
   "source": [
    "def loadDataset(path, extraId=\"\"):\n",
    "    cap = pyshark.FileCapture(path, use_json=True, include_raw=True)\n",
    "    cap.load_packets()\n",
    "    raw_data_list = [c.get_raw_packet() for c in cap]\n",
    "\n",
    "    dataset = []\n",
    "    \n",
    "    for raw_data in raw_data_list:\n",
    "        arr = np.zeros((75, 20), dtype=np.uint8)\n",
    "        x, y = 0, 0\n",
    "        for e in raw_data:\n",
    "            arr[x, y] = e\n",
    "            x += 1\n",
    "            if x == 75:\n",
    "                x = 0\n",
    "                y += 1\n",
    "            if y == 20:\n",
    "                break\n",
    "        dataset.append(arr.flatten())  \n",
    "    return np.asarray(dataset)"
   ]
  },
  {
   "cell_type": "code",
   "execution_count": 5,
   "id": "d386ab48",
   "metadata": {},
   "outputs": [
    {
     "name": "stdout",
     "output_type": "stream",
     "text": [
      "time: 1min 22s (started: 2021-08-02 18:19:30 +02:00)\n"
     ]
    }
   ],
   "source": [
    "badQueries = loadDataset('./dataset/badHttpQueriesFiltered.pcap')\n",
    "\n",
    "badCount = len(badQueries)"
   ]
  },
  {
   "cell_type": "code",
   "execution_count": 6,
   "id": "568d7780",
   "metadata": {},
   "outputs": [
    {
     "data": {
      "text/plain": [
       "153824"
      ]
     },
     "execution_count": 6,
     "metadata": {},
     "output_type": "execute_result"
    },
    {
     "name": "stdout",
     "output_type": "stream",
     "text": [
      "time: 3.72 ms (started: 2021-08-02 18:20:53 +02:00)\n"
     ]
    }
   ],
   "source": [
    "badCount"
   ]
  },
  {
   "cell_type": "code",
   "execution_count": null,
   "id": "23de637e",
   "metadata": {},
   "outputs": [],
   "source": []
  },
  {
   "cell_type": "code",
   "execution_count": 7,
   "id": "b05522bc",
   "metadata": {},
   "outputs": [
    {
     "name": "stdout",
     "output_type": "stream",
     "text": [
      "time: 1min 26s (started: 2021-08-02 18:20:53 +02:00)\n"
     ]
    }
   ],
   "source": [
    "validQueries = loadDataset('./dataset/goodHttpQueriesFiltered.pcap')\n",
    "\n",
    "validCount = len(validQueries)"
   ]
  },
  {
   "cell_type": "code",
   "execution_count": 8,
   "id": "4f5b8bff",
   "metadata": {},
   "outputs": [
    {
     "data": {
      "text/plain": [
       "148962"
      ]
     },
     "execution_count": 8,
     "metadata": {},
     "output_type": "execute_result"
    },
    {
     "name": "stdout",
     "output_type": "stream",
     "text": [
      "time: 3.7 ms (started: 2021-08-02 18:22:19 +02:00)\n"
     ]
    }
   ],
   "source": [
    "validCount"
   ]
  },
  {
   "cell_type": "code",
   "execution_count": null,
   "id": "78e1b6ef",
   "metadata": {},
   "outputs": [],
   "source": []
  },
  {
   "cell_type": "code",
   "execution_count": 9,
   "id": "c7168499",
   "metadata": {},
   "outputs": [
    {
     "name": "stdout",
     "output_type": "stream",
     "text": [
      "time: 170 µs (started: 2021-08-02 18:22:19 +02:00)\n"
     ]
    }
   ],
   "source": [
    "## Preparing the dataset"
   ]
  },
  {
   "cell_type": "code",
   "execution_count": 10,
   "id": "659c8330",
   "metadata": {},
   "outputs": [
    {
     "name": "stdout",
     "output_type": "stream",
     "text": [
      "time: 7.67 ms (started: 2021-08-02 18:22:19 +02:00)\n"
     ]
    }
   ],
   "source": [
    "yBad = [1 for i in range(0, len(badQueries))]  #labels, 1 for malicious and 0 for clean\n",
    "yGood = [0 for i in range(0, len(validQueries))]"
   ]
  },
  {
   "cell_type": "code",
   "execution_count": 11,
   "id": "241f37e7",
   "metadata": {},
   "outputs": [
    {
     "name": "stdout",
     "output_type": "stream",
     "text": [
      "time: 212 ms (started: 2021-08-02 18:22:19 +02:00)\n"
     ]
    }
   ],
   "source": [
    "X = np.concatenate((badQueries, validQueries), axis=0)\n",
    "y = yBad + yGood"
   ]
  },
  {
   "cell_type": "code",
   "execution_count": null,
   "id": "165e2f60",
   "metadata": {},
   "outputs": [],
   "source": []
  },
  {
   "cell_type": "code",
   "execution_count": 12,
   "id": "8ce67bf9",
   "metadata": {},
   "outputs": [
    {
     "name": "stdout",
     "output_type": "stream",
     "text": [
      "time: 416 ms (started: 2021-08-02 18:22:19 +02:00)\n"
     ]
    }
   ],
   "source": [
    "X_train, X_test, y_train, y_test = train_test_split(X, y, test_size=0.2) #splitting data"
   ]
  },
  {
   "cell_type": "code",
   "execution_count": null,
   "id": "432b24ce",
   "metadata": {},
   "outputs": [],
   "source": []
  },
  {
   "cell_type": "code",
   "execution_count": 13,
   "id": "4d7f897b",
   "metadata": {},
   "outputs": [
    {
     "name": "stdout",
     "output_type": "stream",
     "text": [
      "time: 194 µs (started: 2021-08-02 18:22:19 +02:00)\n"
     ]
    }
   ],
   "source": [
    "## Model"
   ]
  },
  {
   "cell_type": "code",
   "execution_count": 14,
   "id": "b38fa106",
   "metadata": {},
   "outputs": [
    {
     "name": "stdout",
     "output_type": "stream",
     "text": [
      "time: 634 µs (started: 2021-08-02 18:22:20 +02:00)\n"
     ]
    }
   ],
   "source": [
    "dtree = DecisionTreeClassifier()"
   ]
  },
  {
   "cell_type": "code",
   "execution_count": 15,
   "id": "1171b91e",
   "metadata": {},
   "outputs": [
    {
     "name": "stdout",
     "output_type": "stream",
     "text": [
      "time: 340 µs (started: 2021-08-02 18:22:20 +02:00)\n"
     ]
    }
   ],
   "source": [
    "## Train"
   ]
  },
  {
   "cell_type": "code",
   "execution_count": 16,
   "id": "9c3a7ac9",
   "metadata": {},
   "outputs": [
    {
     "data": {
      "text/plain": [
       "DecisionTreeClassifier()"
      ]
     },
     "execution_count": 16,
     "metadata": {},
     "output_type": "execute_result"
    },
    {
     "name": "stdout",
     "output_type": "stream",
     "text": [
      "time: 7.8 s (started: 2021-08-02 18:22:20 +02:00)\n"
     ]
    }
   ],
   "source": [
    "dtree.fit(X_train, y_train)"
   ]
  },
  {
   "cell_type": "code",
   "execution_count": null,
   "id": "7001d177",
   "metadata": {},
   "outputs": [],
   "source": []
  },
  {
   "cell_type": "code",
   "execution_count": 17,
   "id": "3d97bf64",
   "metadata": {},
   "outputs": [
    {
     "name": "stdout",
     "output_type": "stream",
     "text": [
      "time: 227 µs (started: 2021-08-02 18:22:27 +02:00)\n"
     ]
    }
   ],
   "source": [
    "## Metrics"
   ]
  },
  {
   "cell_type": "code",
   "execution_count": 18,
   "id": "e3dea5d3",
   "metadata": {},
   "outputs": [
    {
     "name": "stdout",
     "output_type": "stream",
     "text": [
      "time: 113 ms (started: 2021-08-02 18:22:27 +02:00)\n"
     ]
    }
   ],
   "source": [
    "y_pred = dtree.predict(X_test)\n",
    "count_misclassified = (y_test != y_pred).sum()"
   ]
  },
  {
   "cell_type": "code",
   "execution_count": null,
   "id": "65e76802",
   "metadata": {},
   "outputs": [],
   "source": []
  },
  {
   "cell_type": "code",
   "execution_count": 19,
   "id": "6803cc4d",
   "metadata": {},
   "outputs": [
    {
     "name": "stdout",
     "output_type": "stream",
     "text": [
      "> Result\n",
      "Misclassified samples: 0/60558\n",
      "Accuracy: 1.00\n",
      "time: 17.4 ms (started: 2021-08-02 18:22:27 +02:00)\n"
     ]
    }
   ],
   "source": [
    "total_y = len(y_test)\n",
    "print(\"> Result\")\n",
    "print(f\"Misclassified samples: {count_misclassified}/{total_y}\")\n",
    "accuracy = accuracy_score(y_test, y_pred)\n",
    "print('Accuracy: {:.2f}'.format(accuracy))"
   ]
  },
  {
   "cell_type": "code",
   "execution_count": null,
   "id": "7787f1c7",
   "metadata": {},
   "outputs": [],
   "source": []
  },
  {
   "cell_type": "code",
   "execution_count": 20,
   "id": "e9522094",
   "metadata": {},
   "outputs": [
    {
     "name": "stdout",
     "output_type": "stream",
     "text": [
      "time: 173 µs (started: 2021-08-02 18:22:27 +02:00)\n"
     ]
    }
   ],
   "source": [
    "## Testing"
   ]
  },
  {
   "cell_type": "code",
   "execution_count": 21,
   "id": "b1978046",
   "metadata": {},
   "outputs": [
    {
     "name": "stdout",
     "output_type": "stream",
     "text": [
      "time: 310 µs (started: 2021-08-02 18:22:27 +02:00)\n"
     ]
    }
   ],
   "source": [
    "def frame_is_bad(frame):\n",
    "    return \"yes\" if dtree.predict(np.asarray([frame]))[0] else \"no\""
   ]
  },
  {
   "cell_type": "code",
   "execution_count": 22,
   "id": "1aa7eb36",
   "metadata": {},
   "outputs": [
    {
     "name": "stdout",
     "output_type": "stream",
     "text": [
      "Is bad ? no\n",
      "Expected: no\n",
      "time: 1.72 ms (started: 2021-08-02 18:22:27 +02:00)\n"
     ]
    }
   ],
   "source": [
    "print(\"Is bad ?\", frame_is_bad(X_test[0]))\n",
    "print(\"Expected:\", \"yes\" if y_test[0] else \"no\")"
   ]
  },
  {
   "cell_type": "code",
   "execution_count": 23,
   "id": "9d169758",
   "metadata": {},
   "outputs": [
    {
     "name": "stdout",
     "output_type": "stream",
     "text": [
      "Is bad ? yes\n",
      "Expected: yes\n",
      "time: 2.21 ms (started: 2021-08-02 18:22:27 +02:00)\n"
     ]
    }
   ],
   "source": [
    "print(\"Is bad ?\", frame_is_bad(X_test[1]))\n",
    "print(\"Expected:\", \"yes\" if y_test[1] else \"no\")"
   ]
  },
  {
   "cell_type": "code",
   "execution_count": 24,
   "id": "bcb60ce3",
   "metadata": {},
   "outputs": [
    {
     "name": "stdout",
     "output_type": "stream",
     "text": [
      "Is bad ? yes\n",
      "Expected: yes\n",
      "time: 998 µs (started: 2021-08-02 18:22:28 +02:00)\n"
     ]
    }
   ],
   "source": [
    "print(\"Is bad ?\", frame_is_bad(X_test[2]))\n",
    "print(\"Expected:\", \"yes\" if y_test[2] else \"no\")"
   ]
  },
  {
   "cell_type": "code",
   "execution_count": 25,
   "id": "84484267",
   "metadata": {},
   "outputs": [
    {
     "name": "stdout",
     "output_type": "stream",
     "text": [
      "Is bad ? no\n",
      "Expected: no\n",
      "time: 780 µs (started: 2021-08-02 18:22:28 +02:00)\n"
     ]
    }
   ],
   "source": [
    "print(\"Is bad ?\", frame_is_bad(X_test[3]))\n",
    "print(\"Expected:\", \"yes\" if y_test[3] else \"no\")"
   ]
  },
  {
   "cell_type": "code",
   "execution_count": 26,
   "id": "bf734aab",
   "metadata": {},
   "outputs": [
    {
     "name": "stdout",
     "output_type": "stream",
     "text": [
      "Is bad ? no\n",
      "Expected: no\n",
      "time: 2.05 ms (started: 2021-08-02 18:22:28 +02:00)\n"
     ]
    }
   ],
   "source": [
    "print(\"Is bad ?\", frame_is_bad(X_test[4]))\n",
    "print(\"Expected:\", \"yes\" if y_test[4] else \"no\")"
   ]
  }
 ],
 "metadata": {
  "kernelspec": {
   "display_name": "Python 3 (ipykernel)",
   "language": "python",
   "name": "python3"
  },
  "language_info": {
   "codemirror_mode": {
    "name": "ipython",
    "version": 3
   },
   "file_extension": ".py",
   "mimetype": "text/x-python",
   "name": "python",
   "nbconvert_exporter": "python",
   "pygments_lexer": "ipython3",
   "version": "3.7.3"
  }
 },
 "nbformat": 4,
 "nbformat_minor": 5
}
