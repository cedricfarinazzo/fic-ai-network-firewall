{
 "cells": [
  {
   "cell_type": "code",
   "execution_count": 1,
   "id": "fa0d8b60",
   "metadata": {},
   "outputs": [],
   "source": [
    "import os\n",
    "import nest_asyncio\n",
    "import pickle\n",
    "nest_asyncio.apply()\n",
    "\n",
    "import pyshark\n",
    "\n",
    "import numpy as np\n",
    "from PIL import Image\n",
    "\n",
    "from sklearn.model_selection import train_test_split\n",
    "import numpy as np\n",
    "import tensorflow as tf\n",
    "from tensorflow.keras.preprocessing.text import Tokenizer\n",
    "from tensorflow.keras.models import Sequential\n",
    "from tensorflow.keras.layers import Dense, LSTM, Flatten, Conv2D, MaxPooling2D\n",
    "from tensorflow.keras.optimizers import SGD\n",
    "\n",
    "import matplotlib.pyplot as plt"
   ]
  },
  {
   "cell_type": "code",
   "execution_count": 2,
   "id": "1c56b97d",
   "metadata": {},
   "outputs": [
    {
     "name": "stdout",
     "output_type": "stream",
     "text": [
      "time: 123 µs (started: 2021-07-31 16:14:25 +00:00)\n"
     ]
    }
   ],
   "source": [
    "%matplotlib inline\n",
    "%load_ext autotime"
   ]
  },
  {
   "cell_type": "code",
   "execution_count": 3,
   "id": "fa49692f",
   "metadata": {},
   "outputs": [
    {
     "name": "stdout",
     "output_type": "stream",
     "text": [
      "time: 7.72 ms (started: 2021-07-31 16:14:25 +00:00)\n"
     ]
    }
   ],
   "source": [
    "## Loading data"
   ]
  },
  {
   "cell_type": "code",
   "execution_count": 4,
   "id": "a1466651",
   "metadata": {},
   "outputs": [
    {
     "name": "stdout",
     "output_type": "stream",
     "text": [
      "time: 1.39 ms (started: 2021-07-31 16:14:25 +00:00)\n"
     ]
    }
   ],
   "source": [
    "def loadDataset(path, extraId=\"\"):       \n",
    "    cap = pyshark.FileCapture(path, use_json=True, include_raw=True)\n",
    "    cap.load_packets()\n",
    "    raw_data_list = [c.get_raw_packet() for c in cap]\n",
    "\n",
    "    dataset = []\n",
    "    \n",
    "    for raw_data in raw_data_list:\n",
    "        arr = np.zeros((75, 20), dtype=np.uint8)\n",
    "        x, y = 0, 0\n",
    "        for e in raw_data:\n",
    "            arr[x, y] = e\n",
    "            x += 1\n",
    "            if x == 75:\n",
    "                x = 0\n",
    "                y += 1\n",
    "            if y == 20:\n",
    "                break\n",
    "        dataset.append(arr.flatten())  \n",
    "    return np.asarray(dataset)"
   ]
  },
  {
   "cell_type": "code",
   "execution_count": 5,
   "id": "d386ab48",
   "metadata": {},
   "outputs": [
    {
     "name": "stdout",
     "output_type": "stream",
     "text": [
      "time: 1min 1s (started: 2021-07-31 16:14:25 +00:00)\n"
     ]
    }
   ],
   "source": [
    "badQueries = loadDataset('./dataset/badHttpQueriesFiltered.pcap', extraId=\".flatten\")\n",
    "\n",
    "badCount = len(badQueries)"
   ]
  },
  {
   "cell_type": "code",
   "execution_count": 6,
   "id": "568d7780",
   "metadata": {},
   "outputs": [
    {
     "data": {
      "text/plain": [
       "153824"
      ]
     },
     "execution_count": 6,
     "metadata": {},
     "output_type": "execute_result"
    },
    {
     "name": "stdout",
     "output_type": "stream",
     "text": [
      "time: 2.7 ms (started: 2021-07-31 16:15:27 +00:00)\n"
     ]
    }
   ],
   "source": [
    "badCount"
   ]
  },
  {
   "cell_type": "code",
   "execution_count": null,
   "id": "23de637e",
   "metadata": {},
   "outputs": [],
   "source": []
  },
  {
   "cell_type": "code",
   "execution_count": 7,
   "id": "b05522bc",
   "metadata": {},
   "outputs": [
    {
     "name": "stdout",
     "output_type": "stream",
     "text": [
      "time: 1min 5s (started: 2021-07-31 16:15:27 +00:00)\n"
     ]
    }
   ],
   "source": [
    "validQueries = loadDataset('./dataset/goodHttpQueriesFiltered.pcap', extraId=\".flatten\")\n",
    "\n",
    "validCount = len(validQueries)"
   ]
  },
  {
   "cell_type": "code",
   "execution_count": 8,
   "id": "4f5b8bff",
   "metadata": {},
   "outputs": [
    {
     "data": {
      "text/plain": [
       "148962"
      ]
     },
     "execution_count": 8,
     "metadata": {},
     "output_type": "execute_result"
    },
    {
     "name": "stdout",
     "output_type": "stream",
     "text": [
      "time: 1.79 ms (started: 2021-07-31 16:16:32 +00:00)\n"
     ]
    }
   ],
   "source": [
    "validCount"
   ]
  },
  {
   "cell_type": "code",
   "execution_count": null,
   "id": "78e1b6ef",
   "metadata": {},
   "outputs": [],
   "source": []
  },
  {
   "cell_type": "code",
   "execution_count": 9,
   "id": "c7168499",
   "metadata": {},
   "outputs": [
    {
     "name": "stdout",
     "output_type": "stream",
     "text": [
      "time: 7.52 ms (started: 2021-07-31 16:16:32 +00:00)\n"
     ]
    }
   ],
   "source": [
    "## Preparing the dataset"
   ]
  },
  {
   "cell_type": "code",
   "execution_count": 10,
   "id": "659c8330",
   "metadata": {},
   "outputs": [
    {
     "name": "stdout",
     "output_type": "stream",
     "text": [
      "time: 9.39 ms (started: 2021-07-31 16:16:32 +00:00)\n"
     ]
    }
   ],
   "source": [
    "yBad = [1 for i in range(0, len(badQueries))]  #labels, 1 for malicious and 0 for clean\n",
    "yGood = [0 for i in range(0, len(validQueries))]"
   ]
  },
  {
   "cell_type": "code",
   "execution_count": 11,
   "id": "241f37e7",
   "metadata": {},
   "outputs": [
    {
     "name": "stdout",
     "output_type": "stream",
     "text": [
      "time: 54.6 ms (started: 2021-07-31 16:16:32 +00:00)\n"
     ]
    }
   ],
   "source": [
    "X = np.concatenate((badQueries, validQueries), axis=0)\n",
    "y = yBad + yGood"
   ]
  },
  {
   "cell_type": "code",
   "execution_count": null,
   "id": "165e2f60",
   "metadata": {},
   "outputs": [],
   "source": []
  },
  {
   "cell_type": "code",
   "execution_count": 12,
   "id": "8ce67bf9",
   "metadata": {},
   "outputs": [
    {
     "name": "stdout",
     "output_type": "stream",
     "text": [
      "time: 129 ms (started: 2021-07-31 16:16:32 +00:00)\n"
     ]
    }
   ],
   "source": [
    "X_train, X_test, y_train, y_test = train_test_split(X, y, test_size=0.2) #splitting data"
   ]
  },
  {
   "cell_type": "code",
   "execution_count": null,
   "id": "432b24ce",
   "metadata": {},
   "outputs": [],
   "source": []
  },
  {
   "cell_type": "code",
   "execution_count": 13,
   "id": "9097e967",
   "metadata": {},
   "outputs": [
    {
     "name": "stdout",
     "output_type": "stream",
     "text": [
      "time: 195 µs (started: 2021-07-31 16:16:33 +00:00)\n"
     ]
    }
   ],
   "source": [
    "## Building the model"
   ]
  },
  {
   "cell_type": "code",
   "execution_count": 14,
   "id": "36b59cb6",
   "metadata": {},
   "outputs": [
    {
     "name": "stdout",
     "output_type": "stream",
     "text": [
      "time: 1.09 ms (started: 2021-07-31 16:16:33 +00:00)\n"
     ]
    }
   ],
   "source": [
    "def gen_model(input_size, hidden_layer_count, hidden_layer_size, activation_fn='sigmoid'):\n",
    "    model = Sequential()\n",
    "\n",
    "    model.add(Dense(input_size))\n",
    "    for _ in range(hidden_layer_count):\n",
    "        model.add(Dense(hidden_layer_size, activation=activation_fn))\n",
    "    model.add(Dense(1))\n",
    "    \n",
    "    model.compile(loss='mean_squared_error', optimizer='adam', metrics=['accuracy'])\n",
    "    \n",
    "    return model"
   ]
  },
  {
   "cell_type": "code",
   "execution_count": 15,
   "id": "b0f7eb39",
   "metadata": {},
   "outputs": [
    {
     "name": "stdout",
     "output_type": "stream",
     "text": [
      "time: 38.9 ms (started: 2021-07-31 16:16:33 +00:00)\n"
     ]
    }
   ],
   "source": [
    "model = gen_model(75 * 20, 6, 128, activation_fn='sigmoid')"
   ]
  },
  {
   "cell_type": "code",
   "execution_count": null,
   "id": "b38fa106",
   "metadata": {},
   "outputs": [],
   "source": []
  },
  {
   "cell_type": "code",
   "execution_count": 16,
   "id": "09d77fcb",
   "metadata": {},
   "outputs": [
    {
     "name": "stdout",
     "output_type": "stream",
     "text": [
      "time: 192 µs (started: 2021-07-31 16:16:33 +00:00)\n"
     ]
    }
   ],
   "source": [
    "## Training"
   ]
  },
  {
   "cell_type": "code",
   "execution_count": 17,
   "id": "a4bda533",
   "metadata": {},
   "outputs": [
    {
     "name": "stdout",
     "output_type": "stream",
     "text": [
      "time: 1.63 ms (started: 2021-07-31 16:16:33 +00:00)\n"
     ]
    }
   ],
   "source": [
    "def train_model(model, epochs, batch_size, X_train, y_train, X_test, y_test):\n",
    "    X_train = np.asarray(X_train)\n",
    "    X_test = np.asarray(X_test)\n",
    "    y_train = np.asarray(y_train)\n",
    "    y_test = np.asarray(y_test)\n",
    "\n",
    "    history = model.fit(X_train, y_train, epochs=epochs, batch_size=batch_size, validation_data=(X_test, y_test))\n",
    "    \n",
    "    test_loss, test_acc = model.evaluate(X_test, y_test, verbose=3)\n",
    "\n",
    "    return model, test_loss, test_acc, history"
   ]
  },
  {
   "cell_type": "code",
   "execution_count": 18,
   "id": "bdfddbc3",
   "metadata": {},
   "outputs": [
    {
     "name": "stdout",
     "output_type": "stream",
     "text": [
      "Epoch 1/5\n",
      "7570/7570 [==============================] - 46s 6ms/step - loss: 0.2536 - accuracy: 0.5002 - val_loss: 0.2506 - val_accuracy: 0.4884\n",
      "Epoch 2/5\n",
      "7570/7570 [==============================] - 45s 6ms/step - loss: 0.2527 - accuracy: 0.4983 - val_loss: 0.2551 - val_accuracy: 0.4884\n",
      "Epoch 3/5\n",
      "7570/7570 [==============================] - 45s 6ms/step - loss: 0.2520 - accuracy: 0.5019 - val_loss: 0.2502 - val_accuracy: 0.5116\n",
      "Epoch 4/5\n",
      "7570/7570 [==============================] - 45s 6ms/step - loss: 0.2519 - accuracy: 0.5020 - val_loss: 0.2553 - val_accuracy: 0.5116\n",
      "Epoch 5/5\n",
      "7570/7570 [==============================] - 46s 6ms/step - loss: 0.2517 - accuracy: 0.5019 - val_loss: 0.2499 - val_accuracy: 0.5116\n",
      "time: 3min 50s (started: 2021-07-31 16:16:33 +00:00)\n"
     ]
    }
   ],
   "source": [
    "model, test_loss, test_acc, history = train_model(model, 5, 32, X_train, y_train, X_test, y_test)"
   ]
  },
  {
   "cell_type": "code",
   "execution_count": null,
   "id": "dab11e1c",
   "metadata": {},
   "outputs": [],
   "source": []
  },
  {
   "cell_type": "code",
   "execution_count": 19,
   "id": "f937b990",
   "metadata": {},
   "outputs": [
    {
     "name": "stdout",
     "output_type": "stream",
     "text": [
      "time: 301 µs (started: 2021-07-31 16:20:24 +00:00)\n"
     ]
    }
   ],
   "source": [
    "## Metrics"
   ]
  },
  {
   "cell_type": "code",
   "execution_count": 20,
   "id": "d8514041",
   "metadata": {},
   "outputs": [
    {
     "name": "stdout",
     "output_type": "stream",
     "text": [
      "Model: \"sequential\"\n",
      "_________________________________________________________________\n",
      "Layer (type)                 Output Shape              Param #   \n",
      "=================================================================\n",
      "dense (Dense)                (None, 1500)              2251500   \n",
      "_________________________________________________________________\n",
      "dense_1 (Dense)              (None, 128)               192128    \n",
      "_________________________________________________________________\n",
      "dense_2 (Dense)              (None, 128)               16512     \n",
      "_________________________________________________________________\n",
      "dense_3 (Dense)              (None, 128)               16512     \n",
      "_________________________________________________________________\n",
      "dense_4 (Dense)              (None, 128)               16512     \n",
      "_________________________________________________________________\n",
      "dense_5 (Dense)              (None, 128)               16512     \n",
      "_________________________________________________________________\n",
      "dense_6 (Dense)              (None, 128)               16512     \n",
      "_________________________________________________________________\n",
      "dense_7 (Dense)              (None, 1)                 129       \n",
      "=================================================================\n",
      "Total params: 2,526,317\n",
      "Trainable params: 2,526,317\n",
      "Non-trainable params: 0\n",
      "_________________________________________________________________\n",
      "time: 11.4 ms (started: 2021-07-31 16:20:24 +00:00)\n"
     ]
    }
   ],
   "source": [
    "model.summary()"
   ]
  },
  {
   "cell_type": "code",
   "execution_count": 21,
   "id": "2d5b2eaf",
   "metadata": {},
   "outputs": [
    {
     "name": "stdout",
     "output_type": "stream",
     "text": [
      "Loss:  0.24993754923343658\n",
      "Accuracy:  0.5116087198257446\n",
      "time: 990 µs (started: 2021-07-31 16:20:24 +00:00)\n"
     ]
    }
   ],
   "source": [
    "print(\"Loss: \", test_loss)\n",
    "print(\"Accuracy: \", test_acc)"
   ]
  },
  {
   "cell_type": "code",
   "execution_count": 22,
   "id": "231fab66",
   "metadata": {},
   "outputs": [
    {
     "data": {
      "text/plain": [
       "<matplotlib.legend.Legend at 0x7f7d19796978>"
      ]
     },
     "execution_count": 22,
     "metadata": {},
     "output_type": "execute_result"
    },
    {
     "data": {
      "image/png": "[encoded data removed]",
      "text/plain": [
       "<Figure size 432x288 with 1 Axes>"
      ]
     },
     "metadata": {
      "needs_background": "light"
     },
     "output_type": "display_data"
    },
    {
     "name": "stdout",
     "output_type": "stream",
     "text": [
      "time: 140 ms (started: 2021-07-31 16:20:24 +00:00)\n"
     ]
    }
   ],
   "source": [
    "plt.plot(history.history['accuracy'], label='accuracy')\n",
    "plt.plot(history.history['val_accuracy'], label = 'val_accuracy')\n",
    "plt.xlabel('Epoch')\n",
    "plt.ylabel('Accuracy')\n",
    "plt.ylim([0.5, 1])\n",
    "plt.legend(loc='lower right')"
   ]
  },
  {
   "cell_type": "code",
   "execution_count": null,
   "id": "3b41c58a",
   "metadata": {},
   "outputs": [],
   "source": []
  },
  {
   "cell_type": "code",
   "execution_count": 23,
   "id": "ee1934b1",
   "metadata": {},
   "outputs": [
    {
     "name": "stdout",
     "output_type": "stream",
     "text": [
      "time: 214 µs (started: 2021-07-31 16:20:24 +00:00)\n"
     ]
    }
   ],
   "source": [
    "## Testing"
   ]
  },
  {
   "cell_type": "code",
   "execution_count": 24,
   "id": "6224f093",
   "metadata": {},
   "outputs": [
    {
     "name": "stdout",
     "output_type": "stream",
     "text": [
      "time: 4.25 ms (started: 2021-07-31 16:20:24 +00:00)\n"
     ]
    }
   ],
   "source": [
    "def frame_is_bad(frame):\n",
    "    return round(max(0., min(1., model.predict(np.asarray([frame]))[0][0])) * 100, 2)"
   ]
  },
  {
   "cell_type": "code",
   "execution_count": 25,
   "id": "0a24a4ad",
   "metadata": {},
   "outputs": [
    {
     "name": "stdout",
     "output_type": "stream",
     "text": [
      "Is bad ? 52.01 %\n",
      "time: 83.2 ms (started: 2021-07-31 16:20:24 +00:00)\n"
     ]
    }
   ],
   "source": [
    "print(\"Is bad ?\", frame_is_bad(X_test[0]), \"%\")"
   ]
  }
 ],
 "metadata": {
  "kernelspec": {
   "display_name": "Python 3",
   "language": "python",
   "name": "python3"
  },
  "language_info": {
   "codemirror_mode": {
    "name": "ipython",
    "version": 3
   },
   "file_extension": ".py",
   "mimetype": "text/x-python",
   "name": "python",
   "nbconvert_exporter": "python",
   "pygments_lexer": "ipython3",
   "version": "3.6.14"
  }
 },
 "nbformat": 4,
 "nbformat_minor": 5
}
