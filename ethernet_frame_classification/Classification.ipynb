{
 "cells": [
  {
   "cell_type": "code",
   "execution_count": null,
   "id": "fa0d8b60",
   "metadata": {},
   "outputs": [],
   "source": [
    "import os\n",
    "import time\n",
    "import nest_asyncio\n",
    "nest_asyncio.apply()\n",
    "\n",
    "import pyshark\n",
    "\n",
    "import numpy as np\n",
    "from PIL import Image\n",
    "\n",
    "from sklearn.model_selection import train_test_split\n",
    "from sklearn.neighbors import KNeighborsClassifier\n",
    "from sklearn.linear_model import LogisticRegression\n",
    "from sklearn.svm import SVC, LinearSVC\n",
    "from sklearn.tree import DecisionTreeClassifier \n",
    "from sklearn.ensemble import RandomForestClassifier, GradientBoostingClassifier, BaggingClassifier, ExtraTreesClassifier\n",
    "from sklearn.naive_bayes import GaussianNB \n",
    "from sklearn.discriminant_analysis import LinearDiscriminantAnalysis\n",
    "from sklearn.pipeline import Pipeline\n",
    "from sklearn.feature_selection import SelectFromModel, RFECV\n",
    "from sklearn.metrics import accuracy_score\n",
    "from sklearn.model_selection import cross_val_score\n",
    "\n",
    "import numpy as np\n",
    "import tensorflow as tf\n",
    "from tensorflow.keras.preprocessing.text import Tokenizer\n",
    "from tensorflow.keras.models import Sequential\n",
    "from tensorflow.keras.layers import Dense, LSTM, Flatten, Conv2D, MaxPooling2D\n",
    "from tensorflow.keras.optimizers import SGD\n",
    "\n",
    "import matplotlib.pyplot as plt"
   ]
  },
  {
   "cell_type": "code",
   "execution_count": null,
   "id": "1c56b97d",
   "metadata": {},
   "outputs": [],
   "source": [
    "%matplotlib inline\n",
    "%load_ext autotime"
   ]
  },
  {
   "cell_type": "code",
   "execution_count": null,
   "id": "fa49692f",
   "metadata": {},
   "outputs": [],
   "source": [
    "## Loading data"
   ]
  },
  {
   "cell_type": "code",
   "execution_count": null,
   "id": "a1466651",
   "metadata": {},
   "outputs": [],
   "source": [
    "def loadDataset(path, extraId=\"\"):\n",
    "    cap = pyshark.FileCapture(path, use_json=True, include_raw=True)\n",
    "    cap.load_packets()\n",
    "    raw_data_list = [c.get_raw_packet() for c in cap]\n",
    "\n",
    "    dataset = []\n",
    "    \n",
    "    for raw_data in raw_data_list:\n",
    "        arr = np.zeros((75, 20), dtype=np.uint8)\n",
    "        x, y = 0, 0\n",
    "        for e in raw_data:\n",
    "            arr[x, y] = e\n",
    "            x += 1\n",
    "            if x == 75:\n",
    "                x = 0\n",
    "                y += 1\n",
    "            if y == 20:\n",
    "                break\n",
    "        dataset.append(arr.flatten())  \n",
    "    return np.asarray(dataset)"
   ]
  },
  {
   "cell_type": "code",
   "execution_count": null,
   "id": "d386ab48",
   "metadata": {},
   "outputs": [],
   "source": [
    "badQueries = loadDataset('./dataset/badHttpQueriesFiltered.pcap')\n",
    "\n",
    "badCount = len(badQueries)"
   ]
  },
  {
   "cell_type": "code",
   "execution_count": null,
   "id": "568d7780",
   "metadata": {},
   "outputs": [],
   "source": [
    "badCount"
   ]
  },
  {
   "cell_type": "code",
   "execution_count": null,
   "id": "23de637e",
   "metadata": {},
   "outputs": [],
   "source": []
  },
  {
   "cell_type": "code",
   "execution_count": null,
   "id": "b05522bc",
   "metadata": {},
   "outputs": [],
   "source": [
    "validQueries = loadDataset('./dataset/goodHttpQueriesFiltered.pcap')\n",
    "\n",
    "validCount = len(validQueries)"
   ]
  },
  {
   "cell_type": "code",
   "execution_count": null,
   "id": "4f5b8bff",
   "metadata": {},
   "outputs": [],
   "source": [
    "validCount"
   ]
  },
  {
   "cell_type": "code",
   "execution_count": null,
   "id": "78e1b6ef",
   "metadata": {},
   "outputs": [],
   "source": []
  },
  {
   "cell_type": "code",
   "execution_count": null,
   "id": "c7168499",
   "metadata": {},
   "outputs": [],
   "source": [
    "## Preparing the dataset"
   ]
  },
  {
   "cell_type": "code",
   "execution_count": null,
   "id": "659c8330",
   "metadata": {},
   "outputs": [],
   "source": [
    "yBad = [1 for i in range(0, len(badQueries))]  #labels, 1 for malicious and 0 for clean\n",
    "yGood = [0 for i in range(0, len(validQueries))]"
   ]
  },
  {
   "cell_type": "code",
   "execution_count": null,
   "id": "241f37e7",
   "metadata": {},
   "outputs": [],
   "source": [
    "X = np.concatenate((badQueries, validQueries), axis=0)\n",
    "y = yBad + yGood"
   ]
  },
  {
   "cell_type": "code",
   "execution_count": null,
   "id": "165e2f60",
   "metadata": {},
   "outputs": [],
   "source": []
  },
  {
   "cell_type": "code",
   "execution_count": null,
   "id": "8ce67bf9",
   "metadata": {},
   "outputs": [],
   "source": [
    "X_train, X_test, y_train, y_test = train_test_split(X, y, test_size=0.2) #splitting data"
   ]
  },
  {
   "cell_type": "code",
   "execution_count": null,
   "id": "432b24ce",
   "metadata": {},
   "outputs": [],
   "source": []
  },
  {
   "cell_type": "code",
   "execution_count": null,
   "id": "9097e967",
   "metadata": {},
   "outputs": [],
   "source": [
    "## KNN"
   ]
  },
  {
   "cell_type": "code",
   "execution_count": null,
   "id": "36b59cb6",
   "metadata": {},
   "outputs": [],
   "source": [
    "def knn_model():\n",
    "    knn = KNeighborsClassifier(1500)\n",
    "    knn.fit(X_train, y_train) \n",
    "    return knn"
   ]
  },
  {
   "cell_type": "code",
   "execution_count": null,
   "id": "b0f7eb39",
   "metadata": {},
   "outputs": [],
   "source": [
    "## Logistic Regression\n",
    "def lr_model():\n",
    "    lr = LogisticRegression()\n",
    "    lr.fit(X_train, y_train)\n",
    "    return lr"
   ]
  },
  {
   "cell_type": "code",
   "execution_count": null,
   "id": "6a93db88",
   "metadata": {},
   "outputs": [],
   "source": [
    "## SVM"
   ]
  },
  {
   "cell_type": "code",
   "execution_count": null,
   "id": "6acaa25c",
   "metadata": {},
   "outputs": [],
   "source": [
    "def svm_model():\n",
    "    svm = SVC(kernel = 'linear', C = 1) #C to improve model \n",
    "    svm.fit(X_train, y_train) \n",
    "    return svm"
   ]
  },
  {
   "cell_type": "code",
   "execution_count": null,
   "id": "aff414cc",
   "metadata": {},
   "outputs": [],
   "source": [
    "## Decision Tree"
   ]
  },
  {
   "cell_type": "code",
   "execution_count": null,
   "id": "b38fa106",
   "metadata": {},
   "outputs": [],
   "source": [
    "def dtree_model():\n",
    "    dtree = DecisionTreeClassifier()\n",
    "    dtree.fit(X_train, y_train)\n",
    "    return dtree"
   ]
  },
  {
   "cell_type": "code",
   "execution_count": null,
   "id": "946f7812",
   "metadata": {},
   "outputs": [],
   "source": [
    "## Random Forest"
   ]
  },
  {
   "cell_type": "code",
   "execution_count": null,
   "id": "2b9bef0b",
   "metadata": {},
   "outputs": [],
   "source": [
    "def rfc_model():\n",
    "    rfc = RandomForestClassifier(1500)\n",
    "    rfc.fit(X_train, y_train)\n",
    "    return rfc"
   ]
  },
  {
   "cell_type": "code",
   "execution_count": null,
   "id": "7e1a6281",
   "metadata": {},
   "outputs": [],
   "source": [
    "## Multiclass LDA"
   ]
  },
  {
   "cell_type": "code",
   "execution_count": null,
   "id": "eaa45b93",
   "metadata": {},
   "outputs": [],
   "source": [
    "def mlda_model():\n",
    "    mlda = LinearDiscriminantAnalysis()\n",
    "    mlda.fit(X_train, y_train)\n",
    "    return mlda"
   ]
  },
  {
   "cell_type": "code",
   "execution_count": null,
   "id": "357b911a",
   "metadata": {},
   "outputs": [],
   "source": [
    "## Gradient Boosting"
   ]
  },
  {
   "cell_type": "code",
   "execution_count": null,
   "id": "0f52da72",
   "metadata": {},
   "outputs": [],
   "source": [
    "def gbc_model():\n",
    "    gbc = GradientBoostingClassifier()\n",
    "    gbc.fit(X_train, y_train)\n",
    "    return gbc"
   ]
  },
  {
   "cell_type": "code",
   "execution_count": null,
   "id": "3c663ca9",
   "metadata": {},
   "outputs": [],
   "source": [
    "## Bagging"
   ]
  },
  {
   "cell_type": "code",
   "execution_count": null,
   "id": "afa06002",
   "metadata": {},
   "outputs": [],
   "source": [
    "def bc_model():\n",
    "    bc = BaggingClassifier()\n",
    "    bc.fit(X_train, y_train)\n",
    "    return bc"
   ]
  },
  {
   "cell_type": "code",
   "execution_count": null,
   "id": "7a985bcb",
   "metadata": {},
   "outputs": [],
   "source": [
    "## Extra Tree"
   ]
  },
  {
   "cell_type": "code",
   "execution_count": null,
   "id": "5c4e551c",
   "metadata": {},
   "outputs": [],
   "source": [
    "def etc_model():\n",
    "    etc = ExtraTreesClassifier(1000, max_features=2, max_depth=None, min_samples_split=2)\n",
    "    etc.fit(X_train, y_train)\n",
    "    return etc"
   ]
  },
  {
   "cell_type": "code",
   "execution_count": null,
   "id": "24ede1f3",
   "metadata": {},
   "outputs": [],
   "source": [
    "def etc_pipe_model():\n",
    "    etc_pipe = Pipeline([\n",
    "        ('feature_selection', SelectFromModel(ExtraTreesClassifier(1000))),\n",
    "        ('classification', ExtraTreesClassifier(1000, max_features=2, max_depth=None, min_samples_split=2))\n",
    "    ])\n",
    "    etc_pipe.fit(X_train, y_train)\n",
    "    return etc_pipe"
   ]
  },
  {
   "cell_type": "code",
   "execution_count": null,
   "id": "ef5d854e",
   "metadata": {},
   "outputs": [],
   "source": [
    "## RFECV"
   ]
  },
  {
   "cell_type": "code",
   "execution_count": null,
   "id": "6f1e2926",
   "metadata": {},
   "outputs": [],
   "source": [
    "def rfecv_model():\n",
    "    rfecv = RFECV(estimator = ExtraTreesClassifier(1500), n_jobs=-1, verbose = 1)\n",
    "    rfecv.fit(X_train, y_train)\n",
    "    return rfecv"
   ]
  },
  {
   "cell_type": "code",
   "execution_count": null,
   "id": "3d97bf64",
   "metadata": {},
   "outputs": [],
   "source": []
  },
  {
   "cell_type": "code",
   "execution_count": null,
   "id": "f937b990",
   "metadata": {},
   "outputs": [],
   "source": [
    "## Metrics"
   ]
  },
  {
   "cell_type": "code",
   "execution_count": 2,
   "id": "6d76c520",
   "metadata": {},
   "outputs": [],
   "source": [
    "classifiers = [\n",
    "    'knn', \n",
    "    #'svm',  # Kernel freeze\n",
    "    'dtree', \n",
    "    'rfc', \n",
    "#    'mlda', # Kernel crash - no more ram ...\n",
    "    'gbc', \n",
    "    'bc', \n",
    "    'etc', \n",
    "    'etc_pipe', \n",
    "#    'rfecv', # Kernel crash - no more ram ...\n",
    "]"
   ]
  },
  {
   "cell_type": "code",
   "execution_count": null,
   "id": "01718de5",
   "metadata": {},
   "outputs": [],
   "source": []
  },
  {
   "cell_type": "code",
   "execution_count": null,
   "id": "bb25e291",
   "metadata": {},
   "outputs": [],
   "source": [
    "for classifier in classifiers :\n",
    "    model_fn = globals()[classifier + \"_model\"]\n",
    "\n",
    "    print(classifier)\n",
    "    print(\"> Training\")\n",
    "    \n",
    "    start_time = time.time()\n",
    "    model = model_fn()\n",
    "    training_duration = round(time.time() - start_time, 3)\n",
    "    print(f\"< {training_duration}s\")\n",
    "    \n",
    "    print(\"> Testing\")\n",
    "    start_time = time.time()\n",
    "    y_pred = model.predict(X_test)\n",
    "    count_misclassified = (y_test != y_pred).sum()\n",
    "    total_y = len(y_test)\n",
    "    testing_duration = round(time.time() - start_time)\n",
    "    print(f\"< {testing_duration}s\")\n",
    "\n",
    "    print(\"> Result\")\n",
    "    print(f\"Misclassified samples: {count_misclassified}/{total_y}\")\n",
    "    accuracy = accuracy_score(y_test, y_pred)\n",
    "    print('Accuracy: {:.2f}'.format(accuracy))\n",
    "          \n",
    "    print()"
   ]
  },
  {
   "cell_type": "code",
   "execution_count": null,
   "id": "3b41c58a",
   "metadata": {},
   "outputs": [],
   "source": []
  }
 ],
 "metadata": {
  "kernelspec": {
   "display_name": "Python 3",
   "language": "python",
   "name": "python3"
  },
  "language_info": {
   "codemirror_mode": {
    "name": "ipython",
    "version": 3
   },
   "file_extension": ".py",
   "mimetype": "text/x-python",
   "name": "python",
   "nbconvert_exporter": "python",
   "pygments_lexer": "ipython3",
   "version": "3.6.14"
  }
 },
 "nbformat": 4,
 "nbformat_minor": 5
}
