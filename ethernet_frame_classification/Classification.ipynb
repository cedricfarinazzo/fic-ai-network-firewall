{
 "cells": [
  {
   "cell_type": "code",
   "execution_count": 1,
   "id": "fa0d8b60",
   "metadata": {},
   "outputs": [],
   "source": [
    "import os\n",
    "import time\n",
    "import nest_asyncio\n",
    "nest_asyncio.apply()\n",
    "\n",
    "import pyshark\n",
    "\n",
    "import numpy as np\n",
    "from PIL import Image\n",
    "\n",
    "from sklearn.model_selection import train_test_split\n",
    "from sklearn.neighbors import KNeighborsClassifier\n",
    "from sklearn.linear_model import LogisticRegression\n",
    "from sklearn.svm import SVC, LinearSVC\n",
    "from sklearn.tree import DecisionTreeClassifier \n",
    "from sklearn.ensemble import RandomForestClassifier, GradientBoostingClassifier, BaggingClassifier, ExtraTreesClassifier\n",
    "from sklearn.naive_bayes import GaussianNB \n",
    "from sklearn.discriminant_analysis import LinearDiscriminantAnalysis\n",
    "from sklearn.pipeline import Pipeline\n",
    "from sklearn.feature_selection import SelectFromModel, RFECV\n",
    "from sklearn.metrics import accuracy_score\n",
    "from sklearn.model_selection import cross_val_score\n",
    "\n",
    "import numpy as np\n",
    "import tensorflow as tf\n",
    "from tensorflow.keras.preprocessing.text import Tokenizer\n",
    "from tensorflow.keras.models import Sequential\n",
    "from tensorflow.keras.layers import Dense, LSTM, Flatten, Conv2D, MaxPooling2D\n",
    "from tensorflow.keras.optimizers import SGD\n",
    "\n",
    "import matplotlib.pyplot as plt"
   ]
  },
  {
   "cell_type": "code",
   "execution_count": 2,
   "id": "1c56b97d",
   "metadata": {},
   "outputs": [
    {
     "name": "stdout",
     "output_type": "stream",
     "text": [
      "time: 142 µs (started: 2021-08-01 13:27:50 +02:00)\n"
     ]
    }
   ],
   "source": [
    "%matplotlib inline\n",
    "%load_ext autotime"
   ]
  },
  {
   "cell_type": "code",
   "execution_count": 3,
   "id": "fa49692f",
   "metadata": {},
   "outputs": [
    {
     "name": "stdout",
     "output_type": "stream",
     "text": [
      "time: 167 µs (started: 2021-08-01 13:27:50 +02:00)\n"
     ]
    }
   ],
   "source": [
    "## Loading data"
   ]
  },
  {
   "cell_type": "code",
   "execution_count": 4,
   "id": "a1466651",
   "metadata": {},
   "outputs": [
    {
     "name": "stdout",
     "output_type": "stream",
     "text": [
      "time: 686 µs (started: 2021-08-01 13:27:50 +02:00)\n"
     ]
    }
   ],
   "source": [
    "def loadDataset(path, extraId=\"\"):\n",
    "    cap = pyshark.FileCapture(path, use_json=True, include_raw=True)\n",
    "    cap.load_packets()\n",
    "    raw_data_list = [c.get_raw_packet() for c in cap]\n",
    "\n",
    "    dataset = []\n",
    "    \n",
    "    for raw_data in raw_data_list:\n",
    "        arr = np.zeros((75, 20), dtype=np.uint8)\n",
    "        x, y = 0, 0\n",
    "        for e in raw_data:\n",
    "            arr[x, y] = e\n",
    "            x += 1\n",
    "            if x == 75:\n",
    "                x = 0\n",
    "                y += 1\n",
    "            if y == 20:\n",
    "                break\n",
    "        dataset.append(arr.flatten())  \n",
    "    return np.asarray(dataset)"
   ]
  },
  {
   "cell_type": "code",
   "execution_count": 5,
   "id": "d386ab48",
   "metadata": {},
   "outputs": [
    {
     "name": "stdout",
     "output_type": "stream",
     "text": [
      "time: 1min 24s (started: 2021-08-01 13:27:50 +02:00)\n"
     ]
    }
   ],
   "source": [
    "badQueries = loadDataset('./dataset/badHttpQueriesFiltered.pcap')\n",
    "\n",
    "badCount = len(badQueries)"
   ]
  },
  {
   "cell_type": "code",
   "execution_count": 6,
   "id": "568d7780",
   "metadata": {},
   "outputs": [
    {
     "data": {
      "text/plain": [
       "153824"
      ]
     },
     "execution_count": 6,
     "metadata": {},
     "output_type": "execute_result"
    },
    {
     "name": "stdout",
     "output_type": "stream",
     "text": [
      "time: 4.04 ms (started: 2021-08-01 13:29:14 +02:00)\n"
     ]
    }
   ],
   "source": [
    "badCount"
   ]
  },
  {
   "cell_type": "code",
   "execution_count": null,
   "id": "23de637e",
   "metadata": {},
   "outputs": [],
   "source": []
  },
  {
   "cell_type": "code",
   "execution_count": 7,
   "id": "b05522bc",
   "metadata": {},
   "outputs": [
    {
     "name": "stdout",
     "output_type": "stream",
     "text": [
      "time: 1min 23s (started: 2021-08-01 13:29:14 +02:00)\n"
     ]
    }
   ],
   "source": [
    "validQueries = loadDataset('./dataset/goodHttpQueriesFiltered.pcap')\n",
    "\n",
    "validCount = len(validQueries)"
   ]
  },
  {
   "cell_type": "code",
   "execution_count": 8,
   "id": "4f5b8bff",
   "metadata": {},
   "outputs": [
    {
     "data": {
      "text/plain": [
       "148962"
      ]
     },
     "execution_count": 8,
     "metadata": {},
     "output_type": "execute_result"
    },
    {
     "name": "stdout",
     "output_type": "stream",
     "text": [
      "time: 1.67 ms (started: 2021-08-01 13:30:38 +02:00)\n"
     ]
    }
   ],
   "source": [
    "validCount"
   ]
  },
  {
   "cell_type": "code",
   "execution_count": null,
   "id": "78e1b6ef",
   "metadata": {},
   "outputs": [],
   "source": []
  },
  {
   "cell_type": "code",
   "execution_count": 9,
   "id": "c7168499",
   "metadata": {},
   "outputs": [
    {
     "name": "stdout",
     "output_type": "stream",
     "text": [
      "time: 367 µs (started: 2021-08-01 13:30:38 +02:00)\n"
     ]
    }
   ],
   "source": [
    "## Preparing the dataset"
   ]
  },
  {
   "cell_type": "code",
   "execution_count": 10,
   "id": "659c8330",
   "metadata": {},
   "outputs": [
    {
     "name": "stdout",
     "output_type": "stream",
     "text": [
      "time: 6.9 ms (started: 2021-08-01 13:30:38 +02:00)\n"
     ]
    }
   ],
   "source": [
    "yBad = [1 for i in range(0, len(badQueries))]  #labels, 1 for malicious and 0 for clean\n",
    "yGood = [0 for i in range(0, len(validQueries))]"
   ]
  },
  {
   "cell_type": "code",
   "execution_count": 11,
   "id": "241f37e7",
   "metadata": {},
   "outputs": [
    {
     "name": "stdout",
     "output_type": "stream",
     "text": [
      "time: 304 ms (started: 2021-08-01 13:30:38 +02:00)\n"
     ]
    }
   ],
   "source": [
    "X = np.concatenate((badQueries, validQueries), axis=0)\n",
    "y = yBad + yGood"
   ]
  },
  {
   "cell_type": "code",
   "execution_count": null,
   "id": "165e2f60",
   "metadata": {},
   "outputs": [],
   "source": []
  },
  {
   "cell_type": "code",
   "execution_count": 12,
   "id": "8ce67bf9",
   "metadata": {},
   "outputs": [
    {
     "name": "stdout",
     "output_type": "stream",
     "text": [
      "time: 418 ms (started: 2021-08-01 13:30:38 +02:00)\n"
     ]
    }
   ],
   "source": [
    "X_train, X_test, y_train, y_test = train_test_split(X, y, test_size=0.2) #splitting data"
   ]
  },
  {
   "cell_type": "code",
   "execution_count": null,
   "id": "432b24ce",
   "metadata": {},
   "outputs": [],
   "source": []
  },
  {
   "cell_type": "code",
   "execution_count": 13,
   "id": "9097e967",
   "metadata": {},
   "outputs": [
    {
     "name": "stdout",
     "output_type": "stream",
     "text": [
      "time: 198 µs (started: 2021-08-01 13:30:39 +02:00)\n"
     ]
    }
   ],
   "source": [
    "## KNN"
   ]
  },
  {
   "cell_type": "code",
   "execution_count": 36,
   "id": "36b59cb6",
   "metadata": {},
   "outputs": [
    {
     "name": "stdout",
     "output_type": "stream",
     "text": [
      "time: 1.24 ms (started: 2021-08-01 13:43:22 +02:00)\n"
     ]
    }
   ],
   "source": [
    "def knn_ball_tree_model():\n",
    "    knn = KNeighborsClassifier(1500, algorithm='ball_tree', n_jobs=-1)\n",
    "    knn.fit(X_train, y_train) \n",
    "    return knn\n",
    "def knn_kd_tree_model():\n",
    "    knn = KNeighborsClassifier(1500, algorithm='kd_tree', n_jobs=-1)\n",
    "    knn.fit(X_train, y_train) \n",
    "    return knn"
   ]
  },
  {
   "cell_type": "code",
   "execution_count": 15,
   "id": "b0f7eb39",
   "metadata": {},
   "outputs": [
    {
     "name": "stdout",
     "output_type": "stream",
     "text": [
      "time: 280 µs (started: 2021-08-01 13:30:39 +02:00)\n"
     ]
    }
   ],
   "source": [
    "## Logistic Regression\n",
    "def lr_model():\n",
    "    lr = LogisticRegression(n_jobs=-1)\n",
    "    lr.fit(X_train, y_train)\n",
    "    return lr"
   ]
  },
  {
   "cell_type": "code",
   "execution_count": 16,
   "id": "6a93db88",
   "metadata": {},
   "outputs": [
    {
     "name": "stdout",
     "output_type": "stream",
     "text": [
      "time: 139 µs (started: 2021-08-01 13:30:39 +02:00)\n"
     ]
    }
   ],
   "source": [
    "## SVM"
   ]
  },
  {
   "cell_type": "code",
   "execution_count": 17,
   "id": "6acaa25c",
   "metadata": {},
   "outputs": [
    {
     "name": "stdout",
     "output_type": "stream",
     "text": [
      "time: 290 µs (started: 2021-08-01 13:30:39 +02:00)\n"
     ]
    }
   ],
   "source": [
    "def svm_model():\n",
    "    svm = SVC(kernel = 'linear', C = 1) #C to improve model \n",
    "    svm.fit(X_train, y_train) \n",
    "    return svm"
   ]
  },
  {
   "cell_type": "code",
   "execution_count": 18,
   "id": "aff414cc",
   "metadata": {},
   "outputs": [
    {
     "name": "stdout",
     "output_type": "stream",
     "text": [
      "time: 173 µs (started: 2021-08-01 13:30:39 +02:00)\n"
     ]
    }
   ],
   "source": [
    "## Decision Tree"
   ]
  },
  {
   "cell_type": "code",
   "execution_count": 19,
   "id": "b38fa106",
   "metadata": {},
   "outputs": [
    {
     "name": "stdout",
     "output_type": "stream",
     "text": [
      "time: 544 µs (started: 2021-08-01 13:30:39 +02:00)\n"
     ]
    }
   ],
   "source": [
    "def dtree_model():\n",
    "    dtree = DecisionTreeClassifier()\n",
    "    dtree.fit(X_train, y_train)\n",
    "    return dtree"
   ]
  },
  {
   "cell_type": "code",
   "execution_count": 20,
   "id": "946f7812",
   "metadata": {},
   "outputs": [
    {
     "name": "stdout",
     "output_type": "stream",
     "text": [
      "time: 152 µs (started: 2021-08-01 13:30:39 +02:00)\n"
     ]
    }
   ],
   "source": [
    "## Random Forest"
   ]
  },
  {
   "cell_type": "code",
   "execution_count": 21,
   "id": "2b9bef0b",
   "metadata": {},
   "outputs": [
    {
     "name": "stdout",
     "output_type": "stream",
     "text": [
      "time: 363 µs (started: 2021-08-01 13:30:39 +02:00)\n"
     ]
    }
   ],
   "source": [
    "def rfc_model():\n",
    "    rfc = RandomForestClassifier(1500, n_jobs=-1)\n",
    "    rfc.fit(X_train, y_train)\n",
    "    return rfc"
   ]
  },
  {
   "cell_type": "code",
   "execution_count": 22,
   "id": "7e1a6281",
   "metadata": {},
   "outputs": [
    {
     "name": "stdout",
     "output_type": "stream",
     "text": [
      "time: 160 µs (started: 2021-08-01 13:30:39 +02:00)\n"
     ]
    }
   ],
   "source": [
    "## Multiclass LDA"
   ]
  },
  {
   "cell_type": "code",
   "execution_count": 23,
   "id": "eaa45b93",
   "metadata": {},
   "outputs": [
    {
     "name": "stdout",
     "output_type": "stream",
     "text": [
      "time: 280 µs (started: 2021-08-01 13:30:39 +02:00)\n"
     ]
    }
   ],
   "source": [
    "def mlda_model():\n",
    "    mlda = LinearDiscriminantAnalysis()\n",
    "    mlda.fit(X_train, y_train)\n",
    "    return mlda"
   ]
  },
  {
   "cell_type": "code",
   "execution_count": 24,
   "id": "357b911a",
   "metadata": {},
   "outputs": [
    {
     "name": "stdout",
     "output_type": "stream",
     "text": [
      "time: 156 µs (started: 2021-08-01 13:30:39 +02:00)\n"
     ]
    }
   ],
   "source": [
    "## Gradient Boosting"
   ]
  },
  {
   "cell_type": "code",
   "execution_count": 25,
   "id": "0f52da72",
   "metadata": {},
   "outputs": [
    {
     "name": "stdout",
     "output_type": "stream",
     "text": [
      "time: 264 µs (started: 2021-08-01 13:30:39 +02:00)\n"
     ]
    }
   ],
   "source": [
    "def gbc_model():\n",
    "    gbc = GradientBoostingClassifier()\n",
    "    gbc.fit(X_train, y_train)\n",
    "    return gbc"
   ]
  },
  {
   "cell_type": "code",
   "execution_count": 26,
   "id": "3c663ca9",
   "metadata": {},
   "outputs": [
    {
     "name": "stdout",
     "output_type": "stream",
     "text": [
      "time: 167 µs (started: 2021-08-01 13:30:39 +02:00)\n"
     ]
    }
   ],
   "source": [
    "## Bagging"
   ]
  },
  {
   "cell_type": "code",
   "execution_count": 27,
   "id": "afa06002",
   "metadata": {},
   "outputs": [
    {
     "name": "stdout",
     "output_type": "stream",
     "text": [
      "time: 1.96 ms (started: 2021-08-01 13:30:39 +02:00)\n"
     ]
    }
   ],
   "source": [
    "def bc_model():\n",
    "    bc = BaggingClassifier()\n",
    "    bc.fit(X_train, y_train)\n",
    "    return bc"
   ]
  },
  {
   "cell_type": "code",
   "execution_count": 28,
   "id": "7a985bcb",
   "metadata": {},
   "outputs": [
    {
     "name": "stdout",
     "output_type": "stream",
     "text": [
      "time: 506 µs (started: 2021-08-01 13:30:39 +02:00)\n"
     ]
    }
   ],
   "source": [
    "## Extra Tree"
   ]
  },
  {
   "cell_type": "code",
   "execution_count": 29,
   "id": "5c4e551c",
   "metadata": {},
   "outputs": [
    {
     "name": "stdout",
     "output_type": "stream",
     "text": [
      "time: 472 µs (started: 2021-08-01 13:30:39 +02:00)\n"
     ]
    }
   ],
   "source": [
    "def etc_model():\n",
    "    etc = ExtraTreesClassifier(1000, max_features=2, max_depth=None, min_samples_split=2, n_jobs=-1)\n",
    "    etc.fit(X_train, y_train)\n",
    "    return etc"
   ]
  },
  {
   "cell_type": "code",
   "execution_count": 30,
   "id": "24ede1f3",
   "metadata": {},
   "outputs": [
    {
     "name": "stdout",
     "output_type": "stream",
     "text": [
      "time: 370 µs (started: 2021-08-01 13:30:39 +02:00)\n"
     ]
    }
   ],
   "source": [
    "def etc_pipe_model():\n",
    "    etc_pipe = Pipeline([\n",
    "        ('feature_selection', SelectFromModel(ExtraTreesClassifier(1000))),\n",
    "        ('classification', ExtraTreesClassifier(1000, max_features=2, max_depth=None, min_samples_split=2, n_jobs=-1))\n",
    "    ])\n",
    "    etc_pipe.fit(X_train, y_train)\n",
    "    return etc_pipe"
   ]
  },
  {
   "cell_type": "code",
   "execution_count": 31,
   "id": "ef5d854e",
   "metadata": {},
   "outputs": [
    {
     "name": "stdout",
     "output_type": "stream",
     "text": [
      "time: 6.52 ms (started: 2021-08-01 13:30:39 +02:00)\n"
     ]
    }
   ],
   "source": [
    "## RFECV"
   ]
  },
  {
   "cell_type": "code",
   "execution_count": 32,
   "id": "6f1e2926",
   "metadata": {},
   "outputs": [
    {
     "name": "stdout",
     "output_type": "stream",
     "text": [
      "time: 705 µs (started: 2021-08-01 13:30:39 +02:00)\n"
     ]
    }
   ],
   "source": [
    "def rfecv_model():\n",
    "    rfecv = RFECV(estimator = ExtraTreesClassifier(1500), n_jobs=-1, verbose = 1)\n",
    "    rfecv.fit(X_train, y_train)\n",
    "    return rfecv"
   ]
  },
  {
   "cell_type": "code",
   "execution_count": null,
   "id": "3d97bf64",
   "metadata": {},
   "outputs": [],
   "source": []
  },
  {
   "cell_type": "code",
   "execution_count": 33,
   "id": "f937b990",
   "metadata": {},
   "outputs": [
    {
     "name": "stdout",
     "output_type": "stream",
     "text": [
      "time: 152 µs (started: 2021-08-01 13:30:39 +02:00)\n"
     ]
    }
   ],
   "source": [
    "## Metrics"
   ]
  },
  {
   "cell_type": "code",
   "execution_count": 40,
   "id": "6d76c520",
   "metadata": {},
   "outputs": [
    {
     "name": "stdout",
     "output_type": "stream",
     "text": [
      "time: 419 µs (started: 2021-08-01 16:37:25 +02:00)\n"
     ]
    }
   ],
   "source": [
    "classifiers = [\n",
    "    'knn_ball_tree', \n",
    "    'knn_kd_tree',\n",
    "#    'svm',  # Kernel freeze\n",
    "    'dtree', \n",
    "    'rfc', \n",
    "#    'mlda', # Kernel crash - no more ram ...\n",
    "    'gbc', \n",
    "    'bc', \n",
    "    'etc', \n",
    "#    'etc_pipe', # Kernel crash\n",
    "#    'rfecv', # Kernel crash - no more ram ...\n",
    "]"
   ]
  },
  {
   "cell_type": "code",
   "execution_count": null,
   "id": "01718de5",
   "metadata": {},
   "outputs": [],
   "source": []
  },
  {
   "cell_type": "code",
   "execution_count": null,
   "id": "bb25e291",
   "metadata": {},
   "outputs": [
    {
     "name": "stdout",
     "output_type": "stream",
     "text": [
      "knn_ball_tree\n",
      "> Training\n",
      "< 73.117s\n",
      "> Testing\n",
      "< 4372s\n",
      "> Result\n",
      "Misclassified samples: 26959/60558\n",
      "Accuracy: 0.55\n",
      "\n",
      "knn_kd_tree\n",
      "> Training\n",
      "< 92.289s\n",
      "> Testing\n",
      "< 4691s\n",
      "> Result\n",
      "Misclassified samples: 26956/60558\n",
      "Accuracy: 0.55\n",
      "\n",
      "dtree\n",
      "> Training\n",
      "< 5.69s\n",
      "> Testing\n",
      "< 0s\n",
      "> Result\n",
      "Misclassified samples: 0/60558\n",
      "Accuracy: 1.00\n",
      "\n",
      "rfc\n",
      "> Training\n",
      "< 249.879s\n",
      "> Testing\n",
      "< 4s\n",
      "> Result\n",
      "Misclassified samples: 0/60558\n",
      "Accuracy: 1.00\n",
      "\n",
      "gbc\n",
      "> Training\n",
      "< 646.379s\n",
      "> Testing\n",
      "< 1s\n",
      "> Result\n",
      "Misclassified samples: 0/60558\n",
      "Accuracy: 1.00\n",
      "\n",
      "bc\n",
      "> Training\n",
      "< 31.88s\n",
      "> Testing\n",
      "< 4s\n",
      "> Result\n",
      "Misclassified samples: 0/60558\n",
      "Accuracy: 1.00\n",
      "\n",
      "etc\n",
      "> Training\n",
      "< 275.184s\n",
      "> Testing\n",
      "< 5s\n",
      "> Result\n",
      "Misclassified samples: 0/60558\n",
      "Accuracy: 1.00\n"
     ]
    }
   ],
   "source": [
    "for classifier in classifiers :\n",
    "    model_fn = globals()[classifier + \"_model\"]\n",
    "    \n",
    "    print(classifier)\n",
    "    print(\"> Training\")\n",
    "    \n",
    "    start_time = time.time()\n",
    "    model = model_fn()\n",
    "    training_duration = round(time.time() - start_time, 3)\n",
    "    print(f\"< {training_duration}s\")\n",
    "    \n",
    "    print(\"> Testing\")\n",
    "    start_time = time.time()\n",
    "    y_pred = model.predict(X_test)\n",
    "    count_misclassified = (y_test != y_pred).sum()\n",
    "    total_y = len(y_test)\n",
    "    testing_duration = round(time.time() - start_time)\n",
    "    print(f\"< {testing_duration}s\")\n",
    "\n",
    "    print(\"> Result\")\n",
    "    print(f\"Misclassified samples: {count_misclassified}/{total_y}\")\n",
    "    accuracy = accuracy_score(y_test, y_pred)\n",
    "    print('Accuracy: {:.2f}'.format(accuracy))\n",
    "          \n",
    "    print()"
   ]
  }
 ],
 "metadata": {
  "kernelspec": {
   "display_name": "Python 3 (ipykernel)",
   "language": "python",
   "name": "python3"
  },
  "language_info": {
   "codemirror_mode": {
    "name": "ipython",
    "version": 3
   },
   "file_extension": ".py",
   "mimetype": "text/x-python",
   "name": "python",
   "nbconvert_exporter": "python",
   "pygments_lexer": "ipython3",
   "version": "3.7.3"
  }
 },
 "nbformat": 4,
 "nbformat_minor": 5
}
