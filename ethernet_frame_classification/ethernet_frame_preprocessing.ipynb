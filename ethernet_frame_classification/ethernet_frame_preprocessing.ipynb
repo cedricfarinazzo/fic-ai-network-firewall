{
 "cells": [
  {
   "cell_type": "code",
   "execution_count": 1,
   "id": "e5e90b33",
   "metadata": {},
   "outputs": [],
   "source": [
    "import nest_asyncio\n",
    "nest_asyncio.apply()\n",
    "import pyshark\n",
    "import numpy as np\n",
    "from PIL import Image"
   ]
  },
  {
   "cell_type": "code",
   "execution_count": 2,
   "id": "298d1d23",
   "metadata": {},
   "outputs": [
    {
     "name": "stdout",
     "output_type": "stream",
     "text": [
      "time: 144 µs (started: 2021-07-28 21:05:55 +00:00)\n"
     ]
    }
   ],
   "source": [
    "%load_ext autotime"
   ]
  },
  {
   "cell_type": "code",
   "execution_count": 3,
   "id": "a5818759",
   "metadata": {},
   "outputs": [
    {
     "name": "stdout",
     "output_type": "stream",
     "text": [
      "time: 3.61 ms (started: 2021-07-28 21:05:55 +00:00)\n"
     ]
    }
   ],
   "source": [
    "cap = pyshark.FileCapture('./dataset/badHttpQueries.pcap', use_json=True, include_raw=True)"
   ]
  },
  {
   "cell_type": "code",
   "execution_count": null,
   "id": "c004441f",
   "metadata": {},
   "outputs": [],
   "source": []
  },
  {
   "cell_type": "code",
   "execution_count": null,
   "id": "6c54c004",
   "metadata": {},
   "outputs": [],
   "source": []
  },
  {
   "cell_type": "code",
   "execution_count": 4,
   "id": "9b18e87c",
   "metadata": {},
   "outputs": [
    {
     "name": "stdout",
     "output_type": "stream",
     "text": [
      "[2, 66, 172, 17, 0, 2, 2, 66, 172, 17, 0, 3, 8, 0, 69, 0, 0, 60, 224, 252, 64, 0, 64, 6, 1, 152, 172, 17, 0, 3, 172, 17, 0, 2, 160, 176, 0, 80, 51, 28, 68, 18, 0, 0, 0, 0, 160, 2, 250, 240, 88, 86, 0, 0, 2, 4, 5, 180, 4, 2, 8, 10, 96, 66, 48, 48, 0, 0, 0, 0, 1, 3, 3, 7]\n",
      "time: 408 ms (started: 2021-07-28 21:05:55 +00:00)\n"
     ]
    }
   ],
   "source": [
    "print(list(cap[0].get_raw_packet()))"
   ]
  },
  {
   "cell_type": "code",
   "execution_count": 5,
   "id": "e59fb995",
   "metadata": {},
   "outputs": [
    {
     "name": "stdout",
     "output_type": "stream",
     "text": [
      "time: 2.73 ms (started: 2021-07-28 21:05:55 +00:00)\n"
     ]
    }
   ],
   "source": [
    "arr = np.zeros((75, 20, 3), dtype=np.uint8)\n",
    "\n",
    "x, y = 0, 0\n",
    "for e in list(cap[0].get_raw_packet()):\n",
    "    arr[x, y] = [e, e, e]\n",
    "    x += 1\n",
    "    if x == 75:\n",
    "        x = 0\n",
    "        y += 1\n",
    "    if y == 20:\n",
    "        break\n",
    "\n",
    "img = Image.fromarray(arr, 'RGB')\n"
   ]
  },
  {
   "cell_type": "code",
   "execution_count": 6,
   "id": "919989c7",
   "metadata": {},
   "outputs": [
    {
     "data": {
      "text/plain": [
       "array([[[  2,   2,   2],\n",
       "        [  0,   0,   0],\n",
       "        [  0,   0,   0],\n",
       "        ...,\n",
       "        [  0,   0,   0],\n",
       "        [  0,   0,   0],\n",
       "        [  0,   0,   0]],\n",
       "\n",
       "       [[ 66,  66,  66],\n",
       "        [  0,   0,   0],\n",
       "        [  0,   0,   0],\n",
       "        ...,\n",
       "        [  0,   0,   0],\n",
       "        [  0,   0,   0],\n",
       "        [  0,   0,   0]],\n",
       "\n",
       "       [[172, 172, 172],\n",
       "        [  0,   0,   0],\n",
       "        [  0,   0,   0],\n",
       "        ...,\n",
       "        [  0,   0,   0],\n",
       "        [  0,   0,   0],\n",
       "        [  0,   0,   0]],\n",
       "\n",
       "       ...,\n",
       "\n",
       "       [[  3,   3,   3],\n",
       "        [  0,   0,   0],\n",
       "        [  0,   0,   0],\n",
       "        ...,\n",
       "        [  0,   0,   0],\n",
       "        [  0,   0,   0],\n",
       "        [  0,   0,   0]],\n",
       "\n",
       "       [[  7,   7,   7],\n",
       "        [  0,   0,   0],\n",
       "        [  0,   0,   0],\n",
       "        ...,\n",
       "        [  0,   0,   0],\n",
       "        [  0,   0,   0],\n",
       "        [  0,   0,   0]],\n",
       "\n",
       "       [[  0,   0,   0],\n",
       "        [  0,   0,   0],\n",
       "        [  0,   0,   0],\n",
       "        ...,\n",
       "        [  0,   0,   0],\n",
       "        [  0,   0,   0],\n",
       "        [  0,   0,   0]]], dtype=uint8)"
      ]
     },
     "execution_count": 6,
     "metadata": {},
     "output_type": "execute_result"
    },
    {
     "name": "stdout",
     "output_type": "stream",
     "text": [
      "time: 17.7 ms (started: 2021-07-28 21:05:55 +00:00)\n"
     ]
    }
   ],
   "source": [
    "arr"
   ]
  },
  {
   "cell_type": "code",
   "execution_count": null,
   "id": "7d110ed0",
   "metadata": {},
   "outputs": [],
   "source": []
  },
  {
   "cell_type": "code",
   "execution_count": 7,
   "id": "fdc31c3d",
   "metadata": {},
   "outputs": [
    {
     "data": {
      "image/png": "[encoded data removed]",
      "text/plain": [
       "<PIL.Image.Image image mode=RGB size=20x75 at 0x7F325C74EBE0>"
      ]
     },
     "execution_count": 7,
     "metadata": {},
     "output_type": "execute_result"
    },
    {
     "name": "stdout",
     "output_type": "stream",
     "text": [
      "time: 13.3 ms (started: 2021-07-28 21:05:55 +00:00)\n"
     ]
    }
   ],
   "source": [
    "img"
   ]
  },
  {
   "cell_type": "code",
   "execution_count": 8,
   "id": "7d9eecca",
   "metadata": {},
   "outputs": [
    {
     "data": {
      "text/plain": [
       "(20, 75)"
      ]
     },
     "execution_count": 8,
     "metadata": {},
     "output_type": "execute_result"
    },
    {
     "name": "stdout",
     "output_type": "stream",
     "text": [
      "time: 2.23 ms (started: 2021-07-28 21:05:55 +00:00)\n"
     ]
    }
   ],
   "source": [
    "img.size"
   ]
  },
  {
   "cell_type": "code",
   "execution_count": 9,
   "id": "1e1b006a",
   "metadata": {},
   "outputs": [
    {
     "name": "stdout",
     "output_type": "stream",
     "text": [
      "time: 4.4 ms (started: 2021-07-28 21:05:55 +00:00)\n"
     ]
    }
   ],
   "source": [
    "arr2 = np.zeros((75, 20, 3), dtype=np.uint8)\n",
    "for i in range(75):\n",
    "    for j in range(20):\n",
    "        arr2[i, j] = img.getpixel((j, i))\n"
   ]
  },
  {
   "cell_type": "code",
   "execution_count": 10,
   "id": "f87093cc",
   "metadata": {},
   "outputs": [
    {
     "data": {
      "text/plain": [
       "array([[[  2,   2,   2],\n",
       "        [  0,   0,   0],\n",
       "        [  0,   0,   0],\n",
       "        ...,\n",
       "        [  0,   0,   0],\n",
       "        [  0,   0,   0],\n",
       "        [  0,   0,   0]],\n",
       "\n",
       "       [[ 66,  66,  66],\n",
       "        [  0,   0,   0],\n",
       "        [  0,   0,   0],\n",
       "        ...,\n",
       "        [  0,   0,   0],\n",
       "        [  0,   0,   0],\n",
       "        [  0,   0,   0]],\n",
       "\n",
       "       [[172, 172, 172],\n",
       "        [  0,   0,   0],\n",
       "        [  0,   0,   0],\n",
       "        ...,\n",
       "        [  0,   0,   0],\n",
       "        [  0,   0,   0],\n",
       "        [  0,   0,   0]],\n",
       "\n",
       "       ...,\n",
       "\n",
       "       [[  3,   3,   3],\n",
       "        [  0,   0,   0],\n",
       "        [  0,   0,   0],\n",
       "        ...,\n",
       "        [  0,   0,   0],\n",
       "        [  0,   0,   0],\n",
       "        [  0,   0,   0]],\n",
       "\n",
       "       [[  7,   7,   7],\n",
       "        [  0,   0,   0],\n",
       "        [  0,   0,   0],\n",
       "        ...,\n",
       "        [  0,   0,   0],\n",
       "        [  0,   0,   0],\n",
       "        [  0,   0,   0]],\n",
       "\n",
       "       [[  0,   0,   0],\n",
       "        [  0,   0,   0],\n",
       "        [  0,   0,   0],\n",
       "        ...,\n",
       "        [  0,   0,   0],\n",
       "        [  0,   0,   0],\n",
       "        [  0,   0,   0]]], dtype=uint8)"
      ]
     },
     "execution_count": 10,
     "metadata": {},
     "output_type": "execute_result"
    },
    {
     "name": "stdout",
     "output_type": "stream",
     "text": [
      "time: 4.76 ms (started: 2021-07-28 21:05:55 +00:00)\n"
     ]
    }
   ],
   "source": [
    "arr2"
   ]
  },
  {
   "cell_type": "code",
   "execution_count": 11,
   "id": "c5bae3bb",
   "metadata": {},
   "outputs": [
    {
     "data": {
      "text/plain": [
       "True"
      ]
     },
     "execution_count": 11,
     "metadata": {},
     "output_type": "execute_result"
    },
    {
     "name": "stdout",
     "output_type": "stream",
     "text": [
      "time: 2.59 ms (started: 2021-07-28 21:05:55 +00:00)\n"
     ]
    }
   ],
   "source": [
    "np.array_equal(arr, arr2)"
   ]
  },
  {
   "cell_type": "code",
   "execution_count": 12,
   "id": "d8e4e58f",
   "metadata": {},
   "outputs": [
    {
     "name": "stdout",
     "output_type": "stream",
     "text": [
      "time: 7.64 ms (started: 2021-07-28 21:05:55 +00:00)\n"
     ]
    }
   ],
   "source": [
    "frame = []\n",
    "for j in range(20):\n",
    "    for i in range(75):\n",
    "        frame.append(arr2[i, j, 0])\n",
    "while frame[-1] == 0:\n",
    "    frame.pop()"
   ]
  },
  {
   "cell_type": "code",
   "execution_count": 13,
   "id": "2caa8a75",
   "metadata": {},
   "outputs": [
    {
     "name": "stdout",
     "output_type": "stream",
     "text": [
      "[2, 66, 172, 17, 0, 2, 2, 66, 172, 17, 0, 3, 8, 0, 69, 0, 0, 60, 224, 252, 64, 0, 64, 6, 1, 152, 172, 17, 0, 3, 172, 17, 0, 2, 160, 176, 0, 80, 51, 28, 68, 18, 0, 0, 0, 0, 160, 2, 250, 240, 88, 86, 0, 0, 2, 4, 5, 180, 4, 2, 8, 10, 96, 66, 48, 48, 0, 0, 0, 0, 1, 3, 3, 7]\n",
      "time: 1.12 ms (started: 2021-07-28 21:05:55 +00:00)\n"
     ]
    }
   ],
   "source": [
    "print(frame)"
   ]
  },
  {
   "cell_type": "code",
   "execution_count": 14,
   "id": "9b9dfd2d",
   "metadata": {},
   "outputs": [
    {
     "data": {
      "text/plain": [
       "True"
      ]
     },
     "execution_count": 14,
     "metadata": {},
     "output_type": "execute_result"
    },
    {
     "name": "stdout",
     "output_type": "stream",
     "text": [
      "time: 2.81 ms (started: 2021-07-28 21:05:55 +00:00)\n"
     ]
    }
   ],
   "source": [
    "frame == list(cap[0].get_raw_packet())"
   ]
  }
 ],
 "metadata": {
  "kernelspec": {
   "display_name": "Python 3",
   "language": "python",
   "name": "python3"
  },
  "language_info": {
   "codemirror_mode": {
    "name": "ipython",
    "version": 3
   },
   "file_extension": ".py",
   "mimetype": "text/x-python",
   "name": "python",
   "nbconvert_exporter": "python",
   "pygments_lexer": "ipython3",
   "version": "3.6.14"
  }
 },
 "nbformat": 4,
 "nbformat_minor": 5
}
