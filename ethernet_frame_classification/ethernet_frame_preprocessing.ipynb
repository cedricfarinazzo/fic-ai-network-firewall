{
 "cells": [
  {
   "cell_type": "code",
   "execution_count": 1,
   "id": "e5e90b33",
   "metadata": {},
   "outputs": [],
   "source": [
    "import nest_asyncio\n",
    "nest_asyncio.apply()\n",
    "import pyshark\n",
    "import numpy as np\n",
    "from PIL import Image"
   ]
  },
  {
   "cell_type": "code",
   "execution_count": null,
   "id": "298d1d23",
   "metadata": {},
   "outputs": [],
   "source": []
  },
  {
   "cell_type": "code",
   "execution_count": 2,
   "id": "a5818759",
   "metadata": {},
   "outputs": [],
   "source": [
    "cap = pyshark.FileCapture('./dataset/capture-pc1.pcap', use_json=True, include_raw=True)"
   ]
  },
  {
   "cell_type": "code",
   "execution_count": null,
   "id": "c004441f",
   "metadata": {},
   "outputs": [],
   "source": []
  },
  {
   "cell_type": "code",
   "execution_count": null,
   "id": "6c54c004",
   "metadata": {},
   "outputs": [],
   "source": []
  },
  {
   "cell_type": "code",
   "execution_count": 3,
   "id": "9b18e87c",
   "metadata": {},
   "outputs": [
    {
     "name": "stdout",
     "output_type": "stream",
     "text": [
      "[89, 133, 126, 122, 212, 70, 154, 160, 213, 56, 113, 131, 8, 0, 69, 0, 0, 70, 181, 92, 0, 0, 128, 17, 250, 215, 192, 168, 132, 160, 192, 168, 132, 129, 255, 47, 0, 53, 0, 50, 58, 122, 55, 77, 1, 0, 0, 1, 0, 0, 0, 0, 0, 0, 10, 97, 117, 116, 111, 117, 112, 100, 97, 116, 101, 3, 103, 101, 111, 5, 111, 112, 101, 114, 97, 3, 99, 111, 109, 0, 0, 1, 0, 1]\n"
     ]
    }
   ],
   "source": [
    "print(list(cap[0].get_raw_packet()))"
   ]
  },
  {
   "cell_type": "code",
   "execution_count": 4,
   "id": "e59fb995",
   "metadata": {},
   "outputs": [],
   "source": [
    "arr = np.zeros((75, 20, 3), dtype=np.uint8)\n",
    "\n",
    "x, y = 0, 0\n",
    "for e in list(cap[0].get_raw_packet()):\n",
    "    arr[x, y] = [e, e, e]\n",
    "    x += 1\n",
    "    if x == 75:\n",
    "        x = 0\n",
    "        y += 1\n",
    "    if y == 20:\n",
    "        break\n",
    "\n",
    "img = Image.fromarray(arr, 'RGB')\n"
   ]
  },
  {
   "cell_type": "code",
   "execution_count": 5,
   "id": "919989c7",
   "metadata": {},
   "outputs": [
    {
     "data": {
      "text/plain": [
       "array([[[ 89,  89,  89],\n",
       "        [  3,   3,   3],\n",
       "        [  0,   0,   0],\n",
       "        ...,\n",
       "        [  0,   0,   0],\n",
       "        [  0,   0,   0],\n",
       "        [  0,   0,   0]],\n",
       "\n",
       "       [[133, 133, 133],\n",
       "        [ 99,  99,  99],\n",
       "        [  0,   0,   0],\n",
       "        ...,\n",
       "        [  0,   0,   0],\n",
       "        [  0,   0,   0],\n",
       "        [  0,   0,   0]],\n",
       "\n",
       "       [[126, 126, 126],\n",
       "        [111, 111, 111],\n",
       "        [  0,   0,   0],\n",
       "        ...,\n",
       "        [  0,   0,   0],\n",
       "        [  0,   0,   0],\n",
       "        [  0,   0,   0]],\n",
       "\n",
       "       ...,\n",
       "\n",
       "       [[101, 101, 101],\n",
       "        [  0,   0,   0],\n",
       "        [  0,   0,   0],\n",
       "        ...,\n",
       "        [  0,   0,   0],\n",
       "        [  0,   0,   0],\n",
       "        [  0,   0,   0]],\n",
       "\n",
       "       [[114, 114, 114],\n",
       "        [  0,   0,   0],\n",
       "        [  0,   0,   0],\n",
       "        ...,\n",
       "        [  0,   0,   0],\n",
       "        [  0,   0,   0],\n",
       "        [  0,   0,   0]],\n",
       "\n",
       "       [[ 97,  97,  97],\n",
       "        [  0,   0,   0],\n",
       "        [  0,   0,   0],\n",
       "        ...,\n",
       "        [  0,   0,   0],\n",
       "        [  0,   0,   0],\n",
       "        [  0,   0,   0]]], dtype=uint8)"
      ]
     },
     "execution_count": 5,
     "metadata": {},
     "output_type": "execute_result"
    }
   ],
   "source": [
    "arr"
   ]
  },
  {
   "cell_type": "code",
   "execution_count": null,
   "id": "7d110ed0",
   "metadata": {},
   "outputs": [],
   "source": []
  },
  {
   "cell_type": "code",
   "execution_count": 6,
   "id": "fdc31c3d",
   "metadata": {},
   "outputs": [
    {
     "data": {
      "image/png": "[encoded data removed]",
      "text/plain": [
       "<PIL.Image.Image image mode=RGB size=20x75 at 0x7FE3702E0438>"
      ]
     },
     "execution_count": 6,
     "metadata": {},
     "output_type": "execute_result"
    }
   ],
   "source": [
    "img"
   ]
  },
  {
   "cell_type": "code",
   "execution_count": 7,
   "id": "7d9eecca",
   "metadata": {},
   "outputs": [
    {
     "data": {
      "text/plain": [
       "(20, 75)"
      ]
     },
     "execution_count": 7,
     "metadata": {},
     "output_type": "execute_result"
    }
   ],
   "source": [
    "img.size"
   ]
  },
  {
   "cell_type": "code",
   "execution_count": 8,
   "id": "1e1b006a",
   "metadata": {},
   "outputs": [],
   "source": [
    "arr2 = np.zeros((75, 20, 3), dtype=np.uint8)\n",
    "for i in range(75):\n",
    "    for j in range(20):\n",
    "        arr2[i, j] = img.getpixel((j, i))\n"
   ]
  },
  {
   "cell_type": "code",
   "execution_count": 9,
   "id": "f87093cc",
   "metadata": {},
   "outputs": [
    {
     "data": {
      "text/plain": [
       "array([[[ 89,  89,  89],\n",
       "        [  3,   3,   3],\n",
       "        [  0,   0,   0],\n",
       "        ...,\n",
       "        [  0,   0,   0],\n",
       "        [  0,   0,   0],\n",
       "        [  0,   0,   0]],\n",
       "\n",
       "       [[133, 133, 133],\n",
       "        [ 99,  99,  99],\n",
       "        [  0,   0,   0],\n",
       "        ...,\n",
       "        [  0,   0,   0],\n",
       "        [  0,   0,   0],\n",
       "        [  0,   0,   0]],\n",
       "\n",
       "       [[126, 126, 126],\n",
       "        [111, 111, 111],\n",
       "        [  0,   0,   0],\n",
       "        ...,\n",
       "        [  0,   0,   0],\n",
       "        [  0,   0,   0],\n",
       "        [  0,   0,   0]],\n",
       "\n",
       "       ...,\n",
       "\n",
       "       [[101, 101, 101],\n",
       "        [  0,   0,   0],\n",
       "        [  0,   0,   0],\n",
       "        ...,\n",
       "        [  0,   0,   0],\n",
       "        [  0,   0,   0],\n",
       "        [  0,   0,   0]],\n",
       "\n",
       "       [[114, 114, 114],\n",
       "        [  0,   0,   0],\n",
       "        [  0,   0,   0],\n",
       "        ...,\n",
       "        [  0,   0,   0],\n",
       "        [  0,   0,   0],\n",
       "        [  0,   0,   0]],\n",
       "\n",
       "       [[ 97,  97,  97],\n",
       "        [  0,   0,   0],\n",
       "        [  0,   0,   0],\n",
       "        ...,\n",
       "        [  0,   0,   0],\n",
       "        [  0,   0,   0],\n",
       "        [  0,   0,   0]]], dtype=uint8)"
      ]
     },
     "execution_count": 9,
     "metadata": {},
     "output_type": "execute_result"
    }
   ],
   "source": [
    "arr2"
   ]
  },
  {
   "cell_type": "code",
   "execution_count": 10,
   "id": "c5bae3bb",
   "metadata": {},
   "outputs": [
    {
     "data": {
      "text/plain": [
       "True"
      ]
     },
     "execution_count": 10,
     "metadata": {},
     "output_type": "execute_result"
    }
   ],
   "source": [
    "np.array_equal(arr, arr2)"
   ]
  },
  {
   "cell_type": "code",
   "execution_count": 11,
   "id": "d8e4e58f",
   "metadata": {},
   "outputs": [],
   "source": [
    "frame = []\n",
    "for j in range(20):\n",
    "    for i in range(75):\n",
    "        frame.append(arr2[i, j, 0])\n",
    "while frame[-1] == 0:\n",
    "    frame.pop()"
   ]
  },
  {
   "cell_type": "code",
   "execution_count": 12,
   "id": "2caa8a75",
   "metadata": {},
   "outputs": [
    {
     "name": "stdout",
     "output_type": "stream",
     "text": [
      "[89, 133, 126, 122, 212, 70, 154, 160, 213, 56, 113, 131, 8, 0, 69, 0, 0, 70, 181, 92, 0, 0, 128, 17, 250, 215, 192, 168, 132, 160, 192, 168, 132, 129, 255, 47, 0, 53, 0, 50, 58, 122, 55, 77, 1, 0, 0, 1, 0, 0, 0, 0, 0, 0, 10, 97, 117, 116, 111, 117, 112, 100, 97, 116, 101, 3, 103, 101, 111, 5, 111, 112, 101, 114, 97, 3, 99, 111, 109, 0, 0, 1, 0, 1]\n"
     ]
    }
   ],
   "source": [
    "print(frame)"
   ]
  },
  {
   "cell_type": "code",
   "execution_count": 13,
   "id": "9b9dfd2d",
   "metadata": {},
   "outputs": [
    {
     "data": {
      "text/plain": [
       "True"
      ]
     },
     "execution_count": 13,
     "metadata": {},
     "output_type": "execute_result"
    }
   ],
   "source": [
    "frame == list(cap[0].get_raw_packet())"
   ]
  }
 ],
 "metadata": {
  "kernelspec": {
   "display_name": "Python 3",
   "language": "python",
   "name": "python3"
  },
  "language_info": {
   "codemirror_mode": {
    "name": "ipython",
    "version": 3
   },
   "file_extension": ".py",
   "mimetype": "text/x-python",
   "name": "python",
   "nbconvert_exporter": "python",
   "pygments_lexer": "ipython3",
   "version": "3.6.14"
  }
 },
 "nbformat": 4,
 "nbformat_minor": 5
}
