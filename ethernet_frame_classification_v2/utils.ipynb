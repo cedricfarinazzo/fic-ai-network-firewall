{
 "cells": [
  {
   "cell_type": "code",
   "execution_count": 2,
   "id": "061aa604",
   "metadata": {},
   "outputs": [],
   "source": [
    "import itertools\n",
    "import numpy as np\n",
    "\n",
    "def fromiter2d(it, dtype, size):\n",
    "    flattened = itertools.chain.from_iterable(it)\n",
    "    array_1d = np.fromiter(flattened, dtype)\n",
    "    array_2d = np.reshape(array_1d, (size, -1))\n",
    "    return array_2d"
   ]
  },
  {
   "cell_type": "code",
   "execution_count": null,
   "id": "77135128",
   "metadata": {},
   "outputs": [],
   "source": []
  }
 ],
 "metadata": {
  "kernelspec": {
   "display_name": "Python 3 (ipykernel)",
   "language": "python",
   "name": "python3"
  },
  "language_info": {
   "codemirror_mode": {
    "name": "ipython",
    "version": 3
   },
   "file_extension": ".py",
   "mimetype": "text/x-python",
   "name": "python",
   "nbconvert_exporter": "python",
   "pygments_lexer": "ipython3",
   "version": "3.9.6"
  }
 },
 "nbformat": 4,
 "nbformat_minor": 5
}
