{
 "cells": [
  {
   "cell_type": "code",
   "execution_count": 1,
   "id": "3a88b0ca",
   "metadata": {},
   "outputs": [],
   "source": [
    "import os\n",
    "from sklearn.model_selection import train_test_split"
   ]
  },
  {
   "cell_type": "code",
   "execution_count": null,
   "id": "55ec4b9a",
   "metadata": {},
   "outputs": [],
   "source": []
  },
  {
   "cell_type": "code",
   "execution_count": 2,
   "id": "4d3f1832",
   "metadata": {},
   "outputs": [],
   "source": [
    "TRIMED_DATASET_FOLDER=\"trimed_dataset\"\n",
    "MALICIOUS_DATASET_FOLDER=f\"{TRIMED_DATASET_FOLDER}/malicious\"\n",
    "GOOD_DATASET_FOLDER=f\"{TRIMED_DATASET_FOLDER}/good\""
   ]
  },
  {
   "cell_type": "code",
   "execution_count": 3,
   "id": "bed0b893",
   "metadata": {},
   "outputs": [],
   "source": [
    "def load_dataset(test_size=0.2):\n",
    "    X_malicious = [os.path.join(MALICIOUS_DATASET_FOLDER, f) for f in os.listdir(MALICIOUS_DATASET_FOLDER) if os.path.isfile(os.path.join(MALICIOUS_DATASET_FOLDER, f))]\n",
    "    X_good = [os.path.join(GOOD_DATASET_FOLDER, f) for f in os.listdir(GOOD_DATASET_FOLDER) if os.path.isfile(os.path.join(GOOD_DATASET_FOLDER, f))]\n",
    "    X = X_malicious + X_good\n",
    "    Y = [1 for i in range(0, len(X_malicious))] + [0 for i in range(0, len(X_good))]\n",
    "    \n",
    "    assert len(X) == len(Y)\n",
    "    \n",
    "    X_train, X_test, Y_train, Y_test = train_test_split(X, Y, test_size=test_size)\n",
    "    return X_train, X_test, Y_train, Y_test"
   ]
  },
  {
   "cell_type": "code",
   "execution_count": null,
   "id": "346cbb1c",
   "metadata": {},
   "outputs": [],
   "source": []
  }
 ],
 "metadata": {
  "kernelspec": {
   "display_name": "Python 3 (ipykernel)",
   "language": "python",
   "name": "python3"
  },
  "language_info": {
   "codemirror_mode": {
    "name": "ipython",
    "version": 3
   },
   "file_extension": ".py",
   "mimetype": "text/x-python",
   "name": "python",
   "nbconvert_exporter": "python",
   "pygments_lexer": "ipython3",
   "version": "3.9.6"
  }
 },
 "nbformat": 4,
 "nbformat_minor": 5
}
