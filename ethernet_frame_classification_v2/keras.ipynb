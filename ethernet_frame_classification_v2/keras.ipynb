{
 "cells": [
  {
   "cell_type": "code",
   "execution_count": 1,
   "id": "9d970022",
   "metadata": {},
   "outputs": [
    {
     "name": "stderr",
     "output_type": "stream",
     "text": [
      "2021-10-09 15:49:24.942720: W tensorflow/stream_executor/platform/default/dso_loader.cc:64] Could not load dynamic library 'libcudart.so.11.0'; dlerror: libcudart.so.11.0: cannot open shared object file: No such file or directory\n",
      "2021-10-09 15:49:24.942759: I tensorflow/stream_executor/cuda/cudart_stub.cc:29] Ignore above cudart dlerror if you do not have a GPU set up on your machine.\n"
     ]
    }
   ],
   "source": [
    "import math\n",
    "from tqdm import tqdm\n",
    "import numpy as np\n",
    "import tensorflow as tf\n",
    "from tensorflow.keras.utils import Sequence, plot_model\n",
    "from tensorflow.keras.models import Sequential\n",
    "from tensorflow.keras.layers import Dense, LSTM, Flatten, Conv2D, MaxPooling2D\n",
    "import matplotlib.pyplot as plt"
   ]
  },
  {
   "cell_type": "code",
   "execution_count": 2,
   "id": "6fa9a66a",
   "metadata": {},
   "outputs": [
    {
     "name": "stdout",
     "output_type": "stream",
     "text": [
      "time: 280 µs (started: 2021-10-09 15:49:26 +00:00)\n"
     ]
    }
   ],
   "source": [
    "%matplotlib inline\n",
    "%load_ext autotime"
   ]
  },
  {
   "cell_type": "code",
   "execution_count": 3,
   "id": "7be5785a",
   "metadata": {},
   "outputs": [
    {
     "name": "stdout",
     "output_type": "stream",
     "text": [
      "time: 447 ms (started: 2021-10-09 15:49:26 +00:00)\n"
     ]
    }
   ],
   "source": [
    "%run dataset.ipynb\n",
    "%run utils.ipynb"
   ]
  },
  {
   "cell_type": "code",
   "execution_count": 4,
   "id": "23884008",
   "metadata": {},
   "outputs": [
    {
     "name": "stdout",
     "output_type": "stream",
     "text": [
      "time: 290 µs (started: 2021-10-09 15:49:27 +00:00)\n"
     ]
    }
   ],
   "source": [
    "## Loading data"
   ]
  },
  {
   "cell_type": "code",
   "execution_count": 5,
   "id": "fc70a23c",
   "metadata": {},
   "outputs": [
    {
     "name": "stdout",
     "output_type": "stream",
     "text": [
      "time: 5.5 s (started: 2021-10-09 15:49:27 +00:00)\n"
     ]
    }
   ],
   "source": [
    "X_train, X_test, Y_train, Y_test = load_dataset(test_size=0.1)"
   ]
  },
  {
   "cell_type": "code",
   "execution_count": 6,
   "id": "2073c723",
   "metadata": {},
   "outputs": [
    {
     "name": "stdout",
     "output_type": "stream",
     "text": [
      "time: 970 µs (started: 2021-10-09 15:49:32 +00:00)\n"
     ]
    }
   ],
   "source": [
    "class DataGenerator(Sequence) :\n",
    "    def __init__(self, x_set, y_set, batch_size) :\n",
    "        self.x = x_set\n",
    "        self.y = y_set\n",
    "        self.batch_size = batch_size\n",
    "    def __len__(self):\n",
    "        return math.ceil(len(self.x) / self.batch_size)\n",
    "\n",
    "    def __getitem__(self, idx):\n",
    "        batch_x = self.x[idx * self.batch_size:(idx + 1) *\n",
    "        self.batch_size]\n",
    "        batch_y = self.y[idx * self.batch_size:(idx + 1) *\n",
    "        self.batch_size]\n",
    "        \n",
    "        return np.array(load_chunk(batch_x)), np.array(batch_y)"
   ]
  },
  {
   "cell_type": "code",
   "execution_count": 7,
   "id": "7e4f3c23",
   "metadata": {},
   "outputs": [
    {
     "name": "stdout",
     "output_type": "stream",
     "text": [
      "time: 4.96 ms (started: 2021-10-09 15:49:32 +00:00)\n"
     ]
    }
   ],
   "source": [
    "batch_size = 32\n",
    "train_batch_gen = DataGenerator(X_train, Y_train, batch_size)\n",
    "test_batch_gen = DataGenerator(X_test, Y_test, batch_size)"
   ]
  },
  {
   "cell_type": "code",
   "execution_count": 8,
   "id": "55daf389",
   "metadata": {},
   "outputs": [
    {
     "name": "stdout",
     "output_type": "stream",
     "text": [
      "time: 2.07 ms (started: 2021-10-09 15:49:32 +00:00)\n"
     ]
    }
   ],
   "source": [
    "## Building the model"
   ]
  },
  {
   "cell_type": "code",
   "execution_count": 9,
   "id": "9a6fe094",
   "metadata": {},
   "outputs": [
    {
     "name": "stdout",
     "output_type": "stream",
     "text": [
      "time: 1.82 ms (started: 2021-10-09 15:49:32 +00:00)\n"
     ]
    }
   ],
   "source": [
    "def gen_model(input_size, hidden_layer_count, hidden_layer_size, activation_fn='sigmoid'):\n",
    "    model = Sequential()\n",
    "\n",
    "    model.add(Dense(input_size, input_shape=(input_size,)))\n",
    "    for _ in range(hidden_layer_count):\n",
    "        model.add(Dense(hidden_layer_size, activation=activation_fn))\n",
    "    model.add(Dense(1, activation=activation_fn))\n",
    "    \n",
    "    #model.compile(loss=tf.keras.losses.SparseCategoricalCrossentropy(from_logits=True), optimizer='adam', metrics=['accuracy'])\n",
    "    model.compile(loss='binary_crossentropy', optimizer='adam', metrics=['accuracy'])\n",
    "    \n",
    "    return model"
   ]
  },
  {
   "cell_type": "code",
   "execution_count": 10,
   "id": "d07cd769",
   "metadata": {},
   "outputs": [
    {
     "name": "stdout",
     "output_type": "stream",
     "text": [
      "time: 170 ms (started: 2021-10-09 15:49:32 +00:00)\n"
     ]
    },
    {
     "name": "stderr",
     "output_type": "stream",
     "text": [
      "2021-10-09 15:49:32.899437: W tensorflow/stream_executor/platform/default/dso_loader.cc:64] Could not load dynamic library 'libcuda.so.1'; dlerror: libcuda.so.1: cannot open shared object file: No such file or directory\n",
      "2021-10-09 15:49:32.899483: W tensorflow/stream_executor/cuda/cuda_driver.cc:269] failed call to cuInit: UNKNOWN ERROR (303)\n",
      "2021-10-09 15:49:32.899514: I tensorflow/stream_executor/cuda/cuda_diagnostics.cc:156] kernel driver does not appear to be running on this host (b2aed5b9d6ce): /proc/driver/nvidia/version does not exist\n",
      "2021-10-09 15:49:32.899823: I tensorflow/core/platform/cpu_feature_guard.cc:142] This TensorFlow binary is optimized with oneAPI Deep Neural Network Library (oneDNN) to use the following CPU instructions in performance-critical operations:  AVX2 FMA\n",
      "To enable them in other operations, rebuild TensorFlow with the appropriate compiler flags.\n"
     ]
    }
   ],
   "source": [
    "model = gen_model(1500, 6, 150, activation_fn='relu')"
   ]
  },
  {
   "cell_type": "code",
   "execution_count": 11,
   "id": "1698f5de",
   "metadata": {
    "scrolled": false
   },
   "outputs": [
    {
     "name": "stdout",
     "output_type": "stream",
     "text": [
      "Model: \"sequential\"\n",
      "_________________________________________________________________\n",
      "Layer (type)                 Output Shape              Param #   \n",
      "=================================================================\n",
      "dense (Dense)                (None, 1500)              2251500   \n",
      "_________________________________________________________________\n",
      "dense_1 (Dense)              (None, 150)               225150    \n",
      "_________________________________________________________________\n",
      "dense_2 (Dense)              (None, 150)               22650     \n",
      "_________________________________________________________________\n",
      "dense_3 (Dense)              (None, 150)               22650     \n",
      "_________________________________________________________________\n",
      "dense_4 (Dense)              (None, 150)               22650     \n",
      "_________________________________________________________________\n",
      "dense_5 (Dense)              (None, 150)               22650     \n",
      "_________________________________________________________________\n",
      "dense_6 (Dense)              (None, 150)               22650     \n",
      "_________________________________________________________________\n",
      "dense_7 (Dense)              (None, 1)                 151       \n",
      "=================================================================\n",
      "Total params: 2,590,051\n",
      "Trainable params: 2,590,051\n",
      "Non-trainable params: 0\n",
      "_________________________________________________________________\n",
      "time: 2.88 ms (started: 2021-10-09 15:49:33 +00:00)\n"
     ]
    }
   ],
   "source": [
    "model.summary()"
   ]
  },
  {
   "cell_type": "code",
   "execution_count": 12,
   "id": "f37fd4ae",
   "metadata": {},
   "outputs": [
    {
     "data": {
      "image/png": "[encoded data removed]",
      "text/plain": [
       "<IPython.core.display.Image object>"
      ]
     },
     "execution_count": 12,
     "metadata": {},
     "output_type": "execute_result"
    },
    {
     "name": "stdout",
     "output_type": "stream",
     "text": [
      "time: 142 ms (started: 2021-10-09 15:49:33 +00:00)\n"
     ]
    }
   ],
   "source": [
    "plot_model(model, \"keras.png\", show_shapes=True)"
   ]
  },
  {
   "cell_type": "code",
   "execution_count": 13,
   "id": "e167acfa",
   "metadata": {},
   "outputs": [
    {
     "name": "stdout",
     "output_type": "stream",
     "text": [
      "time: 370 µs (started: 2021-10-09 15:49:33 +00:00)\n"
     ]
    }
   ],
   "source": [
    "## Training"
   ]
  },
  {
   "cell_type": "code",
   "execution_count": 14,
   "id": "d7195a1d",
   "metadata": {},
   "outputs": [
    {
     "name": "stdout",
     "output_type": "stream",
     "text": [
      "time: 1.06 ms (started: 2021-10-09 15:49:33 +00:00)\n"
     ]
    }
   ],
   "source": [
    "def train_model(model, epochs, batch_size, train_batch_gen, test_batch_gen):\n",
    "    history = model.fit(x=train_batch_gen, \n",
    "                        epochs=epochs, \n",
    "                        batch_size=batch_size, \n",
    "                        validation_data=test_batch_gen,\n",
    "                        use_multiprocessing=True)\n",
    "    \n",
    "    test_loss, test_acc = model.evaluate_generator(test_batch_gen, verbose=3)\n",
    "\n",
    "    return model, test_loss, test_acc, history"
   ]
  },
  {
   "cell_type": "code",
   "execution_count": 15,
   "id": "b2cd0454",
   "metadata": {},
   "outputs": [
    {
     "name": "stdout",
     "output_type": "stream",
     "text": [
      "Epoch 1/8\n"
     ]
    },
    {
     "name": "stderr",
     "output_type": "stream",
     "text": [
      "2021-10-09 15:49:33.293967: I tensorflow/compiler/mlir/mlir_graph_optimization_pass.cc:185] None of the MLIR Optimization Passes are enabled (registered 2)\n"
     ]
    },
    {
     "name": "stdout",
     "output_type": "stream",
     "text": [
      "14602/14602 [==============================] - 311s 21ms/step - loss: 7.8405 - accuracy: 0.4917 - val_loss: 7.7987 - val_accuracy: 0.4944\n",
      "Epoch 2/8\n",
      "14602/14602 [==============================] - 311s 21ms/step - loss: 7.8406 - accuracy: 0.4917 - val_loss: 7.7987 - val_accuracy: 0.4944\n",
      "Epoch 3/8\n",
      "14602/14602 [==============================] - 312s 21ms/step - loss: 7.8405 - accuracy: 0.4917 - val_loss: 7.7987 - val_accuracy: 0.4944\n",
      "Epoch 4/8\n",
      "14602/14602 [==============================] - 312s 21ms/step - loss: 7.8406 - accuracy: 0.4917 - val_loss: 7.7987 - val_accuracy: 0.4944\n",
      "Epoch 5/8\n",
      "14602/14602 [==============================] - 311s 21ms/step - loss: 7.8405 - accuracy: 0.4917 - val_loss: 7.7987 - val_accuracy: 0.4944\n",
      "Epoch 6/8\n",
      "14602/14602 [==============================] - 314s 21ms/step - loss: 7.8405 - accuracy: 0.4917 - val_loss: 7.7987 - val_accuracy: 0.4944\n",
      "Epoch 7/8\n",
      "14602/14602 [==============================] - 313s 21ms/step - loss: 7.8405 - accuracy: 0.4917 - val_loss: 7.7987 - val_accuracy: 0.4944\n",
      "Epoch 8/8\n",
      "14602/14602 [==============================] - 313s 21ms/step - loss: 7.8405 - accuracy: 0.4917 - val_loss: 7.7987 - val_accuracy: 0.4944\n"
     ]
    },
    {
     "name": "stderr",
     "output_type": "stream",
     "text": [
      "/usr/local/lib/python3.9/site-packages/keras/engine/training.py:2006: UserWarning: `Model.evaluate_generator` is deprecated and will be removed in a future version. Please use `Model.evaluate`, which supports generators.\n",
      "  warnings.warn('`Model.evaluate_generator` is deprecated and '\n"
     ]
    },
    {
     "name": "stdout",
     "output_type": "stream",
     "text": [
      "time: 42min 4s (started: 2021-10-09 15:49:33 +00:00)\n"
     ]
    }
   ],
   "source": [
    "model, test_loss, test_acc, history = train_model(model, 8, batch_size, train_batch_gen, test_batch_gen)"
   ]
  },
  {
   "cell_type": "code",
   "execution_count": 16,
   "id": "3f8f8da3",
   "metadata": {},
   "outputs": [
    {
     "name": "stdout",
     "output_type": "stream",
     "text": [
      "time: 306 µs (started: 2021-10-09 16:31:37 +00:00)\n"
     ]
    }
   ],
   "source": [
    "## Metrics"
   ]
  },
  {
   "cell_type": "code",
   "execution_count": 17,
   "id": "c5984238",
   "metadata": {},
   "outputs": [
    {
     "name": "stdout",
     "output_type": "stream",
     "text": [
      "Loss:  7.798654079437256\n",
      "Accuracy:  0.4944140613079071\n",
      "time: 3.96 ms (started: 2021-10-09 16:31:37 +00:00)\n"
     ]
    }
   ],
   "source": [
    "print(\"Loss: \", test_loss)\n",
    "print(\"Accuracy: \", test_acc)"
   ]
  },
  {
   "cell_type": "code",
   "execution_count": 18,
   "id": "270c073b",
   "metadata": {},
   "outputs": [
    {
     "data": {
      "text/plain": [
       "<matplotlib.legend.Legend at 0x7f46f0a575e0>"
      ]
     },
     "execution_count": 18,
     "metadata": {},
     "output_type": "execute_result"
    },
    {
     "data": {
      "image/png": "[encoded data removed]",
      "text/plain": [
       "<Figure size 432x288 with 1 Axes>"
      ]
     },
     "metadata": {
      "needs_background": "light"
     },
     "output_type": "display_data"
    },
    {
     "name": "stdout",
     "output_type": "stream",
     "text": [
      "time: 258 ms (started: 2021-10-09 16:31:37 +00:00)\n"
     ]
    }
   ],
   "source": [
    "if 'accuracy' in history.history:\n",
    "    plt.plot(history.history['accuracy'], label='accuracy')\n",
    "elif 'acc' in history.history:\n",
    "    plt.plot(history.history['acc'], label='accuracy')\n",
    "if 'val_accuracy' in history.history:\n",
    "    plt.plot(history.history['val_accuracy'], label = 'val_accuracy')\n",
    "elif 'val_acc' in history.history:\n",
    "    plt.plot(history.history['val_acc'], label = 'val_accuracy')\n",
    "plt.xlabel('Epoch')\n",
    "plt.ylabel('Accuracy')\n",
    "plt.ylim([0.5, 1])\n",
    "plt.legend(loc='lower right')"
   ]
  },
  {
   "cell_type": "code",
   "execution_count": 19,
   "id": "f038206d",
   "metadata": {},
   "outputs": [
    {
     "name": "stdout",
     "output_type": "stream",
     "text": [
      "time: 451 µs (started: 2021-10-09 16:31:37 +00:00)\n"
     ]
    }
   ],
   "source": [
    "## Testing"
   ]
  },
  {
   "cell_type": "code",
   "execution_count": 20,
   "id": "5813a54c",
   "metadata": {},
   "outputs": [
    {
     "name": "stdout",
     "output_type": "stream",
     "text": [
      "time: 4.65 ms (started: 2021-10-09 16:31:37 +00:00)\n"
     ]
    }
   ],
   "source": [
    "def frame_is_bad(frame):\n",
    "    return round(max(0., min(1., model.predict(np.asarray(load_chunk([frame])))[0][0])) * 100, 2)"
   ]
  },
  {
   "cell_type": "code",
   "execution_count": 21,
   "id": "017dd3bf",
   "metadata": {},
   "outputs": [
    {
     "name": "stdout",
     "output_type": "stream",
     "text": [
      "Is bad ? 0.0 %\n",
      "Expected: 1\n",
      "time: 144 ms (started: 2021-10-09 16:31:37 +00:00)\n"
     ]
    }
   ],
   "source": [
    "print(\"Is bad ?\", frame_is_bad(X_test[0]), \"%\")\n",
    "print(\"Expected:\", Y_test[0])"
   ]
  },
  {
   "cell_type": "code",
   "execution_count": 22,
   "id": "c78f5e45",
   "metadata": {},
   "outputs": [
    {
     "name": "stdout",
     "output_type": "stream",
     "text": [
      "Is bad ? 0.0 %\n",
      "Expected: 1\n",
      "time: 70.6 ms (started: 2021-10-09 16:36:09 +00:00)\n"
     ]
    }
   ],
   "source": [
    "print(\"Is bad ?\", frame_is_bad(X_test[1]), \"%\")\n",
    "print(\"Expected:\", Y_test[1])"
   ]
  },
  {
   "cell_type": "code",
   "execution_count": 23,
   "id": "b980afb1",
   "metadata": {},
   "outputs": [
    {
     "name": "stdout",
     "output_type": "stream",
     "text": [
      "Is bad ? 0.0 %\n",
      "Expected: 0\n",
      "time: 45.5 ms (started: 2021-10-09 16:36:35 +00:00)\n"
     ]
    }
   ],
   "source": [
    "print(\"Is bad ?\", frame_is_bad(X_test[2]), \"%\")\n",
    "print(\"Expected:\", Y_test[2])"
   ]
  },
  {
   "cell_type": "code",
   "execution_count": 24,
   "id": "1a59b9c7",
   "metadata": {},
   "outputs": [
    {
     "name": "stdout",
     "output_type": "stream",
     "text": [
      "Is bad ? 0.0 %\n",
      "Expected: 1\n",
      "time: 69.8 ms (started: 2021-10-09 16:36:36 +00:00)\n"
     ]
    }
   ],
   "source": [
    "print(\"Is bad ?\", frame_is_bad(X_test[3]), \"%\")\n",
    "print(\"Expected:\", Y_test[3])"
   ]
  },
  {
   "cell_type": "code",
   "execution_count": null,
   "id": "b46d5f4d",
   "metadata": {},
   "outputs": [],
   "source": []
  }
 ],
 "metadata": {
  "kernelspec": {
   "display_name": "Python 3 (ipykernel)",
   "language": "python",
   "name": "python3"
  },
  "language_info": {
   "codemirror_mode": {
    "name": "ipython",
    "version": 3
   },
   "file_extension": ".py",
   "mimetype": "text/x-python",
   "name": "python",
   "nbconvert_exporter": "python",
   "pygments_lexer": "ipython3",
   "version": "3.9.6"
  }
 },
 "nbformat": 4,
 "nbformat_minor": 5
}
