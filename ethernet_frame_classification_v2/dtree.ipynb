{
 "cells": [
  {
   "cell_type": "code",
   "execution_count": 1,
   "id": "99b384dc",
   "metadata": {},
   "outputs": [],
   "source": [
    "from tqdm import tqdm\n",
    "import numpy as np\n",
    "from sklearn.tree import DecisionTreeClassifier\n",
    "from sklearn.metrics import accuracy_score"
   ]
  },
  {
   "cell_type": "code",
   "execution_count": 2,
   "id": "a84da9aa",
   "metadata": {},
   "outputs": [
    {
     "name": "stdout",
     "output_type": "stream",
     "text": [
      "time: 408 µs (started: 2021-10-09 13:24:04 +00:00)\n"
     ]
    }
   ],
   "source": [
    "%load_ext autotime"
   ]
  },
  {
   "cell_type": "code",
   "execution_count": 3,
   "id": "7c4aa9c0",
   "metadata": {},
   "outputs": [
    {
     "name": "stdout",
     "output_type": "stream",
     "text": [
      "time: 83.1 ms (started: 2021-10-09 13:24:04 +00:00)\n"
     ]
    }
   ],
   "source": [
    "%run dataset.ipynb\n",
    "%run utils.ipynb"
   ]
  },
  {
   "cell_type": "code",
   "execution_count": 4,
   "id": "0efbed18",
   "metadata": {},
   "outputs": [
    {
     "name": "stdout",
     "output_type": "stream",
     "text": [
      "time: 389 µs (started: 2021-10-09 13:24:04 +00:00)\n"
     ]
    }
   ],
   "source": [
    "## Loading data"
   ]
  },
  {
   "cell_type": "code",
   "execution_count": 5,
   "id": "0a6abdc6",
   "metadata": {},
   "outputs": [
    {
     "name": "stdout",
     "output_type": "stream",
     "text": [
      "time: 5.45 s (started: 2021-10-09 13:24:04 +00:00)\n"
     ]
    }
   ],
   "source": [
    "X_train, X_test, Y_train, Y_test = load_dataset(test_size=0.1)"
   ]
  },
  {
   "cell_type": "code",
   "execution_count": 6,
   "id": "3e3d19be",
   "metadata": {},
   "outputs": [
    {
     "name": "stdout",
     "output_type": "stream",
     "text": [
      "time: 261 µs (started: 2021-10-09 13:24:09 +00:00)\n"
     ]
    }
   ],
   "source": [
    "## Model"
   ]
  },
  {
   "cell_type": "code",
   "execution_count": 7,
   "id": "f3ec5e80",
   "metadata": {},
   "outputs": [
    {
     "name": "stdout",
     "output_type": "stream",
     "text": [
      "time: 4.73 ms (started: 2021-10-09 13:24:09 +00:00)\n"
     ]
    }
   ],
   "source": [
    "dtree = DecisionTreeClassifier(random_state=0)"
   ]
  },
  {
   "cell_type": "code",
   "execution_count": 8,
   "id": "29a266d6",
   "metadata": {},
   "outputs": [
    {
     "name": "stdout",
     "output_type": "stream",
     "text": [
      "time: 5.97 ms (started: 2021-10-09 13:24:09 +00:00)\n"
     ]
    }
   ],
   "source": [
    "## Train"
   ]
  },
  {
   "cell_type": "code",
   "execution_count": 12,
   "id": "31959968",
   "metadata": {},
   "outputs": [
    {
     "data": {
      "text/plain": [
       "DecisionTreeClassifier(random_state=0)"
      ]
     },
     "execution_count": 12,
     "metadata": {},
     "output_type": "execute_result"
    },
    {
     "name": "stdout",
     "output_type": "stream",
     "text": [
      "time: 5min 25s (started: 2021-10-09 13:35:43 +00:00)\n"
     ]
    }
   ],
   "source": [
    "X_train_arr = fromiter2d(load_chunk(X_train), bool, len(X_train))\n",
    "dtree.fit(X_train_arr, Y_train, check_input=False)"
   ]
  },
  {
   "cell_type": "code",
   "execution_count": null,
   "id": "0cc38d94",
   "metadata": {},
   "outputs": [],
   "source": [
    "## Metrics"
   ]
  },
  {
   "cell_type": "code",
   "execution_count": null,
   "id": "d50e236e",
   "metadata": {},
   "outputs": [],
   "source": [
    "chunk_size=1024\n",
    "total_x_test = len(X_test)\n",
    "total_chunks = total_x_test / chunk_size\n",
    "\n",
    "Y_pred = np.array([])\n",
    "with tqdm(total=total_chunks) as pbar:\n",
    "    for chunk in range(0, total_x_test, chunk_size):\n",
    "        arr_X = load_chunk(X_test[chunk:chunk + chunk_size])\n",
    "       \n",
    "        Y_pred = np.concatenate((Y_pred, dtree.predict(arr_X)), axis=0)\n",
    "        pbar.update(1)\n",
    "\n",
    "count_misclassified = (Y_test != Y_pred).sum()"
   ]
  },
  {
   "cell_type": "code",
   "execution_count": null,
   "id": "e2ce582b",
   "metadata": {},
   "outputs": [],
   "source": [
    "total_y = len(Y_test)\n",
    "print(f\"Misclassified samples: {count_misclassified}/{total_y}\")\n",
    "accuracy = accuracy_score(Y_test, Y_pred)\n",
    "print('Accuracy: {:.2f}'.format(accuracy))"
   ]
  },
  {
   "cell_type": "code",
   "execution_count": null,
   "id": "0740a906",
   "metadata": {},
   "outputs": [],
   "source": [
    "## Test"
   ]
  },
  {
   "cell_type": "code",
   "execution_count": null,
   "id": "e2d60503",
   "metadata": {},
   "outputs": [],
   "source": [
    "def frame_is_bad(frame):\n",
    "    return \"yes\" if dtree.predict(np.asarray(load_chunk([frame])))[0] else \"no\""
   ]
  },
  {
   "cell_type": "code",
   "execution_count": null,
   "id": "22b6c0fc",
   "metadata": {},
   "outputs": [],
   "source": [
    "print(\"Is bad ?\", frame_is_bad(X_test[0]))\n",
    "print(\"Expected:\", \"yes\" if Y_test[0] else \"no\")"
   ]
  },
  {
   "cell_type": "code",
   "execution_count": null,
   "id": "837091e6",
   "metadata": {},
   "outputs": [],
   "source": [
    "print(\"Is bad ?\", frame_is_bad(X_test[1]))\n",
    "print(\"Expected:\", \"yes\" if Y_test[1] else \"no\")"
   ]
  },
  {
   "cell_type": "code",
   "execution_count": null,
   "id": "14753aa5",
   "metadata": {},
   "outputs": [],
   "source": [
    "print(\"Is bad ?\", frame_is_bad(X_test[2]))\n",
    "print(\"Expected:\", \"yes\" if Y_test[2] else \"no\")"
   ]
  },
  {
   "cell_type": "code",
   "execution_count": null,
   "id": "3a668b9b",
   "metadata": {},
   "outputs": [],
   "source": [
    "print(\"Is bad ?\", frame_is_bad(X_test[3]))\n",
    "print(\"Expected:\", \"yes\" if Y_test[3] else \"no\")"
   ]
  },
  {
   "cell_type": "code",
   "execution_count": null,
   "id": "f8304ab4",
   "metadata": {},
   "outputs": [],
   "source": [
    "print(\"Is bad ?\", frame_is_bad(X_test[4]))\n",
    "print(\"Expected:\", \"yes\" if Y_test[4] else \"no\")"
   ]
  },
  {
   "cell_type": "code",
   "execution_count": null,
   "id": "5338c01c",
   "metadata": {},
   "outputs": [],
   "source": []
  }
 ],
 "metadata": {
  "kernelspec": {
   "display_name": "Python 3 (ipykernel)",
   "language": "python",
   "name": "python3"
  },
  "language_info": {
   "codemirror_mode": {
    "name": "ipython",
    "version": 3
   },
   "file_extension": ".py",
   "mimetype": "text/x-python",
   "name": "python",
   "nbconvert_exporter": "python",
   "pygments_lexer": "ipython3",
   "version": "3.9.6"
  }
 },
 "nbformat": 4,
 "nbformat_minor": 5
}
