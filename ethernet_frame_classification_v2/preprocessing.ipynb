{
 "cells": [
  {
   "cell_type": "code",
   "execution_count": 1,
   "id": "247fc7b4",
   "metadata": {},
   "outputs": [],
   "source": [
    "import os\n",
    "import nest_asyncio\n",
    "nest_asyncio.apply()\n",
    "\n",
    "import numpy as np\n",
    "import pyshark\n",
    "import xxhash\n",
    "from tqdm import tqdm"
   ]
  },
  {
   "cell_type": "code",
   "execution_count": 2,
   "id": "a0876514",
   "metadata": {},
   "outputs": [
    {
     "name": "stdout",
     "output_type": "stream",
     "text": [
      "time: 481 ms (started: 2021-10-08 18:15:50 +00:00)\n"
     ]
    }
   ],
   "source": [
    "%load_ext autotime\n",
    "%run dataset.ipynb"
   ]
  },
  {
   "cell_type": "code",
   "execution_count": 3,
   "id": "ee282767",
   "metadata": {},
   "outputs": [
    {
     "name": "stdout",
     "output_type": "stream",
     "text": [
      "time: 2.19 ms (started: 2021-10-08 18:15:50 +00:00)\n"
     ]
    }
   ],
   "source": [
    "def dataset_preprocessing(pcap_filepath: str, is_malicious: bool) -> None:\n",
    "    h = xxhash.xxh64()\n",
    "    out_folder = MALICIOUS_DATASET_FOLDER if is_malicious else GOOD_DATASET_FOLDER\n",
    "    \n",
    "    cap = pyshark.FileCapture(pcap_filepath, use_json=True, include_raw=True)\n",
    "    #cap.load_packets()\n",
    "    with tqdm(total=len(cap)) as pbar:\n",
    "        pbar.set_description(f\"Processing {pcap_filepath}\")\n",
    "        for index, frame in enumerate(cap):\n",
    "            h.update(pcap_filepath)\n",
    "            h.update(str(index))\n",
    "            frame_hash = h.intdigest()\n",
    "            h.reset()\n",
    "\n",
    "            out_file = f\"{out_folder}/{frame_hash}.npy\"\n",
    "            if not os.path.exists(out_file):\n",
    "                raw_data = np.zeros(1500, dtype=np.bool)\n",
    "                x = 0\n",
    "                for e in frame.get_raw_packet():\n",
    "                    raw_data[x] = e\n",
    "                    x += 1\n",
    "\n",
    "                np.save(out_file, raw_data, allow_pickle=True, fix_imports=True)\n",
    "            pbar.update(1)\n",
    "            \n",
    "def dataset_preprocessing_list(filepaths: list[str], is_malicious: bool) -> None:\n",
    "    for e in filepaths:\n",
    "        dataset_preprocessing(e, is_malicious)"
   ]
  },
  {
   "cell_type": "code",
   "execution_count": 4,
   "id": "4f848fd7",
   "metadata": {
    "scrolled": true
   },
   "outputs": [
    {
     "name": "stderr",
     "output_type": "stream",
     "text": [
      "Processing dataset/badHttpQueries_00000_20210727145629.pcap: : 50000it [00:21, 2272.88it/s]\n",
      "Processing dataset/badHttpQueries_00001_20210727145652.pcap: : 50000it [00:21, 2345.12it/s]\n",
      "Processing dataset/badHttpQueries_00002_20210727145716.pcap: : 50000it [00:21, 2341.66it/s]\n",
      "Processing dataset/badHttpQueries_00003_20210727145738.pcap: : 50000it [00:21, 2338.84it/s]\n",
      "Processing dataset/badHttpQueries_00004_20210727145801.pcap: : 50000it [00:21, 2362.60it/s]\n",
      "Processing dataset/badHttpQueries_00005_20210727145823.pcap: : 13750it [00:06, 2226.48it/s]"
     ]
    },
    {
     "name": "stdout",
     "output_type": "stream",
     "text": [
      "time: 1min 53s (started: 2021-10-08 18:15:51 +00:00)\n"
     ]
    },
    {
     "name": "stderr",
     "output_type": "stream",
     "text": [
      "\n"
     ]
    }
   ],
   "source": [
    "dataset_preprocessing_list([\"dataset/badHttpQueries_00000_20210727145629.pcap\",\n",
    "                       \"dataset/badHttpQueries_00001_20210727145652.pcap\",\n",
    "                       \"dataset/badHttpQueries_00002_20210727145716.pcap\",\n",
    "                       \"dataset/badHttpQueries_00003_20210727145738.pcap\",\n",
    "                       \"dataset/badHttpQueries_00004_20210727145801.pcap\",\n",
    "                       \"dataset/badHttpQueries_00005_20210727145823.pcap\",\n",
    "                      ], True)"
   ]
  },
  {
   "cell_type": "code",
   "execution_count": null,
   "id": "2233692d",
   "metadata": {},
   "outputs": [],
   "source": []
  },
  {
   "cell_type": "code",
   "execution_count": 5,
   "id": "141ebe6c",
   "metadata": {},
   "outputs": [
    {
     "name": "stderr",
     "output_type": "stream",
     "text": [
      "Processing dataset/goodHttpQueries_00000_20210727145319.pcap: : 50000it [00:21, 2340.40it/s]\n",
      "Processing dataset/goodHttpQueries_00001_20210727145342.pcap: : 50000it [00:21, 2334.81it/s]\n",
      "Processing dataset/goodHttpQueries_00002_20210727145404.pcap: : 50000it [00:21, 2350.62it/s]\n",
      "Processing dataset/goodHttpQueries_00003_20210727145427.pcap: : 50000it [00:21, 2346.12it/s]\n",
      "Processing dataset/goodHttpQueries_00004_20210727145449.pcap: : 50000it [00:21, 2343.49it/s]\n",
      "Processing dataset/goodHttpQueries_00005_20210727145511.pcap: : 5402it [00:02, 1974.68it/s]"
     ]
    },
    {
     "name": "stdout",
     "output_type": "stream",
     "text": [
      "time: 1min 49s (started: 2021-10-08 18:17:44 +00:00)\n"
     ]
    },
    {
     "name": "stderr",
     "output_type": "stream",
     "text": [
      "\n"
     ]
    }
   ],
   "source": [
    "dataset_preprocessing_list([\"dataset/goodHttpQueries_00000_20210727145319.pcap\",\n",
    "                            \"dataset/goodHttpQueries_00001_20210727145342.pcap\",\n",
    "                            \"dataset/goodHttpQueries_00002_20210727145404.pcap\",\n",
    "                            \"dataset/goodHttpQueries_00003_20210727145427.pcap\",\n",
    "                            \"dataset/goodHttpQueries_00004_20210727145449.pcap\",\n",
    "                            \"dataset/goodHttpQueries_00005_20210727145511.pcap\"\n",
    "                           ], False)"
   ]
  },
  {
   "cell_type": "code",
   "execution_count": null,
   "id": "3d0336ea",
   "metadata": {},
   "outputs": [],
   "source": []
  }
 ],
 "metadata": {
  "kernelspec": {
   "display_name": "Python 3 (ipykernel)",
   "language": "python",
   "name": "python3"
  },
  "language_info": {
   "codemirror_mode": {
    "name": "ipython",
    "version": 3
   },
   "file_extension": ".py",
   "mimetype": "text/x-python",
   "name": "python",
   "nbconvert_exporter": "python",
   "pygments_lexer": "ipython3",
   "version": "3.9.6"
  }
 },
 "nbformat": 4,
 "nbformat_minor": 5
}
