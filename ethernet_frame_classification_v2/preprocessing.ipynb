{
 "cells": [
  {
   "cell_type": "code",
   "execution_count": 1,
   "id": "247fc7b4",
   "metadata": {},
   "outputs": [],
   "source": [
    "import os\n",
    "import nest_asyncio\n",
    "nest_asyncio.apply()\n",
    "\n",
    "import numpy as np\n",
    "import pyshark\n",
    "import xxhash\n",
    "from tqdm import tqdm"
   ]
  },
  {
   "cell_type": "code",
   "execution_count": 2,
   "id": "a0876514",
   "metadata": {},
   "outputs": [
    {
     "name": "stdout",
     "output_type": "stream",
     "text": [
      "time: 320 ms (started: 2021-11-01 16:31:56 +00:00)\n"
     ]
    }
   ],
   "source": [
    "%load_ext autotime\n",
    "%run dataset.ipynb"
   ]
  },
  {
   "cell_type": "code",
   "execution_count": 19,
   "id": "ee282767",
   "metadata": {},
   "outputs": [
    {
     "name": "stdout",
     "output_type": "stream",
     "text": [
      "time: 2.03 ms (started: 2021-11-01 16:48:24 +00:00)\n"
     ]
    }
   ],
   "source": [
    "def dataset_preprocessing(pcap_filepath, is_malicious):\n",
    "    h = xxhash.xxh64()\n",
    "    out_folder = MALICIOUS_DATASET_FOLDER if is_malicious else GOOD_DATASET_FOLDER\n",
    "    \n",
    "    cap = pyshark.FileCapture(pcap_filepath, use_json=True, include_raw=True)\n",
    "    #cap.load_packets()\n",
    "    with tqdm(total=len(cap)) as pbar:\n",
    "        pbar.set_description(f\"Processing {pcap_filepath}\")\n",
    "        for index, frame in enumerate(cap):\n",
    "            h.update(pcap_filepath)\n",
    "            h.update(str(index))\n",
    "            frame_hash = h.intdigest()\n",
    "            h.reset()\n",
    "\n",
    "            out_file = f\"{out_folder}/{frame_hash}.npy\"\n",
    "            if not os.path.exists(out_file):\n",
    "                raw_data = np.zeros(1500, dtype=np.bool)\n",
    "                x = 0\n",
    "                \n",
    "                if len(frame) > 1500:\n",
    "                    pbar.update(1)\n",
    "                    continue\n",
    "                    \n",
    "                for e in frame.get_raw_packet():\n",
    "                    raw_data[x] = e\n",
    "                    x += 1\n",
    "\n",
    "                np.save(out_file, raw_data, allow_pickle=True, fix_imports=True)\n",
    "            pbar.update(1)\n",
    "            \n",
    "def dataset_preprocessing_list(filepaths, is_malicious):\n",
    "    for e in filepaths:\n",
    "        dataset_preprocessing(e, is_malicious)"
   ]
  },
  {
   "cell_type": "code",
   "execution_count": 4,
   "id": "4f848fd7",
   "metadata": {
    "scrolled": true
   },
   "outputs": [
    {
     "name": "stderr",
     "output_type": "stream",
     "text": [
      "Processing dataset/badHttpQueries_00000_20210727145629.pcap: : 50000it [00:23, 2106.32it/s]\n",
      "Processing dataset/badHttpQueries_00001_20210727145652.pcap: : 50000it [00:23, 2106.32it/s]\n",
      "Processing dataset/badHttpQueries_00002_20210727145716.pcap: : 50000it [00:23, 2084.91it/s]\n",
      "Processing dataset/badHttpQueries_00003_20210727145738.pcap: : 50000it [00:24, 2018.42it/s]\n",
      "Processing dataset/badHttpQueries_00004_20210727145801.pcap: : 50000it [00:24, 2017.77it/s]\n",
      "Processing dataset/badHttpQueries_00005_20210727145823.pcap: : 13750it [00:07, 1932.04it/s]"
     ]
    },
    {
     "name": "stdout",
     "output_type": "stream",
     "text": [
      "time: 2min 8s (started: 2021-11-01 16:31:56 +00:00)\n"
     ]
    },
    {
     "name": "stderr",
     "output_type": "stream",
     "text": [
      "\n"
     ]
    }
   ],
   "source": [
    "dataset_preprocessing_list([\"dataset/badHttpQueries_00000_20210727145629.pcap\",\n",
    "                       \"dataset/badHttpQueries_00001_20210727145652.pcap\",\n",
    "                       \"dataset/badHttpQueries_00002_20210727145716.pcap\",\n",
    "                       \"dataset/badHttpQueries_00003_20210727145738.pcap\",\n",
    "                       \"dataset/badHttpQueries_00004_20210727145801.pcap\",\n",
    "                       \"dataset/badHttpQueries_00005_20210727145823.pcap\",\n",
    "                      ], True)"
   ]
  },
  {
   "cell_type": "code",
   "execution_count": null,
   "id": "2233692d",
   "metadata": {},
   "outputs": [],
   "source": []
  },
  {
   "cell_type": "code",
   "execution_count": 5,
   "id": "141ebe6c",
   "metadata": {},
   "outputs": [
    {
     "name": "stderr",
     "output_type": "stream",
     "text": [
      "Processing dataset/goodHttpQueries_00000_20210727145319.pcap: : 50000it [00:24, 2048.36it/s]\n",
      "Processing dataset/goodHttpQueries_00001_20210727145342.pcap: : 50000it [00:24, 2007.42it/s]\n",
      "Processing dataset/goodHttpQueries_00002_20210727145404.pcap: : 50000it [00:24, 2046.72it/s]\n",
      "Processing dataset/goodHttpQueries_00003_20210727145427.pcap: : 50000it [00:24, 2031.90it/s]\n",
      "Processing dataset/goodHttpQueries_00004_20210727145449.pcap: : 50000it [00:24, 2030.39it/s]\n",
      "Processing dataset/goodHttpQueries_00005_20210727145511.pcap: : 5402it [00:02, 1800.83it/s]"
     ]
    },
    {
     "name": "stdout",
     "output_type": "stream",
     "text": [
      "time: 2min 5s (started: 2021-11-01 16:34:04 +00:00)\n"
     ]
    },
    {
     "name": "stderr",
     "output_type": "stream",
     "text": [
      "\n"
     ]
    }
   ],
   "source": [
    "dataset_preprocessing_list([\"dataset/goodHttpQueries_00000_20210727145319.pcap\",\n",
    "                            \"dataset/goodHttpQueries_00001_20210727145342.pcap\",\n",
    "                            \"dataset/goodHttpQueries_00002_20210727145404.pcap\",\n",
    "                            \"dataset/goodHttpQueries_00003_20210727145427.pcap\",\n",
    "                            \"dataset/goodHttpQueries_00004_20210727145449.pcap\",\n",
    "                            \"dataset/goodHttpQueries_00005_20210727145511.pcap\"\n",
    "                           ], False)"
   ]
  },
  {
   "cell_type": "code",
   "execution_count": 20,
   "id": "3d0336ea",
   "metadata": {},
   "outputs": [
    {
     "name": "stderr",
     "output_type": "stream",
     "text": [
      "Processing dataset/fic-s2-adm01-out_00000_20211101154337.pcapng: : 6217it [00:01, 3191.72it/s]\n",
      "Processing dataset/fic-s2-dc01-out_00000_20211101144008.pcapng: : 13921it [05:44, 40.37it/s]  \n",
      "Processing dataset/fic-s2-l01-out_00000_20211101143136.pcapng: : 50000it [00:21, 2350.99it/s]\n",
      "Processing dataset/fic-s2-l01-out_00001_20211101150744.pcapng: : 50000it [00:21, 2377.24it/s]\n",
      "Processing dataset/fic-s2-l01-out_00002_20211101150803.pcapng: : 50000it [00:21, 2377.25it/s]\n",
      "Processing dataset/fic-s2-l01-out_00003_20211101150824.pcapng: : 50000it [00:21, 2358.56it/s]\n",
      "Processing dataset/fic-s2-l01-out_00004_20211101150901.pcapng: : 50000it [00:21, 2369.99it/s]\n",
      "Processing dataset/fic-s2-l01-out_00005_20211101150918.pcapng: : 50000it [00:20, 2383.55it/s]\n",
      "Processing dataset/fic-s2-l01-out_00006_20211101150936.pcapng: : 50000it [00:21, 2348.44it/s]\n",
      "Processing dataset/fic-s2-l01-out_00007_20211101150951.pcapng: : 50000it [00:21, 2365.36it/s]\n",
      "Processing dataset/fic-s2-l01-out_00008_20211101151006.pcapng: : 49696it [00:20, 2374.03it/s]\n",
      "Processing dataset/fic-s2-pc01-out_00000_20211101154413.pcapng: : 50000it [00:21, 2299.27it/s]\n",
      "Processing dataset/fic-s2-pc01-out_00001_20211101162626.pcapng: : 50000it [00:20, 2408.01it/s]\n",
      "Processing dataset/fic-s2-pc01-out_00002_20211101162740.pcapng: : 50000it [00:21, 2348.43it/s]\n",
      "Processing dataset/fic-s2-pc01-out_00003_20211101164316.pcapng: : 7882it [00:03, 2168.84it/s]"
     ]
    },
    {
     "name": "stdout",
     "output_type": "stream",
     "text": [
      "time: 10min 4s (started: 2021-11-01 16:48:27 +00:00)\n"
     ]
    },
    {
     "name": "stderr",
     "output_type": "stream",
     "text": [
      "\n"
     ]
    }
   ],
   "source": [
    "dataset_preprocessing_list([\"dataset/fic-s2-adm01-out_00000_20211101154337.pcapng\",\n",
    "                            \"dataset/fic-s2-dc01-out_00000_20211101144008.pcapng\",\n",
    "                            \"dataset/fic-s2-l01-out_00000_20211101143136.pcapng\",\n",
    "                            \"dataset/fic-s2-l01-out_00001_20211101150744.pcapng\",\n",
    "                            \"dataset/fic-s2-l01-out_00002_20211101150803.pcapng\",\n",
    "                            \"dataset/fic-s2-l01-out_00003_20211101150824.pcapng\",\n",
    "                            \"dataset/fic-s2-l01-out_00004_20211101150901.pcapng\",\n",
    "                            \"dataset/fic-s2-l01-out_00005_20211101150918.pcapng\",\n",
    "                            \"dataset/fic-s2-l01-out_00006_20211101150936.pcapng\",\n",
    "                            \"dataset/fic-s2-l01-out_00007_20211101150951.pcapng\",\n",
    "                            \"dataset/fic-s2-l01-out_00008_20211101151006.pcapng\",\n",
    "                            \"dataset/fic-s2-pc01-out_00000_20211101154413.pcapng\",\n",
    "                            \"dataset/fic-s2-pc01-out_00001_20211101162626.pcapng\",\n",
    "                            \"dataset/fic-s2-pc01-out_00002_20211101162740.pcapng\",\n",
    "                            \"dataset/fic-s2-pc01-out_00003_20211101164316.pcapng\"\n",
    "                           ], False)"
   ]
  },
  {
   "cell_type": "code",
   "execution_count": null,
   "id": "579e0c42",
   "metadata": {},
   "outputs": [],
   "source": []
  }
 ],
 "metadata": {
  "kernelspec": {
   "display_name": "Python 3",
   "language": "python",
   "name": "python3"
  },
  "language_info": {
   "codemirror_mode": {
    "name": "ipython",
    "version": 3
   },
   "file_extension": ".py",
   "mimetype": "text/x-python",
   "name": "python",
   "nbconvert_exporter": "python",
   "pygments_lexer": "ipython3",
   "version": "3.6.14"
  }
 },
 "nbformat": 4,
 "nbformat_minor": 5
}
