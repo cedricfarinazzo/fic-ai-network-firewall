{
 "cells": [
  {
   "cell_type": "code",
   "execution_count": null,
   "id": "896b1c2e",
   "metadata": {},
   "outputs": [],
   "source": [
    "from sklearn.feature_extraction.text import TfidfVectorizer\n",
    "import os\n",
    "from sklearn.model_selection import train_test_split\n",
    "from sklearn.linear_model import LogisticRegression\n",
    "import numpy as np\n",
    "import tensorflow as tf\n",
    "from tensorflow.keras.preprocessing.text import Tokenizer\n",
    "from tensorflow.keras.models import Sequential\n",
    "from tensorflow.keras.layers import Dense, LSTM, Flatten\n",
    "from tensorflow.keras.optimizers import SGD\n",
    "\n",
    "import urllib.parse\n",
    "import matplotlib.pyplot as plt"
   ]
  },
  {
   "cell_type": "code",
   "execution_count": null,
   "id": "471d170d",
   "metadata": {},
   "outputs": [],
   "source": [
    "%matplotlib inline"
   ]
  },
  {
   "cell_type": "code",
   "execution_count": null,
   "id": "532bb8dc",
   "metadata": {},
   "outputs": [],
   "source": [
    "## Loading data"
   ]
  },
  {
   "cell_type": "code",
   "execution_count": null,
   "id": "2552eb0b",
   "metadata": {},
   "outputs": [],
   "source": [
    "def loadFile(name):\n",
    "    filepath = os.path.join(str(os.getcwd()), name)\n",
    "    with open(filepath,'r') as f:\n",
    "        data = f.readlines()\n",
    "    return [str(urllib.parse.unquote(e)) for e in list(set(data))]"
   ]
  },
  {
   "cell_type": "code",
   "execution_count": null,
   "id": "5f4d2699",
   "metadata": {},
   "outputs": [],
   "source": [
    "badQueries = loadFile('dataset/badqueries.txt')\n",
    "\n",
    "badCount = len(badQueries)"
   ]
  },
  {
   "cell_type": "code",
   "execution_count": null,
   "id": "d0af3ed9",
   "metadata": {},
   "outputs": [],
   "source": [
    "validQueries = loadFile('dataset/goodqueries.txt')\n",
    "\n",
    "validCount = len(validQueries)"
   ]
  },
  {
   "cell_type": "code",
   "execution_count": null,
   "id": "51734185",
   "metadata": {},
   "outputs": [],
   "source": [
    "queries = badQueries + validQueries"
   ]
  },
  {
   "cell_type": "code",
   "execution_count": null,
   "id": "170b8e12",
   "metadata": {},
   "outputs": [],
   "source": [
    "print(\"bad: \", badCount)\n",
    "print(\"good: \", validCount)\n",
    "print(\"all: \", badCount + validCount)"
   ]
  },
  {
   "cell_type": "code",
   "execution_count": null,
   "id": "4de9d702",
   "metadata": {},
   "outputs": [],
   "source": [
    "yBad = [[0, 1] for i in range(0, len(badQueries))]  #labels, 1 for malicious and 0 for clean\n",
    "yGood = [[1, 0] for i in range(0, len(validQueries))]"
   ]
  },
  {
   "cell_type": "code",
   "execution_count": null,
   "id": "8dc323aa",
   "metadata": {},
   "outputs": [],
   "source": [
    "y = yBad + yGood"
   ]
  },
  {
   "cell_type": "code",
   "execution_count": null,
   "id": "ecfa268f",
   "metadata": {},
   "outputs": [],
   "source": []
  },
  {
   "cell_type": "code",
   "execution_count": null,
   "id": "0e809dd9",
   "metadata": {},
   "outputs": [],
   "source": [
    "## Preparing the dataset"
   ]
  },
  {
   "cell_type": "code",
   "execution_count": null,
   "id": "1b2d17eb",
   "metadata": {},
   "outputs": [],
   "source": [
    "tokenizer = Tokenizer(filters=\"\", lower=False, char_level=True)"
   ]
  },
  {
   "cell_type": "code",
   "execution_count": null,
   "id": "440fa2a1",
   "metadata": {},
   "outputs": [],
   "source": [
    "X = tokenizer.fit_on_texts(queries)"
   ]
  },
  {
   "cell_type": "code",
   "execution_count": null,
   "id": "fd171e89",
   "metadata": {},
   "outputs": [],
   "source": [
    "X = tokenizer.texts_to_matrix(queries)"
   ]
  },
  {
   "cell_type": "code",
   "execution_count": null,
   "id": "42fa7ae3",
   "metadata": {},
   "outputs": [],
   "source": []
  },
  {
   "cell_type": "code",
   "execution_count": null,
   "id": "a8c8eeaf",
   "metadata": {},
   "outputs": [],
   "source": [
    "X_train, X_test, y_train, y_test = train_test_split(X, y, test_size=0.2) #splitting data"
   ]
  },
  {
   "cell_type": "code",
   "execution_count": null,
   "id": "1263571b",
   "metadata": {},
   "outputs": [],
   "source": []
  },
  {
   "cell_type": "code",
   "execution_count": null,
   "id": "76a22870",
   "metadata": {},
   "outputs": [],
   "source": [
    "## Building the model"
   ]
  },
  {
   "cell_type": "code",
   "execution_count": null,
   "id": "7c1c6e16",
   "metadata": {},
   "outputs": [],
   "source": [
    "def gen_model(input_size, hidden_layer_count, hidden_layer_size):\n",
    "    model = Sequential()\n",
    "    model.add(Dense(input_size))\n",
    "    for _ in range(hidden_layer_count):\n",
    "        model.add(Dense(hidden_layer_size, activation='sigmoid'))\n",
    "    model.add(Dense(2))\n",
    "    \n",
    "    model.compile(loss='mean_squared_error', optimizer='adam', metrics=['accuracy'])\n",
    "    \n",
    "    return model"
   ]
  },
  {
   "cell_type": "code",
   "execution_count": null,
   "id": "b6585e13",
   "metadata": {},
   "outputs": [],
   "source": [
    "model = gen_model(X.shape[-1], 6, 128)"
   ]
  },
  {
   "cell_type": "code",
   "execution_count": null,
   "id": "db8c875f",
   "metadata": {},
   "outputs": [],
   "source": []
  },
  {
   "cell_type": "code",
   "execution_count": null,
   "id": "3477ac41",
   "metadata": {},
   "outputs": [],
   "source": [
    "## Training"
   ]
  },
  {
   "cell_type": "code",
   "execution_count": null,
   "id": "8043c477",
   "metadata": {},
   "outputs": [],
   "source": [
    "def train_model(model, epochs, batch_size, X_train, y_train, X_test, y_test):\n",
    "    X_train = np.asarray(X_train)\n",
    "    X_test = np.asarray(X_test)\n",
    "    y_train = np.asarray(y_train)\n",
    "    y_test = np.asarray(y_test)\n",
    "\n",
    "    model.fit(X_train, y_train, epochs=epochs, batch_size=batch_size, validation_data=(X_test, y_test))\n",
    "    \n",
    "    test_loss, test_acc = model.evaluate(X_test, y_test, verbose=3)\n",
    "\n",
    "    return model, test_loss, test_acc"
   ]
  },
  {
   "cell_type": "code",
   "execution_count": null,
   "id": "210a21a9",
   "metadata": {},
   "outputs": [],
   "source": [
    "model, test_loss, test_acc = train_model(model, 5, 32, X_train, y_train, X_test, y_test)"
   ]
  },
  {
   "cell_type": "code",
   "execution_count": null,
   "id": "fe170e8d",
   "metadata": {},
   "outputs": [],
   "source": []
  },
  {
   "cell_type": "code",
   "execution_count": null,
   "id": "b2feeb01",
   "metadata": {},
   "outputs": [],
   "source": [
    "## Metrics"
   ]
  },
  {
   "cell_type": "code",
   "execution_count": null,
   "id": "b72b182c",
   "metadata": {},
   "outputs": [],
   "source": [
    "print(\"Loss: \", test_loss)\n",
    "print(\"Accuracy: \", test_acc)"
   ]
  },
  {
   "cell_type": "code",
   "execution_count": null,
   "id": "9b623c47",
   "metadata": {},
   "outputs": [],
   "source": [
    "model.summary()"
   ]
  },
  {
   "cell_type": "code",
   "execution_count": null,
   "id": "ef8143fa",
   "metadata": {},
   "outputs": [],
   "source": []
  },
  {
   "cell_type": "code",
   "execution_count": null,
   "id": "9c94b7da",
   "metadata": {},
   "outputs": [],
   "source": [
    "## Testing"
   ]
  },
  {
   "cell_type": "code",
   "execution_count": null,
   "id": "b5ed1efd",
   "metadata": {},
   "outputs": [],
   "source": [
    "def url_is_bad(url):\n",
    "    X_url = tokenizer.texts_to_matrix([url])\n",
    "    url_prediction = model.predict(X_url)\n",
    "    return bool(np.where(url_prediction[0] == max(url_prediction[0]))[0][0])"
   ]
  },
  {
   "cell_type": "code",
   "execution_count": null,
   "id": "020e76c3",
   "metadata": {},
   "outputs": [],
   "source": [
    "url = \"/index.php?q=../../../../../../../../../etc/passwd\"\n",
    "print(\"Is bad ?\", url_is_bad(url))"
   ]
  },
  {
   "cell_type": "code",
   "execution_count": null,
   "id": "32708ce1",
   "metadata": {},
   "outputs": [],
   "source": [
    "url = \"/test.php?q=data\"\n",
    "print(\"Is bad ?\", url_is_bad(url))"
   ]
  }
 ],
 "metadata": {
  "kernelspec": {
   "display_name": "Python 3",
   "language": "python",
   "name": "python3"
  },
  "language_info": {
   "codemirror_mode": {
    "name": "ipython",
    "version": 3
   },
   "file_extension": ".py",
   "mimetype": "text/x-python",
   "name": "python",
   "nbconvert_exporter": "python",
   "pygments_lexer": "ipython3",
   "version": "3.6.14"
  }
 },
 "nbformat": 4,
 "nbformat_minor": 5
}
