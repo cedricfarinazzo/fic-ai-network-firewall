{
 "cells": [
  {
   "cell_type": "code",
   "execution_count": 1,
   "id": "896b1c2e",
   "metadata": {},
   "outputs": [],
   "source": [
    "from sklearn.feature_extraction.text import TfidfVectorizer\n",
    "import os\n",
    "from sklearn.model_selection import train_test_split\n",
    "from sklearn.linear_model import LogisticRegression\n",
    "from sklearn import metrics\n",
    "import urllib.parse\n",
    "import matplotlib.pyplot as plt"
   ]
  },
  {
   "cell_type": "code",
   "execution_count": 2,
   "id": "471d170d",
   "metadata": {},
   "outputs": [
    {
     "name": "stdout",
     "output_type": "stream",
     "text": [
      "time: 147 µs (started: 2021-07-28 21:07:35 +00:00)\n"
     ]
    }
   ],
   "source": [
    "%matplotlib inline\n",
    "%load_ext autotime"
   ]
  },
  {
   "cell_type": "code",
   "execution_count": 3,
   "id": "532bb8dc",
   "metadata": {},
   "outputs": [
    {
     "name": "stdout",
     "output_type": "stream",
     "text": [
      "time: 6.2 ms (started: 2021-07-28 21:07:35 +00:00)\n"
     ]
    }
   ],
   "source": [
    "## Loading data"
   ]
  },
  {
   "cell_type": "code",
   "execution_count": 4,
   "id": "2552eb0b",
   "metadata": {},
   "outputs": [
    {
     "name": "stdout",
     "output_type": "stream",
     "text": [
      "time: 1.87 ms (started: 2021-07-28 21:07:35 +00:00)\n"
     ]
    }
   ],
   "source": [
    "def loadFile(name):\n",
    "    filepath = os.path.join(str(os.getcwd()), name)\n",
    "    with open(filepath,'r') as f:\n",
    "        data = f.readlines()\n",
    "    return [str(urllib.parse.unquote(e)) for e in list(set(data))]"
   ]
  },
  {
   "cell_type": "code",
   "execution_count": 5,
   "id": "5f4d2699",
   "metadata": {},
   "outputs": [
    {
     "name": "stdout",
     "output_type": "stream",
     "text": [
      "time: 131 ms (started: 2021-07-28 21:07:35 +00:00)\n"
     ]
    }
   ],
   "source": [
    "badQueries = loadFile('dataset/badqueries.txt')\n",
    "\n",
    "badCount = len(badQueries)"
   ]
  },
  {
   "cell_type": "code",
   "execution_count": 6,
   "id": "d0af3ed9",
   "metadata": {},
   "outputs": [
    {
     "name": "stdout",
     "output_type": "stream",
     "text": [
      "time: 935 ms (started: 2021-07-28 21:07:35 +00:00)\n"
     ]
    }
   ],
   "source": [
    "validQueries = loadFile('dataset/goodqueries.txt')\n",
    "\n",
    "validCount = len(validQueries)"
   ]
  },
  {
   "cell_type": "code",
   "execution_count": 7,
   "id": "51734185",
   "metadata": {},
   "outputs": [
    {
     "name": "stdout",
     "output_type": "stream",
     "text": [
      "time: 15.8 ms (started: 2021-07-28 21:07:36 +00:00)\n"
     ]
    }
   ],
   "source": [
    "queries = badQueries + validQueries"
   ]
  },
  {
   "cell_type": "code",
   "execution_count": 8,
   "id": "170b8e12",
   "metadata": {},
   "outputs": [
    {
     "name": "stdout",
     "output_type": "stream",
     "text": [
      "bad:  44713\n",
      "good:  1265994\n",
      "all:  1310707\n",
      "time: 7.53 ms (started: 2021-07-28 21:07:36 +00:00)\n"
     ]
    }
   ],
   "source": [
    "print(\"bad: \", badCount)\n",
    "print(\"good: \", validCount)\n",
    "print(\"all: \", badCount + validCount)"
   ]
  },
  {
   "cell_type": "code",
   "execution_count": 9,
   "id": "4de9d702",
   "metadata": {},
   "outputs": [
    {
     "name": "stdout",
     "output_type": "stream",
     "text": [
      "time: 52.1 ms (started: 2021-07-28 21:07:36 +00:00)\n"
     ]
    }
   ],
   "source": [
    "yBad = [1 for i in range(0, len(badQueries))]  #labels, 1 for malicious and 0 for clean\n",
    "yGood = [0 for i in range(0, len(validQueries))]"
   ]
  },
  {
   "cell_type": "code",
   "execution_count": 10,
   "id": "8dc323aa",
   "metadata": {},
   "outputs": [
    {
     "name": "stdout",
     "output_type": "stream",
     "text": [
      "time: 5.02 ms (started: 2021-07-28 21:07:36 +00:00)\n"
     ]
    }
   ],
   "source": [
    "y = yBad + yGood"
   ]
  },
  {
   "cell_type": "code",
   "execution_count": null,
   "id": "ecfa268f",
   "metadata": {},
   "outputs": [],
   "source": []
  },
  {
   "cell_type": "code",
   "execution_count": 11,
   "id": "0e809dd9",
   "metadata": {},
   "outputs": [
    {
     "name": "stdout",
     "output_type": "stream",
     "text": [
      "time: 2.12 ms (started: 2021-07-28 21:07:36 +00:00)\n"
     ]
    }
   ],
   "source": [
    "## Preparing the dataset"
   ]
  },
  {
   "cell_type": "code",
   "execution_count": 12,
   "id": "c81e1682",
   "metadata": {},
   "outputs": [
    {
     "name": "stdout",
     "output_type": "stream",
     "text": [
      "time: 37.2 s (started: 2021-07-28 21:07:36 +00:00)\n"
     ]
    }
   ],
   "source": [
    "vectorizer = TfidfVectorizer(min_df = 0.0, analyzer=\"char\", sublinear_tf=True, ngram_range=(1,3)) #converting data to vectors\n",
    "X = vectorizer.fit_transform(queries)"
   ]
  },
  {
   "cell_type": "code",
   "execution_count": 13,
   "id": "96aebe2a",
   "metadata": {},
   "outputs": [
    {
     "data": {
      "text/plain": [
       "<1310707x97832 sparse matrix of type '<class 'numpy.float64'>'\n",
       "\twith 60129598 stored elements in Compressed Sparse Row format>"
      ]
     },
     "execution_count": 13,
     "metadata": {},
     "output_type": "execute_result"
    },
    {
     "name": "stdout",
     "output_type": "stream",
     "text": [
      "time: 3.04 ms (started: 2021-07-28 21:08:13 +00:00)\n"
     ]
    }
   ],
   "source": [
    "X"
   ]
  },
  {
   "cell_type": "code",
   "execution_count": 14,
   "id": "a8c8eeaf",
   "metadata": {},
   "outputs": [
    {
     "name": "stdout",
     "output_type": "stream",
     "text": [
      "time: 602 ms (started: 2021-07-28 21:08:13 +00:00)\n"
     ]
    }
   ],
   "source": [
    "X_train, X_test, y_train, y_test = train_test_split(X, y, test_size=0.2) #splitting data"
   ]
  },
  {
   "cell_type": "code",
   "execution_count": null,
   "id": "1263571b",
   "metadata": {},
   "outputs": [],
   "source": []
  },
  {
   "cell_type": "code",
   "execution_count": 15,
   "id": "0144d21e",
   "metadata": {},
   "outputs": [
    {
     "name": "stdout",
     "output_type": "stream",
     "text": [
      "time: 209 µs (started: 2021-07-28 21:08:14 +00:00)\n"
     ]
    }
   ],
   "source": [
    "## Training"
   ]
  },
  {
   "cell_type": "code",
   "execution_count": 16,
   "id": "1926f6e8",
   "metadata": {},
   "outputs": [
    {
     "name": "stderr",
     "output_type": "stream",
     "text": [
      "/usr/local/lib/python3.6/site-packages/sklearn/linear_model/_logistic.py:765: ConvergenceWarning: lbfgs failed to converge (status=1):\n",
      "STOP: TOTAL NO. of ITERATIONS REACHED LIMIT.\n",
      "\n",
      "Increase the number of iterations (max_iter) or scale the data as shown in:\n",
      "    https://scikit-learn.org/stable/modules/preprocessing.html\n",
      "Please also refer to the documentation for alternative solver options:\n",
      "    https://scikit-learn.org/stable/modules/linear_model.html#logistic-regression\n",
      "  extra_warning_msg=_LOGISTIC_SOLVER_CONVERGENCE_MSG)\n"
     ]
    },
    {
     "data": {
      "text/plain": [
       "LogisticRegression(class_weight={0: 1.0, 1: 56.62755798090041})"
      ]
     },
     "execution_count": 16,
     "metadata": {},
     "output_type": "execute_result"
    },
    {
     "name": "stdout",
     "output_type": "stream",
     "text": [
      "time: 29.4 s (started: 2021-07-28 21:08:14 +00:00)\n"
     ]
    }
   ],
   "source": [
    "lgs = LogisticRegression(class_weight={1: 2 * validCount / badCount, 0: 1.0}) # class_weight='balanced')\n",
    "lgs.fit(X_train, y_train) #training our model"
   ]
  },
  {
   "cell_type": "code",
   "execution_count": null,
   "id": "df510cd8",
   "metadata": {},
   "outputs": [],
   "source": []
  },
  {
   "cell_type": "code",
   "execution_count": 17,
   "id": "e8260d54",
   "metadata": {},
   "outputs": [
    {
     "name": "stdout",
     "output_type": "stream",
     "text": [
      "time: 349 µs (started: 2021-07-28 21:08:43 +00:00)\n"
     ]
    }
   ],
   "source": [
    "## Metrics"
   ]
  },
  {
   "cell_type": "code",
   "execution_count": 18,
   "id": "3477e6d6",
   "metadata": {},
   "outputs": [
    {
     "name": "stdout",
     "output_type": "stream",
     "text": [
      "time: 26.7 ms (started: 2021-07-28 21:08:43 +00:00)\n"
     ]
    }
   ],
   "source": [
    "predicted = lgs.predict(X_test)"
   ]
  },
  {
   "cell_type": "code",
   "execution_count": 19,
   "id": "71a6c388",
   "metadata": {},
   "outputs": [
    {
     "name": "stdout",
     "output_type": "stream",
     "text": [
      "time: 107 ms (started: 2021-07-28 21:08:43 +00:00)\n"
     ]
    }
   ],
   "source": [
    "fpr, tpr, _ = metrics.roc_curve(y_test, (lgs.predict_proba(X_test)[:, 1]))\n",
    "auc = metrics.auc(fpr, tpr)"
   ]
  },
  {
   "cell_type": "code",
   "execution_count": 20,
   "id": "f12ec18d",
   "metadata": {},
   "outputs": [
    {
     "name": "stdout",
     "output_type": "stream",
     "text": [
      "Bad samples: 44713\n",
      "Good samples: 1265994\n",
      "Baseline Constant negative: 0.965886\n",
      "------------\n",
      "Accuracy: 0.999371\n",
      "Precision: 0.984261\n",
      "Recall: 0.997799\n",
      "F1-Score: 0.990984\n",
      "AUC: 0.999971\n",
      "time: 454 ms (started: 2021-07-28 21:08:43 +00:00)\n"
     ]
    }
   ],
   "source": [
    "print(\"Bad samples: %d\" % badCount)\n",
    "print(\"Good samples: %d\" % validCount)\n",
    "print(\"Baseline Constant negative: %.6f\" % (validCount / (validCount + badCount)))\n",
    "print(\"------------\")\n",
    "print(\"Accuracy: %f\" % lgs.score(X_test, y_test))  #checking the accuracy\n",
    "print(\"Precision: %f\" % metrics.precision_score(y_test, predicted))\n",
    "print(\"Recall: %f\" % metrics.recall_score(y_test, predicted))\n",
    "print(\"F1-Score: %f\" % metrics.f1_score(y_test, predicted))\n",
    "print(\"AUC: %f\" % auc)"
   ]
  },
  {
   "cell_type": "code",
   "execution_count": null,
   "id": "ef8143fa",
   "metadata": {},
   "outputs": [],
   "source": []
  },
  {
   "cell_type": "code",
   "execution_count": 21,
   "id": "9c94b7da",
   "metadata": {},
   "outputs": [
    {
     "name": "stdout",
     "output_type": "stream",
     "text": [
      "time: 228 µs (started: 2021-07-28 21:08:44 +00:00)\n"
     ]
    }
   ],
   "source": [
    "## Testing"
   ]
  },
  {
   "cell_type": "code",
   "execution_count": 22,
   "id": "6be2f7f3",
   "metadata": {},
   "outputs": [
    {
     "name": "stdout",
     "output_type": "stream",
     "text": [
      "time: 4.54 ms (started: 2021-07-28 21:08:44 +00:00)\n"
     ]
    }
   ],
   "source": [
    "def url_is_bad(url):\n",
    "    X_url = vectorizer.transform([url])\n",
    "    return bool(lgs.predict(X_url)[0])"
   ]
  },
  {
   "cell_type": "code",
   "execution_count": 23,
   "id": "a04c3c70",
   "metadata": {},
   "outputs": [
    {
     "name": "stdout",
     "output_type": "stream",
     "text": [
      "Is bad ? True\n",
      "time: 3.2 ms (started: 2021-07-28 21:08:44 +00:00)\n"
     ]
    }
   ],
   "source": [
    "url = \"/index.php?q=../../../../../../../../../etc/passwd\"\n",
    "print(\"Is bad ?\", url_is_bad(url))"
   ]
  },
  {
   "cell_type": "code",
   "execution_count": 24,
   "id": "32708ce1",
   "metadata": {},
   "outputs": [
    {
     "name": "stdout",
     "output_type": "stream",
     "text": [
      "Is bad ? False\n",
      "time: 2.37 ms (started: 2021-07-28 21:08:44 +00:00)\n"
     ]
    }
   ],
   "source": [
    "url = \"/test.php?q=data\"\n",
    "print(\"Is bad ?\", url_is_bad(url))"
   ]
  }
 ],
 "metadata": {
  "kernelspec": {
   "display_name": "Python 3",
   "language": "python",
   "name": "python3"
  },
  "language_info": {
   "codemirror_mode": {
    "name": "ipython",
    "version": 3
   },
   "file_extension": ".py",
   "mimetype": "text/x-python",
   "name": "python",
   "nbconvert_exporter": "python",
   "pygments_lexer": "ipython3",
   "version": "3.6.14"
  }
 },
 "nbformat": 4,
 "nbformat_minor": 5
}
