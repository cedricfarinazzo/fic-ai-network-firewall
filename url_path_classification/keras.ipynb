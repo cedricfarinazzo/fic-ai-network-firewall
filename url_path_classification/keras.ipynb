{
 "cells": [
  {
   "cell_type": "code",
   "execution_count": 1,
   "id": "896b1c2e",
   "metadata": {},
   "outputs": [],
   "source": [
    "from sklearn.feature_extraction.text import TfidfVectorizer\n",
    "import os\n",
    "from sklearn.model_selection import train_test_split\n",
    "from sklearn.linear_model import LogisticRegression\n",
    "import numpy as np\n",
    "import tensorflow as tf\n",
    "from tensorflow.keras.preprocessing.text import Tokenizer\n",
    "from tensorflow.keras.models import Sequential\n",
    "from tensorflow.keras.layers import Dense, LSTM, Flatten\n",
    "from tensorflow.keras.optimizers import SGD\n",
    "\n",
    "import urllib.parse\n",
    "import matplotlib.pyplot as plt"
   ]
  },
  {
   "cell_type": "code",
   "execution_count": 2,
   "id": "471d170d",
   "metadata": {},
   "outputs": [],
   "source": [
    "%matplotlib inline"
   ]
  },
  {
   "cell_type": "code",
   "execution_count": 3,
   "id": "532bb8dc",
   "metadata": {},
   "outputs": [],
   "source": [
    "## Loading data"
   ]
  },
  {
   "cell_type": "code",
   "execution_count": 4,
   "id": "2552eb0b",
   "metadata": {},
   "outputs": [],
   "source": [
    "def loadFile(name):\n",
    "    filepath = os.path.join(str(os.getcwd()), name)\n",
    "    with open(filepath,'r') as f:\n",
    "        data = f.readlines()\n",
    "    return [str(urllib.parse.unquote(e)) for e in list(set(data))]"
   ]
  },
  {
   "cell_type": "code",
   "execution_count": 5,
   "id": "5f4d2699",
   "metadata": {},
   "outputs": [],
   "source": [
    "badQueries = loadFile('dataset/badqueries.txt')\n",
    "\n",
    "badCount = len(badQueries)"
   ]
  },
  {
   "cell_type": "code",
   "execution_count": 6,
   "id": "d0af3ed9",
   "metadata": {},
   "outputs": [],
   "source": [
    "validQueries = loadFile('dataset/goodqueries.txt')\n",
    "\n",
    "validCount = len(validQueries)"
   ]
  },
  {
   "cell_type": "code",
   "execution_count": 7,
   "id": "51734185",
   "metadata": {},
   "outputs": [],
   "source": [
    "queries = badQueries + validQueries"
   ]
  },
  {
   "cell_type": "code",
   "execution_count": 8,
   "id": "170b8e12",
   "metadata": {},
   "outputs": [
    {
     "name": "stdout",
     "output_type": "stream",
     "text": [
      "bad:  44713\n",
      "good:  1265994\n",
      "all:  1310707\n"
     ]
    }
   ],
   "source": [
    "print(\"bad: \", badCount)\n",
    "print(\"good: \", validCount)\n",
    "print(\"all: \", badCount + validCount)"
   ]
  },
  {
   "cell_type": "code",
   "execution_count": 9,
   "id": "4de9d702",
   "metadata": {},
   "outputs": [],
   "source": [
    "yBad = [1 for i in range(0, len(badQueries))]  #labels, 1 for malicious and 0 for clean\n",
    "yGood = [0 for i in range(0, len(validQueries))]"
   ]
  },
  {
   "cell_type": "code",
   "execution_count": 10,
   "id": "8dc323aa",
   "metadata": {},
   "outputs": [],
   "source": [
    "y = yBad + yGood"
   ]
  },
  {
   "cell_type": "code",
   "execution_count": null,
   "id": "ecfa268f",
   "metadata": {},
   "outputs": [],
   "source": []
  },
  {
   "cell_type": "code",
   "execution_count": 11,
   "id": "0e809dd9",
   "metadata": {},
   "outputs": [],
   "source": [
    "## Preparing the dataset"
   ]
  },
  {
   "cell_type": "code",
   "execution_count": 12,
   "id": "0f25bc34",
   "metadata": {},
   "outputs": [],
   "source": [
    "tokenizer = Tokenizer(filters=\"\", lower=False, char_level=True)"
   ]
  },
  {
   "cell_type": "code",
   "execution_count": 13,
   "id": "70e64a1b",
   "metadata": {},
   "outputs": [],
   "source": [
    "X = tokenizer.fit_on_texts(queries)"
   ]
  },
  {
   "cell_type": "code",
   "execution_count": 14,
   "id": "2d6e28e7",
   "metadata": {},
   "outputs": [],
   "source": [
    "X = tokenizer.texts_to_matrix(queries)"
   ]
  },
  {
   "cell_type": "code",
   "execution_count": null,
   "id": "61bbfc22",
   "metadata": {},
   "outputs": [],
   "source": []
  },
  {
   "cell_type": "code",
   "execution_count": 15,
   "id": "a8c8eeaf",
   "metadata": {},
   "outputs": [],
   "source": [
    "X_train, X_test, y_train, y_test = train_test_split(X, y, test_size=0.2) #splitting data"
   ]
  },
  {
   "cell_type": "code",
   "execution_count": null,
   "id": "1263571b",
   "metadata": {},
   "outputs": [],
   "source": []
  },
  {
   "cell_type": "code",
   "execution_count": 16,
   "id": "76a22870",
   "metadata": {},
   "outputs": [],
   "source": [
    "## Building the model"
   ]
  },
  {
   "cell_type": "code",
   "execution_count": 17,
   "id": "7c1c6e16",
   "metadata": {},
   "outputs": [],
   "source": [
    "def gen_model(input_size, hidden_layer_count, hidden_layer_size):\n",
    "    model = Sequential()\n",
    "    model.add(Dense(input_size))\n",
    "    for _ in range(hidden_layer_count):\n",
    "        model.add(Dense(hidden_layer_size, activation='sigmoid'))\n",
    "    model.add(Dense(1))\n",
    "    \n",
    "    model.compile(loss='mean_squared_error', optimizer='adam', metrics=['accuracy'])\n",
    "    \n",
    "    return model"
   ]
  },
  {
   "cell_type": "code",
   "execution_count": 18,
   "id": "b6585e13",
   "metadata": {},
   "outputs": [],
   "source": [
    "model = gen_model(X.shape[-1], 6, 128)"
   ]
  },
  {
   "cell_type": "code",
   "execution_count": null,
   "id": "bf3128ed",
   "metadata": {},
   "outputs": [],
   "source": []
  },
  {
   "cell_type": "code",
   "execution_count": 19,
   "id": "7f744f23",
   "metadata": {},
   "outputs": [],
   "source": [
    "## Training"
   ]
  },
  {
   "cell_type": "code",
   "execution_count": 20,
   "id": "8043c477",
   "metadata": {},
   "outputs": [],
   "source": [
    "def train_model(model, epochs, batch_size, X_train, y_train, X_test, y_test):\n",
    "    X_train = np.asarray(X_train)\n",
    "    X_test = np.asarray(X_test)\n",
    "    y_train = np.asarray(y_train)\n",
    "    y_test = np.asarray(y_test)\n",
    "\n",
    "    model.fit(X_train, y_train, epochs=epochs, batch_size=batch_size, validation_data=(X_test, y_test))\n",
    "    \n",
    "    test_loss, test_acc = model.evaluate(X_test, y_test, verbose=3)\n",
    "\n",
    "    return model, test_loss, test_acc"
   ]
  },
  {
   "cell_type": "code",
   "execution_count": 21,
   "id": "210a21a9",
   "metadata": {},
   "outputs": [
    {
     "name": "stdout",
     "output_type": "stream",
     "text": [
      "Epoch 1/5\n",
      "32768/32768 [==============================] - 63s 2ms/step - loss: 0.0068 - accuracy: 0.9927 - val_loss: 0.0052 - val_accuracy: 0.9940\n",
      "Epoch 2/5\n",
      "32768/32768 [==============================] - 66s 2ms/step - loss: 0.0054 - accuracy: 0.9940 - val_loss: 0.0049 - val_accuracy: 0.9943\n",
      "Epoch 3/5\n",
      "32768/32768 [==============================] - 66s 2ms/step - loss: 0.0050 - accuracy: 0.9942 - val_loss: 0.0049 - val_accuracy: 0.9941\n",
      "Epoch 4/5\n",
      "32768/32768 [==============================] - 66s 2ms/step - loss: 0.0048 - accuracy: 0.9944 - val_loss: 0.0045 - val_accuracy: 0.9945\n",
      "Epoch 5/5\n",
      "32768/32768 [==============================] - 65s 2ms/step - loss: 0.0046 - accuracy: 0.9945 - val_loss: 0.0048 - val_accuracy: 0.9944\n"
     ]
    }
   ],
   "source": [
    "model, test_loss, test_acc = train_model(model, 5, 32, X_train, y_train, X_test, y_test)"
   ]
  },
  {
   "cell_type": "code",
   "execution_count": null,
   "id": "5d69891d",
   "metadata": {},
   "outputs": [],
   "source": []
  },
  {
   "cell_type": "code",
   "execution_count": 22,
   "id": "3c7542cc",
   "metadata": {},
   "outputs": [],
   "source": [
    "## Metrics"
   ]
  },
  {
   "cell_type": "code",
   "execution_count": 23,
   "id": "2f80ba6b",
   "metadata": {},
   "outputs": [
    {
     "name": "stdout",
     "output_type": "stream",
     "text": [
      "Loss:  0.00478811701759696\n",
      "Accuracy:  0.9944304823875427\n"
     ]
    }
   ],
   "source": [
    "print(\"Loss: \", test_loss)\n",
    "print(\"Accuracy: \", test_acc)"
   ]
  },
  {
   "cell_type": "code",
   "execution_count": 24,
   "id": "9b623c47",
   "metadata": {},
   "outputs": [
    {
     "name": "stdout",
     "output_type": "stream",
     "text": [
      "Model: \"sequential\"\n",
      "_________________________________________________________________\n",
      "Layer (type)                 Output Shape              Param #   \n",
      "=================================================================\n",
      "dense (Dense)                (None, 197)               39006     \n",
      "_________________________________________________________________\n",
      "dense_1 (Dense)              (None, 128)               25344     \n",
      "_________________________________________________________________\n",
      "dense_2 (Dense)              (None, 128)               16512     \n",
      "_________________________________________________________________\n",
      "dense_3 (Dense)              (None, 128)               16512     \n",
      "_________________________________________________________________\n",
      "dense_4 (Dense)              (None, 128)               16512     \n",
      "_________________________________________________________________\n",
      "dense_5 (Dense)              (None, 128)               16512     \n",
      "_________________________________________________________________\n",
      "dense_6 (Dense)              (None, 128)               16512     \n",
      "_________________________________________________________________\n",
      "dense_7 (Dense)              (None, 1)                 129       \n",
      "=================================================================\n",
      "Total params: 147,039\n",
      "Trainable params: 147,039\n",
      "Non-trainable params: 0\n",
      "_________________________________________________________________\n"
     ]
    }
   ],
   "source": [
    "model.summary()"
   ]
  },
  {
   "cell_type": "code",
   "execution_count": null,
   "id": "ef8143fa",
   "metadata": {},
   "outputs": [],
   "source": []
  },
  {
   "cell_type": "code",
   "execution_count": 25,
   "id": "9c94b7da",
   "metadata": {},
   "outputs": [],
   "source": [
    "## Testing"
   ]
  },
  {
   "cell_type": "code",
   "execution_count": 44,
   "id": "46096852",
   "metadata": {},
   "outputs": [],
   "source": [
    "def url_is_bad(url):\n",
    "    X_url = tokenizer.texts_to_matrix([url])\n",
    "    return round(max(0., min(1., model.predict(X_url)[0][0])) * 100, 2)"
   ]
  },
  {
   "cell_type": "code",
   "execution_count": 51,
   "id": "9b42f3b8",
   "metadata": {},
   "outputs": [
    {
     "name": "stdout",
     "output_type": "stream",
     "text": [
      "Is bad ? 100.0 %\n"
     ]
    }
   ],
   "source": [
    "url = \"/index.php?q=../../../../../../../../../etc/passwd\"\n",
    "print(\"Is bad ?\", url_is_bad(url), \"%\")"
   ]
  },
  {
   "cell_type": "code",
   "execution_count": 62,
   "id": "32708ce1",
   "metadata": {},
   "outputs": [
    {
     "name": "stdout",
     "output_type": "stream",
     "text": [
      "Is bad ? 24.35 %\n"
     ]
    }
   ],
   "source": [
    "url = \"/test.php?q=data\"\n",
    "print(\"Is bad ?\", url_is_bad(url), \"%\")"
   ]
  },
  {
   "cell_type": "code",
   "execution_count": null,
   "id": "9a908512",
   "metadata": {},
   "outputs": [],
   "source": []
  }
 ],
 "metadata": {
  "kernelspec": {
   "display_name": "Python 3",
   "language": "python",
   "name": "python3"
  },
  "language_info": {
   "codemirror_mode": {
    "name": "ipython",
    "version": 3
   },
   "file_extension": ".py",
   "mimetype": "text/x-python",
   "name": "python",
   "nbconvert_exporter": "python",
   "pygments_lexer": "ipython3",
   "version": "3.6.14"
  }
 },
 "nbformat": 4,
 "nbformat_minor": 5
}
